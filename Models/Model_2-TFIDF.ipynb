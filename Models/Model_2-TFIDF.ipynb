{
 "cells": [
  {
   "cell_type": "code",
   "execution_count": 4,
   "metadata": {},
   "outputs": [
    {
     "data": {
      "text/html": [
       "<div>\n",
       "<style scoped>\n",
       "    .dataframe tbody tr th:only-of-type {\n",
       "        vertical-align: middle;\n",
       "    }\n",
       "\n",
       "    .dataframe tbody tr th {\n",
       "        vertical-align: top;\n",
       "    }\n",
       "\n",
       "    .dataframe thead th {\n",
       "        text-align: right;\n",
       "    }\n",
       "</style>\n",
       "<table border=\"1\" class=\"dataframe\">\n",
       "  <thead>\n",
       "    <tr style=\"text-align: right;\">\n",
       "      <th></th>\n",
       "      <th>Title</th>\n",
       "      <th>main_category</th>\n",
       "      <th>category</th>\n",
       "      <th>date</th>\n",
       "      <th>description</th>\n",
       "    </tr>\n",
       "  </thead>\n",
       "  <tbody>\n",
       "    <tr>\n",
       "      <th>0</th>\n",
       "      <td>Over 4 Million Americans Roll Up Sleeves For O...</td>\n",
       "      <td>News</td>\n",
       "      <td>U.S. NEWS</td>\n",
       "      <td>2022-09-23</td>\n",
       "      <td>health expert said early predict whether deman...</td>\n",
       "    </tr>\n",
       "    <tr>\n",
       "      <th>1</th>\n",
       "      <td>American Airlines Flyer Charged, Banned For Li...</td>\n",
       "      <td>News</td>\n",
       "      <td>U.S. NEWS</td>\n",
       "      <td>2022-09-23</td>\n",
       "      <td>subdued passenger crew fled back aircraft conf...</td>\n",
       "    </tr>\n",
       "    <tr>\n",
       "      <th>2</th>\n",
       "      <td>23 Of The Funniest Tweets About Cats And Dogs ...</td>\n",
       "      <td>News</td>\n",
       "      <td>COMEDY</td>\n",
       "      <td>2022-09-23</td>\n",
       "      <td>dog understand could eaten</td>\n",
       "    </tr>\n",
       "    <tr>\n",
       "      <th>3</th>\n",
       "      <td>The Funniest Tweets From Parents This Week (Se...</td>\n",
       "      <td>News</td>\n",
       "      <td>PARENTING</td>\n",
       "      <td>2022-09-23</td>\n",
       "      <td>accidentally put toothpaste toothbrush screame...</td>\n",
       "    </tr>\n",
       "    <tr>\n",
       "      <th>4</th>\n",
       "      <td>Woman Who Called Cops On Black Bird-Watcher Lo...</td>\n",
       "      <td>News</td>\n",
       "      <td>U.S. NEWS</td>\n",
       "      <td>2022-09-22</td>\n",
       "      <td>amy cooper accused investment firm franklin te...</td>\n",
       "    </tr>\n",
       "  </tbody>\n",
       "</table>\n",
       "</div>"
      ],
      "text/plain": [
       "                                               Title main_category   category  \\\n",
       "0  Over 4 Million Americans Roll Up Sleeves For O...          News  U.S. NEWS   \n",
       "1  American Airlines Flyer Charged, Banned For Li...          News  U.S. NEWS   \n",
       "2  23 Of The Funniest Tweets About Cats And Dogs ...          News     COMEDY   \n",
       "3  The Funniest Tweets From Parents This Week (Se...          News  PARENTING   \n",
       "4  Woman Who Called Cops On Black Bird-Watcher Lo...          News  U.S. NEWS   \n",
       "\n",
       "         date                                        description  \n",
       "0  2022-09-23  health expert said early predict whether deman...  \n",
       "1  2022-09-23  subdued passenger crew fled back aircraft conf...  \n",
       "2  2022-09-23                         dog understand could eaten  \n",
       "3  2022-09-23  accidentally put toothpaste toothbrush screame...  \n",
       "4  2022-09-22  amy cooper accused investment firm franklin te...  "
      ]
     },
     "execution_count": 4,
     "metadata": {},
     "output_type": "execute_result"
    }
   ],
   "source": [
    "import pandas as pd\n",
    "from sklearn.feature_extraction.text import TfidfVectorizer\n",
    "from sklearn.model_selection import train_test_split\n",
    "from sklearn.naive_bayes import MultinomialNB\n",
    "from sklearn.metrics import classification_report\n",
    "\n",
    "# Step 1: Read the CSV file\n",
    "data = pd.read_csv('../Dataset/combined_final_dataset.csv')\n",
    "data.head()"
   ]
  },
  {
   "cell_type": "code",
   "execution_count": 5,
   "metadata": {},
   "outputs": [
    {
     "name": "stdout",
     "output_type": "stream",
     "text": [
      "                precision    recall  f1-score   support\n",
      "\n",
      "          News       0.87      1.00      0.93        65\n",
      "Research Paper       1.00      0.17      0.29        12\n",
      "\n",
      "      accuracy                           0.87        77\n",
      "     macro avg       0.93      0.58      0.61        77\n",
      "  weighted avg       0.89      0.87      0.83        77\n",
      "\n"
     ]
    }
   ],
   "source": [
    "\n",
    "# Step 2: Preprocess the text\n",
    "# Assuming you have preprocessed the text and stored it in a 'preprocessed_text' column\n",
    "preprocessed_text = data['description'].tolist()\n",
    "\n",
    "# Step 3: Create TF-IDF representation\n",
    "vectorizer = TfidfVectorizer()\n",
    "X = vectorizer.fit_transform(preprocessed_text)\n",
    "\n",
    "# Step 4: Split data into training and testing sets\n",
    "labels = data['main_category']  # Replace 'class_column' with the actual column name containing the class labels\n",
    "X_train, X_test, y_train, y_test = train_test_split(X, labels, test_size=0.2, random_state=42)\n",
    "\n",
    "# Step 5: Train a classifier\n",
    "classifier = MultinomialNB()\n",
    "classifier.fit(X_train, y_train)\n",
    "\n",
    "# Step 6: Make predictions\n",
    "y_pred = classifier.predict(X_test)\n",
    "\n",
    "# Step 7: Evaluate the classifier\n",
    "print(classification_report(y_test, y_pred))"
   ]
  },
  {
   "cell_type": "code",
   "execution_count": null,
   "metadata": {},
   "outputs": [],
   "source": []
  }
 ],
 "metadata": {
  "kernelspec": {
   "display_name": "Python 3",
   "language": "python",
   "name": "python3"
  },
  "language_info": {
   "codemirror_mode": {
    "name": "ipython",
    "version": 3
   },
   "file_extension": ".py",
   "mimetype": "text/x-python",
   "name": "python",
   "nbconvert_exporter": "python",
   "pygments_lexer": "ipython3",
   "version": "3.10.7"
  },
  "orig_nbformat": 4
 },
 "nbformat": 4,
 "nbformat_minor": 2
}
