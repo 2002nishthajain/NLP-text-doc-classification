{
 "cells": [
  {
   "cell_type": "code",
   "execution_count": 3,
   "metadata": {},
   "outputs": [
    {
     "data": {
      "text/plain": [
       "<bound method NDFrame.describe of                                                  Title   main_category  \\\n",
       "0    Over 4 Million Americans Roll Up Sleeves For O...            News   \n",
       "1    American Airlines Flyer Charged, Banned For Li...            News   \n",
       "2    23 Of The Funniest Tweets About Cats And Dogs ...            News   \n",
       "3    The Funniest Tweets From Parents This Week (Se...            News   \n",
       "4    Woman Who Called Cops On Black Bird-Watcher Lo...            News   \n",
       "..                                                 ...             ...   \n",
       "380  orbital polarization transition multiorbital m...  Research Paper   \n",
       "381                         intelligent life cosmology  Research Paper   \n",
       "382      mass radius unseen companion eclipsing binary  Research Paper   \n",
       "383  coulomb excitation unstable nucleus intermedia...  Research Paper   \n",
       "384    intersection body generalized cosine transforms  Research Paper   \n",
       "\n",
       "            category        date  \\\n",
       "0          U.S. NEWS  2022-09-23   \n",
       "1          U.S. NEWS  2022-09-23   \n",
       "2             COMEDY  2022-09-23   \n",
       "3          PARENTING  2022-09-23   \n",
       "4          U.S. NEWS  2022-09-22   \n",
       "..               ...         ...   \n",
       "380  cond-mat.str-el  2009-11-13   \n",
       "381   physics.pop-ph  2015-05-13   \n",
       "382         astro-ph  2009-06-23   \n",
       "383          nucl-th  2008-11-26   \n",
       "384          math.FA  2007-05-23   \n",
       "\n",
       "                                           description  \n",
       "0    health expert said early predict whether deman...  \n",
       "1    subdued passenger crew fled back aircraft conf...  \n",
       "2                           dog understand could eaten  \n",
       "3    accidentally put toothpaste toothbrush screame...  \n",
       "4    amy cooper accused investment firm franklin te...  \n",
       "..                                                 ...  \n",
       "380  study interplay crystal field splitting hund c...  \n",
       "381  shall present three argument proposition intel...  \n",
       "382  derive mass radius component eclipsing binary ...  \n",
       "383  investigate coulomb excitation state unstable ...  \n",
       "384  intersection body represent remarkable class g...  \n",
       "\n",
       "[385 rows x 5 columns]>"
      ]
     },
     "execution_count": 3,
     "metadata": {},
     "output_type": "execute_result"
    }
   ],
   "source": [
    "import pandas as pd\n",
    "from sklearn.feature_extraction.text import CountVectorizer\n",
    "\n",
    "# Step 1: Read the CSV file\n",
    "data = pd.read_csv('../Dataset/combined_final_dataset.csv')\n",
    "data.describe"
   ]
  },
  {
   "cell_type": "code",
   "execution_count": 4,
   "metadata": {},
   "outputs": [
    {
     "name": "stdout",
     "output_type": "stream",
     "text": [
      "Word: said, Frequency: 33\n",
      "Word: new, Frequency: 31\n",
      "Word: year, Frequency: 21\n",
      "Word: one, Frequency: 20\n",
      "Word: two, Frequency: 18\n",
      "Word: trump, Frequency: 17\n",
      "Word: day, Frequency: 16\n",
      "Word: president, Frequency: 16\n",
      "Word: people, Frequency: 15\n",
      "Word: say, Frequency: 15\n"
     ]
    }
   ],
   "source": [
    "\n",
    "#create a separate list of descriptions for each class in main_category column\n",
    "preprocessed_text_news = data[data['main_category'] == 'News']['description'].tolist()\n",
    "preprocessed_text_research = data[data['main_category'] == 'Research Paper']['description'].tolist()\n",
    "\n",
    "\n",
    "# Step 3: Word Frequency Analysis for news category\n",
    "# Create a vocabulary and count word occurrences\n",
    "vectorizer = CountVectorizer()\n",
    "word_freq_matrix = vectorizer.fit_transform(preprocessed_text_news)\n",
    "\n",
    "# Get the word frequency counts\n",
    "word_freq_counts = word_freq_matrix.sum(axis=0)\n",
    "\n",
    "# Create a list of words and their corresponding frequencies\n",
    "word_freq_list = [(word, word_freq_counts[0, id]) for word, id in vectorizer.vocabulary_.items()]\n",
    "\n",
    "# Sort the word frequency list in descending order of frequencies\n",
    "sorted_word_freq_list = sorted(word_freq_list, key=lambda x: x[1], reverse=True)\n",
    "\n",
    "# Display the top 10 words with their frequencies\n",
    "top_words = sorted_word_freq_list[:10]\n",
    "for word, freq in top_words:\n",
    "    print(f\"Word: {word}, Frequency: {freq}\")"
   ]
  },
  {
   "cell_type": "code",
   "execution_count": 5,
   "metadata": {},
   "outputs": [
    {
     "name": "stdout",
     "output_type": "stream",
     "text": [
      "Word: quantum, Frequency: 30\n",
      "Word: result, Frequency: 28\n",
      "Word: method, Frequency: 27\n",
      "Word: model, Frequency: 23\n",
      "Word: field, Frequency: 21\n",
      "Word: system, Frequency: 20\n",
      "Word: theory, Frequency: 19\n",
      "Word: also, Frequency: 18\n",
      "Word: present, Frequency: 18\n",
      "Word: show, Frequency: 18\n"
     ]
    }
   ],
   "source": [
    "vectorizer = CountVectorizer()\n",
    "word_freq_matrix = vectorizer.fit_transform(preprocessed_text_research)\n",
    "\n",
    "# Get the word frequency counts\n",
    "word_freq_counts = word_freq_matrix.sum(axis=0)\n",
    "\n",
    "# Create a list of words and their corresponding frequencies\n",
    "word_freq_list = [(word, word_freq_counts[0, id]) for word, id in vectorizer.vocabulary_.items()]\n",
    "\n",
    "# Sort the word frequency list in descending order of frequencies\n",
    "sorted_word_freq_list = sorted(word_freq_list, key=lambda x: x[1], reverse=True)\n",
    "\n",
    "# Display the top 10 words with their frequencies\n",
    "top_words = sorted_word_freq_list[:10]\n",
    "for word, freq in top_words:\n",
    "    print(f\"Word: {word}, Frequency: {freq}\")"
   ]
  },
  {
   "cell_type": "code",
   "execution_count": null,
   "metadata": {},
   "outputs": [],
   "source": []
  }
 ],
 "metadata": {
  "kernelspec": {
   "display_name": "Python 3",
   "language": "python",
   "name": "python3"
  },
  "language_info": {
   "codemirror_mode": {
    "name": "ipython",
    "version": 3
   },
   "file_extension": ".py",
   "mimetype": "text/x-python",
   "name": "python",
   "nbconvert_exporter": "python",
   "pygments_lexer": "ipython3",
   "version": "3.10.7"
  },
  "orig_nbformat": 4
 },
 "nbformat": 4,
 "nbformat_minor": 2
}
