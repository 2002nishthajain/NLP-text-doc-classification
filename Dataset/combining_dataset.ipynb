{
 "cells": [
  {
   "cell_type": "code",
<<<<<<< HEAD
   "execution_count": 55,
=======
   "execution_count": 36,
>>>>>>> 10531f430d4da9d232f36740d878e0e929967a53
   "metadata": {},
   "outputs": [
    {
     "data": {
      "text/html": [
       "<div>\n",
       "<style scoped>\n",
       "    .dataframe tbody tr th:only-of-type {\n",
       "        vertical-align: middle;\n",
       "    }\n",
       "\n",
       "    .dataframe tbody tr th {\n",
       "        vertical-align: top;\n",
       "    }\n",
       "\n",
       "    .dataframe thead th {\n",
       "        text-align: right;\n",
       "    }\n",
       "</style>\n",
       "<table border=\"1\" class=\"dataframe\">\n",
       "  <thead>\n",
       "    <tr style=\"text-align: right;\">\n",
       "      <th></th>\n",
       "      <th>headline</th>\n",
       "      <th>category</th>\n",
       "      <th>date</th>\n",
       "      <th>short_description_clean</th>\n",
       "      <th>main_category</th>\n",
       "    </tr>\n",
       "  </thead>\n",
       "  <tbody>\n",
       "    <tr>\n",
       "      <th>0</th>\n",
       "      <td>Over 4 Million Americans Roll Up Sleeves For O...</td>\n",
       "      <td>U.S. NEWS</td>\n",
       "      <td>2022-09-23</td>\n",
       "      <td>health expert said early predict whether deman...</td>\n",
       "      <td>News</td>\n",
       "    </tr>\n",
       "    <tr>\n",
       "      <th>1</th>\n",
       "      <td>American Airlines Flyer Charged, Banned For Li...</td>\n",
       "      <td>U.S. NEWS</td>\n",
       "      <td>2022-09-23</td>\n",
       "      <td>subdued passenger crew fled back aircraft conf...</td>\n",
       "      <td>News</td>\n",
       "    </tr>\n",
       "    <tr>\n",
       "      <th>2</th>\n",
       "      <td>23 Of The Funniest Tweets About Cats And Dogs ...</td>\n",
       "      <td>COMEDY</td>\n",
       "      <td>2022-09-23</td>\n",
       "      <td>dog understand could eaten</td>\n",
       "      <td>News</td>\n",
       "    </tr>\n",
       "    <tr>\n",
       "      <th>3</th>\n",
       "      <td>The Funniest Tweets From Parents This Week (Se...</td>\n",
       "      <td>PARENTING</td>\n",
       "      <td>2022-09-23</td>\n",
       "      <td>accidentally put toothpaste toothbrush screame...</td>\n",
       "      <td>News</td>\n",
       "    </tr>\n",
       "    <tr>\n",
       "      <th>4</th>\n",
       "      <td>Woman Who Called Cops On Black Bird-Watcher Lo...</td>\n",
       "      <td>U.S. NEWS</td>\n",
       "      <td>2022-09-22</td>\n",
       "      <td>amy cooper accused investment firm franklin te...</td>\n",
       "      <td>News</td>\n",
       "    </tr>\n",
       "  </tbody>\n",
       "</table>\n",
       "</div>"
      ],
      "text/plain": [
       "                                            headline   category        date  \\\n",
       "0  Over 4 Million Americans Roll Up Sleeves For O...  U.S. NEWS  2022-09-23   \n",
       "1  American Airlines Flyer Charged, Banned For Li...  U.S. NEWS  2022-09-23   \n",
       "2  23 Of The Funniest Tweets About Cats And Dogs ...     COMEDY  2022-09-23   \n",
       "3  The Funniest Tweets From Parents This Week (Se...  PARENTING  2022-09-23   \n",
       "4  Woman Who Called Cops On Black Bird-Watcher Lo...  U.S. NEWS  2022-09-22   \n",
       "\n",
       "                             short_description_clean main_category  \n",
       "0  health expert said early predict whether deman...          News  \n",
       "1  subdued passenger crew fled back aircraft conf...          News  \n",
       "2                         dog understand could eaten          News  \n",
       "3  accidentally put toothpaste toothbrush screame...          News  \n",
       "4  amy cooper accused investment firm franklin te...          News  "
      ]
     },
<<<<<<< HEAD
     "execution_count": 55,
=======
     "execution_count": 36,
>>>>>>> 10531f430d4da9d232f36740d878e0e929967a53
     "metadata": {},
     "output_type": "execute_result"
    }
   ],
   "source": [
    "import pandas as pd\n",
    "\n",
    "news = pd.read_csv(r'News_final_dataset.csv')\n",
    "news.head()"
   ]
  },
  {
   "cell_type": "code",
<<<<<<< HEAD
   "execution_count": 56,
=======
   "execution_count": 37,
>>>>>>> 10531f430d4da9d232f36740d878e0e929967a53
   "metadata": {},
   "outputs": [
    {
     "data": {
      "text/html": [
       "<div>\n",
       "<style scoped>\n",
       "    .dataframe tbody tr th:only-of-type {\n",
       "        vertical-align: middle;\n",
       "    }\n",
       "\n",
       "    .dataframe tbody tr th {\n",
       "        vertical-align: top;\n",
       "    }\n",
       "\n",
       "    .dataframe thead th {\n",
       "        text-align: right;\n",
       "    }\n",
       "</style>\n",
       "<table border=\"1\" class=\"dataframe\">\n",
       "  <thead>\n",
       "    <tr style=\"text-align: right;\">\n",
       "      <th></th>\n",
       "      <th>categories</th>\n",
       "      <th>update_date</th>\n",
       "      <th>title_clean</th>\n",
       "      <th>abstract_clean</th>\n",
       "      <th>main_category</th>\n",
       "    </tr>\n",
       "  </thead>\n",
       "  <tbody>\n",
       "    <tr>\n",
       "      <th>0</th>\n",
       "      <td>hep-ph</td>\n",
       "      <td>2008-11-26</td>\n",
       "      <td>calculation prompt diphoton production cross s...</td>\n",
       "      <td>fully differential calculation perturbative qu...</td>\n",
       "      <td>Research Paper</td>\n",
       "    </tr>\n",
       "    <tr>\n",
       "      <th>1</th>\n",
       "      <td>math.CO cs.CG</td>\n",
       "      <td>2008-12-13</td>\n",
       "      <td>graph decomposition</td>\n",
       "      <td>describe new algorithm k game color use obtain...</td>\n",
       "      <td>Research Paper</td>\n",
       "    </tr>\n",
       "    <tr>\n",
       "      <th>2</th>\n",
       "      <td>physics.gen-ph</td>\n",
       "      <td>2008-01-13</td>\n",
       "      <td>evolution system based dark matter field fluid...</td>\n",
       "      <td>evolution system described dark matter field f...</td>\n",
       "      <td>Research Paper</td>\n",
       "    </tr>\n",
       "    <tr>\n",
       "      <th>3</th>\n",
       "      <td>math.CO</td>\n",
       "      <td>2007-05-23</td>\n",
       "      <td>determinant stirling cycle number count unlabe...</td>\n",
       "      <td>show determinant stirling cycle number count u...</td>\n",
       "      <td>Research Paper</td>\n",
       "    </tr>\n",
       "    <tr>\n",
       "      <th>4</th>\n",
       "      <td>math.CA math.FA</td>\n",
       "      <td>2013-10-15</td>\n",
       "      <td>dyadic</td>\n",
       "      <td>paper show compute norm using dyadic grid resu...</td>\n",
       "      <td>Research Paper</td>\n",
       "    </tr>\n",
       "  </tbody>\n",
       "</table>\n",
       "</div>"
      ],
      "text/plain": [
       "        categories update_date  \\\n",
       "0           hep-ph  2008-11-26   \n",
       "1    math.CO cs.CG  2008-12-13   \n",
       "2   physics.gen-ph  2008-01-13   \n",
       "3          math.CO  2007-05-23   \n",
       "4  math.CA math.FA  2013-10-15   \n",
       "\n",
       "                                         title_clean  \\\n",
       "0  calculation prompt diphoton production cross s...   \n",
       "1                                graph decomposition   \n",
       "2  evolution system based dark matter field fluid...   \n",
       "3  determinant stirling cycle number count unlabe...   \n",
       "4                                             dyadic   \n",
       "\n",
       "                                      abstract_clean   main_category  \n",
       "0  fully differential calculation perturbative qu...  Research Paper  \n",
       "1  describe new algorithm k game color use obtain...  Research Paper  \n",
       "2  evolution system described dark matter field f...  Research Paper  \n",
       "3  show determinant stirling cycle number count u...  Research Paper  \n",
       "4  paper show compute norm using dyadic grid resu...  Research Paper  "
      ]
     },
<<<<<<< HEAD
     "execution_count": 56,
=======
     "execution_count": 37,
>>>>>>> 10531f430d4da9d232f36740d878e0e929967a53
     "metadata": {},
     "output_type": "execute_result"
    }
   ],
   "source": [
    "research = pd.read_csv(r'Research_paper_final_dataset.csv')\n",
    "research.head()"
   ]
  },
  {
   "cell_type": "code",
<<<<<<< HEAD
   "execution_count": 57,
=======
   "execution_count": 38,
>>>>>>> 10531f430d4da9d232f36740d878e0e929967a53
   "metadata": {},
   "outputs": [],
   "source": [
    "# change headline column name to Title\n",
    "news.rename(columns={'headline': 'Title'}, inplace=True)\n",
    "news.rename(columns={'short_description_clean': 'description'}, inplace=True)\n",
    "\n",
    "\n",
    "#change title_clean column name to Title and make ir the first column\n",
    "research.rename(columns={'title_clean': 'Title'}, inplace=True)\n",
    "research.rename(columns={'categories': 'category'}, inplace=True)\n",
    "research.rename(columns={'update_date': 'date'}, inplace=True)\n",
    "research.rename(columns={'abstract_clean': 'description'}, inplace=True)\n"
   ]
  },
  {
   "cell_type": "code",
<<<<<<< HEAD
   "execution_count": 58,
=======
   "execution_count": 39,
>>>>>>> 10531f430d4da9d232f36740d878e0e929967a53
   "metadata": {},
   "outputs": [
    {
     "data": {
      "text/html": [
       "<div>\n",
       "<style scoped>\n",
       "    .dataframe tbody tr th:only-of-type {\n",
       "        vertical-align: middle;\n",
       "    }\n",
       "\n",
       "    .dataframe tbody tr th {\n",
       "        vertical-align: top;\n",
       "    }\n",
       "\n",
       "    .dataframe thead th {\n",
       "        text-align: right;\n",
       "    }\n",
       "</style>\n",
       "<table border=\"1\" class=\"dataframe\">\n",
       "  <thead>\n",
       "    <tr style=\"text-align: right;\">\n",
       "      <th></th>\n",
       "      <th>Title</th>\n",
       "      <th>category</th>\n",
       "      <th>date</th>\n",
       "      <th>description</th>\n",
       "      <th>main_category</th>\n",
       "    </tr>\n",
       "  </thead>\n",
       "  <tbody>\n",
       "    <tr>\n",
       "      <th>0</th>\n",
       "      <td>Over 4 Million Americans Roll Up Sleeves For O...</td>\n",
       "      <td>U.S. NEWS</td>\n",
       "      <td>2022-09-23</td>\n",
       "      <td>health expert said early predict whether deman...</td>\n",
       "      <td>News</td>\n",
       "    </tr>\n",
       "    <tr>\n",
       "      <th>1</th>\n",
       "      <td>American Airlines Flyer Charged, Banned For Li...</td>\n",
       "      <td>U.S. NEWS</td>\n",
       "      <td>2022-09-23</td>\n",
       "      <td>subdued passenger crew fled back aircraft conf...</td>\n",
       "      <td>News</td>\n",
       "    </tr>\n",
       "    <tr>\n",
       "      <th>2</th>\n",
       "      <td>23 Of The Funniest Tweets About Cats And Dogs ...</td>\n",
       "      <td>COMEDY</td>\n",
       "      <td>2022-09-23</td>\n",
       "      <td>dog understand could eaten</td>\n",
       "      <td>News</td>\n",
       "    </tr>\n",
       "    <tr>\n",
       "      <th>3</th>\n",
       "      <td>The Funniest Tweets From Parents This Week (Se...</td>\n",
       "      <td>PARENTING</td>\n",
       "      <td>2022-09-23</td>\n",
       "      <td>accidentally put toothpaste toothbrush screame...</td>\n",
       "      <td>News</td>\n",
       "    </tr>\n",
       "    <tr>\n",
       "      <th>4</th>\n",
       "      <td>Woman Who Called Cops On Black Bird-Watcher Lo...</td>\n",
       "      <td>U.S. NEWS</td>\n",
       "      <td>2022-09-22</td>\n",
       "      <td>amy cooper accused investment firm franklin te...</td>\n",
       "      <td>News</td>\n",
       "    </tr>\n",
       "  </tbody>\n",
       "</table>\n",
       "</div>"
      ],
      "text/plain": [
       "                                               Title   category        date  \\\n",
       "0  Over 4 Million Americans Roll Up Sleeves For O...  U.S. NEWS  2022-09-23   \n",
       "1  American Airlines Flyer Charged, Banned For Li...  U.S. NEWS  2022-09-23   \n",
       "2  23 Of The Funniest Tweets About Cats And Dogs ...     COMEDY  2022-09-23   \n",
       "3  The Funniest Tweets From Parents This Week (Se...  PARENTING  2022-09-23   \n",
       "4  Woman Who Called Cops On Black Bird-Watcher Lo...  U.S. NEWS  2022-09-22   \n",
       "\n",
       "                                         description main_category  \n",
       "0  health expert said early predict whether deman...          News  \n",
       "1  subdued passenger crew fled back aircraft conf...          News  \n",
       "2                         dog understand could eaten          News  \n",
       "3  accidentally put toothpaste toothbrush screame...          News  \n",
       "4  amy cooper accused investment firm franklin te...          News  "
      ]
     },
<<<<<<< HEAD
     "execution_count": 58,
=======
     "execution_count": 39,
>>>>>>> 10531f430d4da9d232f36740d878e0e929967a53
     "metadata": {},
     "output_type": "execute_result"
    }
   ],
   "source": [
    "news.head()"
   ]
  },
  {
   "cell_type": "code",
<<<<<<< HEAD
   "execution_count": 59,
=======
   "execution_count": 40,
>>>>>>> 10531f430d4da9d232f36740d878e0e929967a53
   "metadata": {},
   "outputs": [],
   "source": [
    "#ordering column news dataset\n",
    "news_desired_order = ['Title', 'main_category', 'category', 'date','description']\n",
    "news = news.reindex(columns=news_desired_order)\n",
    "news.to_csv('news_ordered.csv', index=False)"
   ]
  },
  {
   "cell_type": "code",
<<<<<<< HEAD
   "execution_count": 60,
=======
   "execution_count": 41,
>>>>>>> 10531f430d4da9d232f36740d878e0e929967a53
   "metadata": {},
   "outputs": [
    {
     "data": {
      "text/html": [
       "<div>\n",
       "<style scoped>\n",
       "    .dataframe tbody tr th:only-of-type {\n",
       "        vertical-align: middle;\n",
       "    }\n",
       "\n",
       "    .dataframe tbody tr th {\n",
       "        vertical-align: top;\n",
       "    }\n",
       "\n",
       "    .dataframe thead th {\n",
       "        text-align: right;\n",
       "    }\n",
       "</style>\n",
       "<table border=\"1\" class=\"dataframe\">\n",
       "  <thead>\n",
       "    <tr style=\"text-align: right;\">\n",
       "      <th></th>\n",
       "      <th>Title</th>\n",
       "      <th>main_category</th>\n",
       "      <th>category</th>\n",
       "      <th>date</th>\n",
       "      <th>description</th>\n",
       "    </tr>\n",
       "  </thead>\n",
       "  <tbody>\n",
       "    <tr>\n",
       "      <th>0</th>\n",
       "      <td>Over 4 Million Americans Roll Up Sleeves For O...</td>\n",
       "      <td>News</td>\n",
       "      <td>U.S. NEWS</td>\n",
       "      <td>2022-09-23</td>\n",
       "      <td>health expert said early predict whether deman...</td>\n",
       "    </tr>\n",
       "    <tr>\n",
       "      <th>1</th>\n",
       "      <td>American Airlines Flyer Charged, Banned For Li...</td>\n",
       "      <td>News</td>\n",
       "      <td>U.S. NEWS</td>\n",
       "      <td>2022-09-23</td>\n",
       "      <td>subdued passenger crew fled back aircraft conf...</td>\n",
       "    </tr>\n",
       "    <tr>\n",
       "      <th>2</th>\n",
       "      <td>23 Of The Funniest Tweets About Cats And Dogs ...</td>\n",
       "      <td>News</td>\n",
       "      <td>COMEDY</td>\n",
       "      <td>2022-09-23</td>\n",
       "      <td>dog understand could eaten</td>\n",
       "    </tr>\n",
       "    <tr>\n",
       "      <th>3</th>\n",
       "      <td>The Funniest Tweets From Parents This Week (Se...</td>\n",
       "      <td>News</td>\n",
       "      <td>PARENTING</td>\n",
       "      <td>2022-09-23</td>\n",
       "      <td>accidentally put toothpaste toothbrush screame...</td>\n",
       "    </tr>\n",
       "    <tr>\n",
       "      <th>4</th>\n",
       "      <td>Woman Who Called Cops On Black Bird-Watcher Lo...</td>\n",
       "      <td>News</td>\n",
       "      <td>U.S. NEWS</td>\n",
       "      <td>2022-09-22</td>\n",
       "      <td>amy cooper accused investment firm franklin te...</td>\n",
       "    </tr>\n",
       "  </tbody>\n",
       "</table>\n",
       "</div>"
      ],
      "text/plain": [
       "                                               Title main_category   category  \\\n",
       "0  Over 4 Million Americans Roll Up Sleeves For O...          News  U.S. NEWS   \n",
       "1  American Airlines Flyer Charged, Banned For Li...          News  U.S. NEWS   \n",
       "2  23 Of The Funniest Tweets About Cats And Dogs ...          News     COMEDY   \n",
       "3  The Funniest Tweets From Parents This Week (Se...          News  PARENTING   \n",
       "4  Woman Who Called Cops On Black Bird-Watcher Lo...          News  U.S. NEWS   \n",
       "\n",
       "         date                                        description  \n",
       "0  2022-09-23  health expert said early predict whether deman...  \n",
       "1  2022-09-23  subdued passenger crew fled back aircraft conf...  \n",
       "2  2022-09-23                         dog understand could eaten  \n",
       "3  2022-09-23  accidentally put toothpaste toothbrush screame...  \n",
       "4  2022-09-22  amy cooper accused investment firm franklin te...  "
      ]
     },
<<<<<<< HEAD
     "execution_count": 60,
=======
     "execution_count": 41,
>>>>>>> 10531f430d4da9d232f36740d878e0e929967a53
     "metadata": {},
     "output_type": "execute_result"
    }
   ],
   "source": [
    "news_new  = pd.read_csv(r'news_ordered.csv')\n",
    "news_new.head()"
   ]
  },
  {
   "cell_type": "code",
<<<<<<< HEAD
   "execution_count": 61,
=======
   "execution_count": 42,
>>>>>>> 10531f430d4da9d232f36740d878e0e929967a53
   "metadata": {},
   "outputs": [],
   "source": [
    "#ordering column research paper dataset\n",
    "import pandas as pd\n",
    "research_desired_order = ['Title', 'main_category', 'category', 'date','description']\n",
    "# Reindex the DataFrame with the desired column order\n",
    "research = research.reindex(columns=research_desired_order)\n",
    "# Save the updated dataset\n",
    "research.to_csv('research_ordered.csv', index=False)"
   ]
  },
  {
   "cell_type": "code",
<<<<<<< HEAD
   "execution_count": 62,
=======
   "execution_count": 43,
>>>>>>> 10531f430d4da9d232f36740d878e0e929967a53
   "metadata": {},
   "outputs": [
    {
     "data": {
      "text/html": [
       "<div>\n",
       "<style scoped>\n",
       "    .dataframe tbody tr th:only-of-type {\n",
       "        vertical-align: middle;\n",
       "    }\n",
       "\n",
       "    .dataframe tbody tr th {\n",
       "        vertical-align: top;\n",
       "    }\n",
       "\n",
       "    .dataframe thead th {\n",
       "        text-align: right;\n",
       "    }\n",
       "</style>\n",
       "<table border=\"1\" class=\"dataframe\">\n",
       "  <thead>\n",
       "    <tr style=\"text-align: right;\">\n",
       "      <th></th>\n",
       "      <th>Title</th>\n",
       "      <th>main_category</th>\n",
       "      <th>category</th>\n",
       "      <th>date</th>\n",
       "      <th>description</th>\n",
       "    </tr>\n",
       "  </thead>\n",
       "  <tbody>\n",
       "    <tr>\n",
       "      <th>0</th>\n",
       "      <td>calculation prompt diphoton production cross s...</td>\n",
       "      <td>Research Paper</td>\n",
       "      <td>hep-ph</td>\n",
       "      <td>2008-11-26</td>\n",
       "      <td>fully differential calculation perturbative qu...</td>\n",
       "    </tr>\n",
       "    <tr>\n",
       "      <th>1</th>\n",
       "      <td>graph decomposition</td>\n",
       "      <td>Research Paper</td>\n",
       "      <td>math.CO cs.CG</td>\n",
       "      <td>2008-12-13</td>\n",
       "      <td>describe new algorithm k game color use obtain...</td>\n",
       "    </tr>\n",
       "    <tr>\n",
       "      <th>2</th>\n",
       "      <td>evolution system based dark matter field fluid...</td>\n",
       "      <td>Research Paper</td>\n",
       "      <td>physics.gen-ph</td>\n",
       "      <td>2008-01-13</td>\n",
       "      <td>evolution system described dark matter field f...</td>\n",
       "    </tr>\n",
       "    <tr>\n",
       "      <th>3</th>\n",
       "      <td>determinant stirling cycle number count unlabe...</td>\n",
       "      <td>Research Paper</td>\n",
       "      <td>math.CO</td>\n",
       "      <td>2007-05-23</td>\n",
       "      <td>show determinant stirling cycle number count u...</td>\n",
       "    </tr>\n",
       "    <tr>\n",
       "      <th>4</th>\n",
       "      <td>dyadic</td>\n",
       "      <td>Research Paper</td>\n",
       "      <td>math.CA math.FA</td>\n",
       "      <td>2013-10-15</td>\n",
       "      <td>paper show compute norm using dyadic grid resu...</td>\n",
       "    </tr>\n",
       "  </tbody>\n",
       "</table>\n",
       "</div>"
      ],
      "text/plain": [
       "                                               Title   main_category  \\\n",
       "0  calculation prompt diphoton production cross s...  Research Paper   \n",
       "1                                graph decomposition  Research Paper   \n",
       "2  evolution system based dark matter field fluid...  Research Paper   \n",
       "3  determinant stirling cycle number count unlabe...  Research Paper   \n",
       "4                                             dyadic  Research Paper   \n",
       "\n",
       "          category        date  \\\n",
       "0           hep-ph  2008-11-26   \n",
       "1    math.CO cs.CG  2008-12-13   \n",
       "2   physics.gen-ph  2008-01-13   \n",
       "3          math.CO  2007-05-23   \n",
       "4  math.CA math.FA  2013-10-15   \n",
       "\n",
       "                                         description  \n",
       "0  fully differential calculation perturbative qu...  \n",
       "1  describe new algorithm k game color use obtain...  \n",
       "2  evolution system described dark matter field f...  \n",
       "3  show determinant stirling cycle number count u...  \n",
       "4  paper show compute norm using dyadic grid resu...  "
      ]
     },
<<<<<<< HEAD
     "execution_count": 62,
=======
     "execution_count": 43,
>>>>>>> 10531f430d4da9d232f36740d878e0e929967a53
     "metadata": {},
     "output_type": "execute_result"
    }
   ],
   "source": [
    "research_new  = pd.read_csv(r'research_ordered.csv')\n",
    "research_new.head()"
   ]
  },
  {
   "cell_type": "code",
<<<<<<< HEAD
   "execution_count": 63,
=======
   "execution_count": 44,
>>>>>>> 10531f430d4da9d232f36740d878e0e929967a53
   "metadata": {},
   "outputs": [
    {
     "data": {
      "text/html": [
       "<div>\n",
       "<style scoped>\n",
       "    .dataframe tbody tr th:only-of-type {\n",
       "        vertical-align: middle;\n",
       "    }\n",
       "\n",
       "    .dataframe tbody tr th {\n",
       "        vertical-align: top;\n",
       "    }\n",
       "\n",
       "    .dataframe thead th {\n",
       "        text-align: right;\n",
       "    }\n",
       "</style>\n",
       "<table border=\"1\" class=\"dataframe\">\n",
       "  <thead>\n",
       "    <tr style=\"text-align: right;\">\n",
       "      <th></th>\n",
       "      <th>description</th>\n",
       "      <th>category</th>\n",
       "      <th>Title</th>\n",
       "      <th>date</th>\n",
       "      <th>main_category</th>\n",
       "    </tr>\n",
       "  </thead>\n",
       "  <tbody>\n",
       "    <tr>\n",
       "      <th>0</th>\n",
       "      <td>int main printf Hello World return 0</td>\n",
       "      <td>C</td>\n",
       "      <td>C Code</td>\n",
       "      <td>2023-10-08</td>\n",
       "      <td>Code</td>\n",
       "    </tr>\n",
       "    <tr>\n",
       "      <th>1</th>\n",
       "      <td>print Hello world</td>\n",
       "      <td>Python</td>\n",
       "      <td>Python Code</td>\n",
       "      <td>2023-10-08</td>\n",
       "      <td>Code</td>\n",
       "    </tr>\n",
       "    <tr>\n",
       "      <th>2</th>\n",
       "      <td>public static void main String args System out...</td>\n",
       "      <td>Java</td>\n",
       "      <td>Java Code</td>\n",
       "      <td>2023-10-08</td>\n",
       "      <td>Code</td>\n",
       "    </tr>\n",
       "    <tr>\n",
       "      <th>3</th>\n",
       "      <td>puts Hello World</td>\n",
       "      <td>Ruby</td>\n",
       "      <td>Ruby Code</td>\n",
       "      <td>2023-10-08</td>\n",
       "      <td>Code</td>\n",
       "    </tr>\n",
       "    <tr>\n",
       "      <th>4</th>\n",
       "      <td>console log Hello World</td>\n",
       "      <td>JavaScript</td>\n",
       "      <td>JavaScript Code</td>\n",
       "      <td>2023-10-08</td>\n",
       "      <td>Code</td>\n",
       "    </tr>\n",
       "  </tbody>\n",
       "</table>\n",
       "</div>"
      ],
      "text/plain": [
       "                                         description    category  \\\n",
       "0               int main printf Hello World return 0           C   \n",
       "1                                  print Hello world      Python   \n",
       "2  public static void main String args System out...        Java   \n",
       "3                                   puts Hello World        Ruby   \n",
       "4                            console log Hello World  JavaScript   \n",
       "\n",
       "             Title        date main_category  \n",
       "0           C Code  2023-10-08          Code  \n",
       "1      Python Code  2023-10-08          Code  \n",
       "2        Java Code  2023-10-08          Code  \n",
       "3        Ruby Code  2023-10-08          Code  \n",
       "4  JavaScript Code  2023-10-08          Code  "
      ]
     },
<<<<<<< HEAD
     "execution_count": 63,
=======
     "execution_count": 44,
>>>>>>> 10531f430d4da9d232f36740d878e0e929967a53
     "metadata": {},
     "output_type": "execute_result"
    }
   ],
   "source": [
    "import pandas as pd\n",
    "\n",
    "codes = pd.read_csv(r'Code_final_dataset.csv')\n",
    "codes.head()"
   ]
  },
  {
   "cell_type": "code",
<<<<<<< HEAD
   "execution_count": 64,
=======
   "execution_count": 45,
>>>>>>> 10531f430d4da9d232f36740d878e0e929967a53
   "metadata": {},
   "outputs": [],
   "source": [
    "#ordering column codes dataset\n",
    "codes_desired_order = ['Title', 'main_category', 'category', 'date','description']\n",
    "# Reindex the DataFrame with the desired column order\n",
    "codes = codes.reindex(columns=codes_desired_order)\n",
    "# Save the updated dataset\n",
    "codes.to_csv('codes_ordered.csv', index=False)"
   ]
  },
  {
   "cell_type": "code",
<<<<<<< HEAD
   "execution_count": 65,
=======
   "execution_count": 46,
>>>>>>> 10531f430d4da9d232f36740d878e0e929967a53
   "metadata": {},
   "outputs": [
    {
     "data": {
      "text/html": [
       "<div>\n",
       "<style scoped>\n",
       "    .dataframe tbody tr th:only-of-type {\n",
       "        vertical-align: middle;\n",
       "    }\n",
       "\n",
       "    .dataframe tbody tr th {\n",
       "        vertical-align: top;\n",
       "    }\n",
       "\n",
       "    .dataframe thead th {\n",
       "        text-align: right;\n",
       "    }\n",
       "</style>\n",
       "<table border=\"1\" class=\"dataframe\">\n",
       "  <thead>\n",
       "    <tr style=\"text-align: right;\">\n",
       "      <th></th>\n",
       "      <th>Title</th>\n",
       "      <th>main_category</th>\n",
       "      <th>category</th>\n",
       "      <th>date</th>\n",
       "      <th>description</th>\n",
       "    </tr>\n",
       "  </thead>\n",
       "  <tbody>\n",
       "    <tr>\n",
       "      <th>0</th>\n",
       "      <td>C Code</td>\n",
       "      <td>Code</td>\n",
       "      <td>C</td>\n",
       "      <td>2023-10-08</td>\n",
       "      <td>int main printf Hello World return 0</td>\n",
       "    </tr>\n",
       "    <tr>\n",
       "      <th>1</th>\n",
       "      <td>Python Code</td>\n",
       "      <td>Code</td>\n",
       "      <td>Python</td>\n",
       "      <td>2023-10-08</td>\n",
       "      <td>print Hello world</td>\n",
       "    </tr>\n",
       "    <tr>\n",
       "      <th>2</th>\n",
       "      <td>Java Code</td>\n",
       "      <td>Code</td>\n",
       "      <td>Java</td>\n",
       "      <td>2023-10-08</td>\n",
       "      <td>public static void main String args System out...</td>\n",
       "    </tr>\n",
       "    <tr>\n",
       "      <th>3</th>\n",
       "      <td>Ruby Code</td>\n",
       "      <td>Code</td>\n",
       "      <td>Ruby</td>\n",
       "      <td>2023-10-08</td>\n",
       "      <td>puts Hello World</td>\n",
       "    </tr>\n",
       "    <tr>\n",
       "      <th>4</th>\n",
       "      <td>JavaScript Code</td>\n",
       "      <td>Code</td>\n",
       "      <td>JavaScript</td>\n",
       "      <td>2023-10-08</td>\n",
       "      <td>console log Hello World</td>\n",
       "    </tr>\n",
       "  </tbody>\n",
       "</table>\n",
       "</div>"
      ],
      "text/plain": [
       "             Title main_category    category        date  \\\n",
       "0           C Code          Code           C  2023-10-08   \n",
       "1      Python Code          Code      Python  2023-10-08   \n",
       "2        Java Code          Code        Java  2023-10-08   \n",
       "3        Ruby Code          Code        Ruby  2023-10-08   \n",
       "4  JavaScript Code          Code  JavaScript  2023-10-08   \n",
       "\n",
       "                                         description  \n",
       "0               int main printf Hello World return 0  \n",
       "1                                  print Hello world  \n",
       "2  public static void main String args System out...  \n",
       "3                                   puts Hello World  \n",
       "4                            console log Hello World  "
      ]
     },
<<<<<<< HEAD
     "execution_count": 65,
=======
     "execution_count": 46,
>>>>>>> 10531f430d4da9d232f36740d878e0e929967a53
     "metadata": {},
     "output_type": "execute_result"
    }
   ],
   "source": [
    "codes_new = pd.read_csv(r'codes_ordered.csv')\n",
    "codes_new.head()"
   ]
  },
  {
   "cell_type": "code",
<<<<<<< HEAD
   "execution_count": 66,
=======
   "execution_count": 47,
>>>>>>> 10531f430d4da9d232f36740d878e0e929967a53
   "metadata": {},
   "outputs": [
    {
     "data": {
      "text/plain": [
<<<<<<< HEAD
       "118"
      ]
     },
     "execution_count": 66,
=======
       "340"
      ]
     },
     "execution_count": 47,
>>>>>>> 10531f430d4da9d232f36740d878e0e929967a53
     "metadata": {},
     "output_type": "execute_result"
    }
   ],
   "source": [
    "len(codes_new)"
   ]
  },
  {
   "cell_type": "code",
<<<<<<< HEAD
   "execution_count": 67,
   "metadata": {},
   "outputs": [
    {
     "data": {
      "text/html": [
       "<div>\n",
       "<style scoped>\n",
       "    .dataframe tbody tr th:only-of-type {\n",
       "        vertical-align: middle;\n",
       "    }\n",
       "\n",
       "    .dataframe tbody tr th {\n",
       "        vertical-align: top;\n",
       "    }\n",
       "\n",
       "    .dataframe thead th {\n",
       "        text-align: right;\n",
       "    }\n",
       "</style>\n",
       "<table border=\"1\" class=\"dataframe\">\n",
       "  <thead>\n",
       "    <tr style=\"text-align: right;\">\n",
       "      <th></th>\n",
       "      <th>description</th>\n",
       "      <th>main_category</th>\n",
       "      <th>Title</th>\n",
       "      <th>category</th>\n",
       "      <th>date</th>\n",
       "    </tr>\n",
       "  </thead>\n",
       "  <tbody>\n",
       "    <tr>\n",
       "      <th>0</th>\n",
       "      <td>excision limbal dermoids reviewed clinical fil...</td>\n",
       "      <td>Medical</td>\n",
       "      <td>le</td>\n",
       "      <td>Medical</td>\n",
       "      <td>2023-10-08</td>\n",
       "    </tr>\n",
       "    <tr>\n",
       "      <th>1</th>\n",
       "      <td>bell palsy diagnosis exclusion case acute unil...</td>\n",
       "      <td>Medical</td>\n",
       "      <td>facial</td>\n",
       "      <td>Medical</td>\n",
       "      <td>2023-10-08</td>\n",
       "    </tr>\n",
       "    <tr>\n",
       "      <th>2</th>\n",
       "      <td>retained endobronchial foreign body removal fa...</td>\n",
       "      <td>Medical</td>\n",
       "      <td>body</td>\n",
       "      <td>Medical</td>\n",
       "      <td>2023-10-08</td>\n",
       "    </tr>\n",
       "    <tr>\n",
       "      <th>3</th>\n",
       "      <td>recurrent buccal space abscess complication cr...</td>\n",
       "      <td>Medical</td>\n",
       "      <td>crohn</td>\n",
       "      <td>Medical</td>\n",
       "      <td>2023-10-08</td>\n",
       "    </tr>\n",
       "    <tr>\n",
       "      <th>4</th>\n",
       "      <td>intracranial fibromatosis fibromatoses uncommo...</td>\n",
       "      <td>Medical</td>\n",
       "      <td>aggressive</td>\n",
       "      <td>Medical</td>\n",
       "      <td>2023-10-08</td>\n",
       "    </tr>\n",
       "  </tbody>\n",
       "</table>\n",
       "</div>"
      ],
      "text/plain": [
       "                                         description main_category  \\\n",
       "0  excision limbal dermoids reviewed clinical fil...       Medical   \n",
       "1  bell palsy diagnosis exclusion case acute unil...       Medical   \n",
       "2  retained endobronchial foreign body removal fa...       Medical   \n",
       "3  recurrent buccal space abscess complication cr...       Medical   \n",
       "4  intracranial fibromatosis fibromatoses uncommo...       Medical   \n",
       "\n",
       "        Title category        date  \n",
       "0          le  Medical  2023-10-08  \n",
       "1      facial  Medical  2023-10-08  \n",
       "2        body  Medical  2023-10-08  \n",
       "3       crohn  Medical  2023-10-08  \n",
       "4  aggressive  Medical  2023-10-08  "
      ]
     },
     "execution_count": 67,
     "metadata": {},
     "output_type": "execute_result"
    }
   ],
   "source": [
    "medical = pd.read_csv(r'Medical_final_dataset.csv')\n",
    "medical.head()"
   ]
  },
  {
   "cell_type": "code",
   "execution_count": 68,
   "metadata": {},
   "outputs": [],
   "source": [
    "#ordering column codes dataset\n",
    "medical_desired_order = ['Title', 'main_category', 'category', 'date','description']\n",
    "# Reindex the DataFrame with the desired column order\n",
    "medical = medical.reindex(columns=codes_desired_order)\n",
    "# Save the updated dataset\n",
    "medical.to_csv('medical_ordered.csv', index=False)"
   ]
  },
  {
   "cell_type": "code",
   "execution_count": 69,
   "metadata": {},
   "outputs": [
    {
     "data": {
      "text/html": [
       "<div>\n",
       "<style scoped>\n",
       "    .dataframe tbody tr th:only-of-type {\n",
       "        vertical-align: middle;\n",
       "    }\n",
       "\n",
       "    .dataframe tbody tr th {\n",
       "        vertical-align: top;\n",
       "    }\n",
       "\n",
       "    .dataframe thead th {\n",
       "        text-align: right;\n",
       "    }\n",
       "</style>\n",
       "<table border=\"1\" class=\"dataframe\">\n",
       "  <thead>\n",
       "    <tr style=\"text-align: right;\">\n",
       "      <th></th>\n",
       "      <th>Title</th>\n",
       "      <th>main_category</th>\n",
       "      <th>category</th>\n",
       "      <th>date</th>\n",
       "      <th>description</th>\n",
       "    </tr>\n",
       "  </thead>\n",
       "  <tbody>\n",
       "    <tr>\n",
       "      <th>0</th>\n",
       "      <td>le</td>\n",
       "      <td>Medical</td>\n",
       "      <td>Medical</td>\n",
       "      <td>2023-10-08</td>\n",
       "      <td>excision limbal dermoids reviewed clinical fil...</td>\n",
       "    </tr>\n",
       "    <tr>\n",
       "      <th>1</th>\n",
       "      <td>facial</td>\n",
       "      <td>Medical</td>\n",
       "      <td>Medical</td>\n",
       "      <td>2023-10-08</td>\n",
       "      <td>bell palsy diagnosis exclusion case acute unil...</td>\n",
       "    </tr>\n",
       "    <tr>\n",
       "      <th>2</th>\n",
       "      <td>body</td>\n",
       "      <td>Medical</td>\n",
       "      <td>Medical</td>\n",
       "      <td>2023-10-08</td>\n",
       "      <td>retained endobronchial foreign body removal fa...</td>\n",
       "    </tr>\n",
       "    <tr>\n",
       "      <th>3</th>\n",
       "      <td>crohn</td>\n",
       "      <td>Medical</td>\n",
       "      <td>Medical</td>\n",
       "      <td>2023-10-08</td>\n",
       "      <td>recurrent buccal space abscess complication cr...</td>\n",
       "    </tr>\n",
       "    <tr>\n",
       "      <th>4</th>\n",
       "      <td>aggressive</td>\n",
       "      <td>Medical</td>\n",
       "      <td>Medical</td>\n",
       "      <td>2023-10-08</td>\n",
       "      <td>intracranial fibromatosis fibromatoses uncommo...</td>\n",
       "    </tr>\n",
       "  </tbody>\n",
       "</table>\n",
       "</div>"
      ],
      "text/plain": [
       "        Title main_category category        date  \\\n",
       "0          le       Medical  Medical  2023-10-08   \n",
       "1      facial       Medical  Medical  2023-10-08   \n",
       "2        body       Medical  Medical  2023-10-08   \n",
       "3       crohn       Medical  Medical  2023-10-08   \n",
       "4  aggressive       Medical  Medical  2023-10-08   \n",
       "\n",
       "                                         description  \n",
       "0  excision limbal dermoids reviewed clinical fil...  \n",
       "1  bell palsy diagnosis exclusion case acute unil...  \n",
       "2  retained endobronchial foreign body removal fa...  \n",
       "3  recurrent buccal space abscess complication cr...  \n",
       "4  intracranial fibromatosis fibromatoses uncommo...  "
      ]
     },
     "execution_count": 69,
     "metadata": {},
     "output_type": "execute_result"
    }
   ],
   "source": [
    "medical_new = pd.read_csv(r'medical_ordered.csv')\n",
    "medical_new.head()"
   ]
  },
  {
   "cell_type": "code",
   "execution_count": 70,
   "metadata": {},
   "outputs": [
    {
     "data": {
      "text/plain": [
       "349"
      ]
     },
     "execution_count": 70,
     "metadata": {},
     "output_type": "execute_result"
    }
   ],
   "source": [
    "len(medical_new)"
   ]
  },
  {
   "cell_type": "code",
   "execution_count": 71,
=======
   "execution_count": 48,
>>>>>>> 10531f430d4da9d232f36740d878e0e929967a53
   "metadata": {},
   "outputs": [
    {
     "data": {
      "text/html": [
       "<div>\n",
       "<style scoped>\n",
       "    .dataframe tbody tr th:only-of-type {\n",
       "        vertical-align: middle;\n",
       "    }\n",
       "\n",
       "    .dataframe tbody tr th {\n",
       "        vertical-align: top;\n",
       "    }\n",
       "\n",
       "    .dataframe thead th {\n",
       "        text-align: right;\n",
       "    }\n",
       "</style>\n",
       "<table border=\"1\" class=\"dataframe\">\n",
       "  <thead>\n",
       "    <tr style=\"text-align: right;\">\n",
       "      <th></th>\n",
       "      <th>Title</th>\n",
       "      <th>main_category</th>\n",
       "      <th>category</th>\n",
       "      <th>date</th>\n",
       "      <th>description</th>\n",
       "    </tr>\n",
       "  </thead>\n",
       "  <tbody>\n",
       "    <tr>\n",
       "      <th>0</th>\n",
       "      <td>Over 4 Million Americans Roll Up Sleeves For O...</td>\n",
       "      <td>News</td>\n",
       "      <td>U.S. NEWS</td>\n",
       "      <td>2022-09-23</td>\n",
       "      <td>health expert said early predict whether deman...</td>\n",
       "    </tr>\n",
       "    <tr>\n",
       "      <th>1</th>\n",
       "      <td>American Airlines Flyer Charged, Banned For Li...</td>\n",
       "      <td>News</td>\n",
       "      <td>U.S. NEWS</td>\n",
       "      <td>2022-09-23</td>\n",
       "      <td>subdued passenger crew fled back aircraft conf...</td>\n",
       "    </tr>\n",
       "    <tr>\n",
       "      <th>2</th>\n",
       "      <td>23 Of The Funniest Tweets About Cats And Dogs ...</td>\n",
       "      <td>News</td>\n",
       "      <td>COMEDY</td>\n",
       "      <td>2022-09-23</td>\n",
       "      <td>dog understand could eaten</td>\n",
       "    </tr>\n",
       "    <tr>\n",
       "      <th>3</th>\n",
       "      <td>The Funniest Tweets From Parents This Week (Se...</td>\n",
       "      <td>News</td>\n",
       "      <td>PARENTING</td>\n",
       "      <td>2022-09-23</td>\n",
       "      <td>accidentally put toothpaste toothbrush screame...</td>\n",
       "    </tr>\n",
       "    <tr>\n",
       "      <th>4</th>\n",
       "      <td>Woman Who Called Cops On Black Bird-Watcher Lo...</td>\n",
       "      <td>News</td>\n",
       "      <td>U.S. NEWS</td>\n",
       "      <td>2022-09-22</td>\n",
       "      <td>amy cooper accused investment firm franklin te...</td>\n",
       "    </tr>\n",
       "  </tbody>\n",
       "</table>\n",
       "</div>"
      ],
      "text/plain": [
       "                                               Title main_category   category  \\\n",
       "0  Over 4 Million Americans Roll Up Sleeves For O...          News  U.S. NEWS   \n",
       "1  American Airlines Flyer Charged, Banned For Li...          News  U.S. NEWS   \n",
       "2  23 Of The Funniest Tweets About Cats And Dogs ...          News     COMEDY   \n",
       "3  The Funniest Tweets From Parents This Week (Se...          News  PARENTING   \n",
       "4  Woman Who Called Cops On Black Bird-Watcher Lo...          News  U.S. NEWS   \n",
       "\n",
       "         date                                        description  \n",
       "0  2022-09-23  health expert said early predict whether deman...  \n",
       "1  2022-09-23  subdued passenger crew fled back aircraft conf...  \n",
       "2  2022-09-23                         dog understand could eaten  \n",
       "3  2022-09-23  accidentally put toothpaste toothbrush screame...  \n",
       "4  2022-09-22  amy cooper accused investment firm franklin te...  "
      ]
     },
<<<<<<< HEAD
     "execution_count": 71,
=======
     "execution_count": 48,
>>>>>>> 10531f430d4da9d232f36740d878e0e929967a53
     "metadata": {},
     "output_type": "execute_result"
    }
   ],
   "source": [
    "#combine the 2 datastets\n",
    "combined = pd.concat([news_new, research_new,codes_new,medical_new], ignore_index=True)\n",
    "combined.head()\n"
   ]
  },
  {
   "cell_type": "code",
<<<<<<< HEAD
   "execution_count": 72,
=======
   "execution_count": 49,
>>>>>>> 10531f430d4da9d232f36740d878e0e929967a53
   "metadata": {},
   "outputs": [
    {
     "data": {
      "text/plain": [
<<<<<<< HEAD
       "(852, 5)"
      ]
     },
     "execution_count": 72,
=======
       "(725, 5)"
      ]
     },
     "execution_count": 49,
>>>>>>> 10531f430d4da9d232f36740d878e0e929967a53
     "metadata": {},
     "output_type": "execute_result"
    }
   ],
   "source": [
    "#number of columns and rows\n",
    "combined.shape\n"
   ]
  },
  {
   "cell_type": "code",
<<<<<<< HEAD
   "execution_count": 73,
=======
   "execution_count": 50,
>>>>>>> 10531f430d4da9d232f36740d878e0e929967a53
   "metadata": {},
   "outputs": [
    {
     "data": {
      "text/plain": [
       "array(['News', 'Research Paper', 'Code', 'Medical'], dtype=object)"
      ]
     },
<<<<<<< HEAD
     "execution_count": 73,
=======
     "execution_count": 50,
>>>>>>> 10531f430d4da9d232f36740d878e0e929967a53
     "metadata": {},
     "output_type": "execute_result"
    }
   ],
   "source": [
    "#unique values of main_category\n",
    "combined.main_category.unique()"
   ]
  },
  {
   "cell_type": "code",
<<<<<<< HEAD
   "execution_count": 74,
=======
   "execution_count": 51,
>>>>>>> 10531f430d4da9d232f36740d878e0e929967a53
   "metadata": {},
   "outputs": [],
   "source": [
    "#save the combined dataset\n",
    "combined.to_csv('combined_final_dataset.csv', index=False)"
   ]
  },
  {
   "cell_type": "code",
   "execution_count": null,
   "metadata": {},
   "outputs": [],
   "source": []
  }
 ],
 "metadata": {
  "kernelspec": {
   "display_name": "Python 3",
   "language": "python",
   "name": "python3"
  },
  "language_info": {
   "codemirror_mode": {
    "name": "ipython",
    "version": 3
   },
   "file_extension": ".py",
   "mimetype": "text/x-python",
   "name": "python",
   "nbconvert_exporter": "python",
   "pygments_lexer": "ipython3",
   "version": "3.10.7"
  },
  "orig_nbformat": 4
 },
 "nbformat": 4,
 "nbformat_minor": 2
}
