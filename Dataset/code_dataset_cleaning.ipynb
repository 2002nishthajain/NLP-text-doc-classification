{
 "cells": [
  {
   "cell_type": "code",
   "execution_count": 20,
   "metadata": {},
   "outputs": [
    {
     "ename": "EmptyDataError",
     "evalue": "No columns to parse from file",
     "output_type": "error",
     "traceback": [
      "\u001b[1;31m---------------------------------------------------------------------------\u001b[0m",
      "\u001b[1;31mEmptyDataError\u001b[0m                            Traceback (most recent call last)",
      "\u001b[1;32md:\\DELL\\Documents\\New folder\\NLP-text-doc-classification\\Dataset\\code_dataset_cleaning.ipynb Cell 1\u001b[0m line \u001b[0;36m<cell line: 2>\u001b[1;34m()\u001b[0m\n\u001b[0;32m      <a href='vscode-notebook-cell:/d%3A/DELL/Documents/New%20folder/NLP-text-doc-classification/Dataset/code_dataset_cleaning.ipynb#W0sZmlsZQ%3D%3D?line=0'>1</a>\u001b[0m \u001b[39mimport\u001b[39;00m \u001b[39mpandas\u001b[39;00m \u001b[39mas\u001b[39;00m \u001b[39mpd\u001b[39;00m\n\u001b[1;32m----> <a href='vscode-notebook-cell:/d%3A/DELL/Documents/New%20folder/NLP-text-doc-classification/Dataset/code_dataset_cleaning.ipynb#W0sZmlsZQ%3D%3D?line=1'>2</a>\u001b[0m df \u001b[39m=\u001b[39m pd\u001b[39m.\u001b[39;49mread_csv(\u001b[39mr\u001b[39;49m\u001b[39m'\u001b[39;49m\u001b[39mCode_final_dataset.csv\u001b[39;49m\u001b[39m'\u001b[39;49m)\n\u001b[0;32m      <a href='vscode-notebook-cell:/d%3A/DELL/Documents/New%20folder/NLP-text-doc-classification/Dataset/code_dataset_cleaning.ipynb#W0sZmlsZQ%3D%3D?line=2'>3</a>\u001b[0m df\u001b[39m.\u001b[39mhead()\n",
      "File \u001b[1;32mc:\\Users\\DELL\\AppData\\Local\\Programs\\Python\\Python310\\lib\\site-packages\\pandas\\util\\_decorators.py:311\u001b[0m, in \u001b[0;36mdeprecate_nonkeyword_arguments.<locals>.decorate.<locals>.wrapper\u001b[1;34m(*args, **kwargs)\u001b[0m\n\u001b[0;32m    305\u001b[0m \u001b[39mif\u001b[39;00m \u001b[39mlen\u001b[39m(args) \u001b[39m>\u001b[39m num_allow_args:\n\u001b[0;32m    306\u001b[0m     warnings\u001b[39m.\u001b[39mwarn(\n\u001b[0;32m    307\u001b[0m         msg\u001b[39m.\u001b[39mformat(arguments\u001b[39m=\u001b[39marguments),\n\u001b[0;32m    308\u001b[0m         \u001b[39mFutureWarning\u001b[39;00m,\n\u001b[0;32m    309\u001b[0m         stacklevel\u001b[39m=\u001b[39mstacklevel,\n\u001b[0;32m    310\u001b[0m     )\n\u001b[1;32m--> 311\u001b[0m \u001b[39mreturn\u001b[39;00m func(\u001b[39m*\u001b[39margs, \u001b[39m*\u001b[39m\u001b[39m*\u001b[39mkwargs)\n",
      "File \u001b[1;32mc:\\Users\\DELL\\AppData\\Local\\Programs\\Python\\Python310\\lib\\site-packages\\pandas\\io\\parsers\\readers.py:680\u001b[0m, in \u001b[0;36mread_csv\u001b[1;34m(filepath_or_buffer, sep, delimiter, header, names, index_col, usecols, squeeze, prefix, mangle_dupe_cols, dtype, engine, converters, true_values, false_values, skipinitialspace, skiprows, skipfooter, nrows, na_values, keep_default_na, na_filter, verbose, skip_blank_lines, parse_dates, infer_datetime_format, keep_date_col, date_parser, dayfirst, cache_dates, iterator, chunksize, compression, thousands, decimal, lineterminator, quotechar, quoting, doublequote, escapechar, comment, encoding, encoding_errors, dialect, error_bad_lines, warn_bad_lines, on_bad_lines, delim_whitespace, low_memory, memory_map, float_precision, storage_options)\u001b[0m\n\u001b[0;32m    665\u001b[0m kwds_defaults \u001b[39m=\u001b[39m _refine_defaults_read(\n\u001b[0;32m    666\u001b[0m     dialect,\n\u001b[0;32m    667\u001b[0m     delimiter,\n\u001b[1;32m   (...)\u001b[0m\n\u001b[0;32m    676\u001b[0m     defaults\u001b[39m=\u001b[39m{\u001b[39m\"\u001b[39m\u001b[39mdelimiter\u001b[39m\u001b[39m\"\u001b[39m: \u001b[39m\"\u001b[39m\u001b[39m,\u001b[39m\u001b[39m\"\u001b[39m},\n\u001b[0;32m    677\u001b[0m )\n\u001b[0;32m    678\u001b[0m kwds\u001b[39m.\u001b[39mupdate(kwds_defaults)\n\u001b[1;32m--> 680\u001b[0m \u001b[39mreturn\u001b[39;00m _read(filepath_or_buffer, kwds)\n",
      "File \u001b[1;32mc:\\Users\\DELL\\AppData\\Local\\Programs\\Python\\Python310\\lib\\site-packages\\pandas\\io\\parsers\\readers.py:575\u001b[0m, in \u001b[0;36m_read\u001b[1;34m(filepath_or_buffer, kwds)\u001b[0m\n\u001b[0;32m    572\u001b[0m _validate_names(kwds\u001b[39m.\u001b[39mget(\u001b[39m\"\u001b[39m\u001b[39mnames\u001b[39m\u001b[39m\"\u001b[39m, \u001b[39mNone\u001b[39;00m))\n\u001b[0;32m    574\u001b[0m \u001b[39m# Create the parser.\u001b[39;00m\n\u001b[1;32m--> 575\u001b[0m parser \u001b[39m=\u001b[39m TextFileReader(filepath_or_buffer, \u001b[39m*\u001b[39m\u001b[39m*\u001b[39mkwds)\n\u001b[0;32m    577\u001b[0m \u001b[39mif\u001b[39;00m chunksize \u001b[39mor\u001b[39;00m iterator:\n\u001b[0;32m    578\u001b[0m     \u001b[39mreturn\u001b[39;00m parser\n",
      "File \u001b[1;32mc:\\Users\\DELL\\AppData\\Local\\Programs\\Python\\Python310\\lib\\site-packages\\pandas\\io\\parsers\\readers.py:933\u001b[0m, in \u001b[0;36mTextFileReader.__init__\u001b[1;34m(self, f, engine, **kwds)\u001b[0m\n\u001b[0;32m    930\u001b[0m     \u001b[39mself\u001b[39m\u001b[39m.\u001b[39moptions[\u001b[39m\"\u001b[39m\u001b[39mhas_index_names\u001b[39m\u001b[39m\"\u001b[39m] \u001b[39m=\u001b[39m kwds[\u001b[39m\"\u001b[39m\u001b[39mhas_index_names\u001b[39m\u001b[39m\"\u001b[39m]\n\u001b[0;32m    932\u001b[0m \u001b[39mself\u001b[39m\u001b[39m.\u001b[39mhandles: IOHandles \u001b[39m|\u001b[39m \u001b[39mNone\u001b[39;00m \u001b[39m=\u001b[39m \u001b[39mNone\u001b[39;00m\n\u001b[1;32m--> 933\u001b[0m \u001b[39mself\u001b[39m\u001b[39m.\u001b[39m_engine \u001b[39m=\u001b[39m \u001b[39mself\u001b[39;49m\u001b[39m.\u001b[39;49m_make_engine(f, \u001b[39mself\u001b[39;49m\u001b[39m.\u001b[39;49mengine)\n",
      "File \u001b[1;32mc:\\Users\\DELL\\AppData\\Local\\Programs\\Python\\Python310\\lib\\site-packages\\pandas\\io\\parsers\\readers.py:1235\u001b[0m, in \u001b[0;36mTextFileReader._make_engine\u001b[1;34m(self, f, engine)\u001b[0m\n\u001b[0;32m   1232\u001b[0m     \u001b[39mraise\u001b[39;00m \u001b[39mValueError\u001b[39;00m(msg)\n\u001b[0;32m   1234\u001b[0m \u001b[39mtry\u001b[39;00m:\n\u001b[1;32m-> 1235\u001b[0m     \u001b[39mreturn\u001b[39;00m mapping[engine](f, \u001b[39m*\u001b[39m\u001b[39m*\u001b[39m\u001b[39mself\u001b[39m\u001b[39m.\u001b[39moptions)\n\u001b[0;32m   1236\u001b[0m \u001b[39mexcept\u001b[39;00m \u001b[39mException\u001b[39;00m:\n\u001b[0;32m   1237\u001b[0m     \u001b[39mif\u001b[39;00m \u001b[39mself\u001b[39m\u001b[39m.\u001b[39mhandles \u001b[39mis\u001b[39;00m \u001b[39mnot\u001b[39;00m \u001b[39mNone\u001b[39;00m:\n",
      "File \u001b[1;32mc:\\Users\\DELL\\AppData\\Local\\Programs\\Python\\Python310\\lib\\site-packages\\pandas\\io\\parsers\\c_parser_wrapper.py:75\u001b[0m, in \u001b[0;36mCParserWrapper.__init__\u001b[1;34m(self, src, **kwds)\u001b[0m\n\u001b[0;32m     72\u001b[0m     kwds\u001b[39m.\u001b[39mpop(key, \u001b[39mNone\u001b[39;00m)\n\u001b[0;32m     74\u001b[0m kwds[\u001b[39m\"\u001b[39m\u001b[39mdtype\u001b[39m\u001b[39m\"\u001b[39m] \u001b[39m=\u001b[39m ensure_dtype_objs(kwds\u001b[39m.\u001b[39mget(\u001b[39m\"\u001b[39m\u001b[39mdtype\u001b[39m\u001b[39m\"\u001b[39m, \u001b[39mNone\u001b[39;00m))\n\u001b[1;32m---> 75\u001b[0m \u001b[39mself\u001b[39m\u001b[39m.\u001b[39m_reader \u001b[39m=\u001b[39m parsers\u001b[39m.\u001b[39mTextReader(src, \u001b[39m*\u001b[39m\u001b[39m*\u001b[39mkwds)\n\u001b[0;32m     77\u001b[0m \u001b[39mself\u001b[39m\u001b[39m.\u001b[39munnamed_cols \u001b[39m=\u001b[39m \u001b[39mself\u001b[39m\u001b[39m.\u001b[39m_reader\u001b[39m.\u001b[39munnamed_cols\n\u001b[0;32m     79\u001b[0m \u001b[39m# error: Cannot determine type of 'names'\u001b[39;00m\n",
      "File \u001b[1;32mc:\\Users\\DELL\\AppData\\Local\\Programs\\Python\\Python310\\lib\\site-packages\\pandas\\_libs\\parsers.pyx:551\u001b[0m, in \u001b[0;36mpandas._libs.parsers.TextReader.__cinit__\u001b[1;34m()\u001b[0m\n",
      "\u001b[1;31mEmptyDataError\u001b[0m: No columns to parse from file"
     ]
    }
   ],
   "source": [
    "import pandas as pd\n",
    "df = pd.read_csv(r'Code_final_dataset.csv')\n",
    "df.head()"
   ]
  },
  {
   "cell_type": "code",
   "execution_count": 5,
   "metadata": {},
   "outputs": [
    {
     "data": {
      "text/plain": [
       "array(['for i in range(10):\\\\n    print(i)\\\\n\\\\n# This Python code prints numbers from 0 to 9.',\n",
       "       'int main() {\\\\n    printf(\"Hello, World!\");\\\\n    return 0;\\\\n}\\\\n\\\\n// This is a C program that prints \\'Hello, World!\\'',\n",
       "       \"puts 'Hello, Ruby!'\\\\n\\\\n# This Ruby code prints 'Hello, Ruby!'\",\n",
       "       'public static void main(String[] args) {\\\\n    System.out.println(\"Hello, Java!\");\\\\n}\\\\n\\\\n// Java program to print \\'Hello, Java!\\'',\n",
       "       'console.log(\"Hello, JavaScript!\");\\\\n\\\\n// JavaScript code to print \\'Hello, JavaScript!\\'',\n",
       "       \"echo 'Hello, PHP!';\\\\n\\\\n// PHP code to echo 'Hello, PHP!'\",\n",
       "       \"SELECT * FROM users;\\\\n\\\\n-- SQL query to select all records from 'users' table\",\n",
       "       \"var message = 'Hello, TypeScript!';\\\\nconsole.log(message);\\\\n\\\\n// TypeScript code to print 'Hello, TypeScript!'\",\n",
       "       'func sayHello() {\\\\n    print(\"Hello, Swift!\")\\\\n}\\\\n\\\\n// Swift code to print \\'Hello, Swift!\\'',\n",
       "       \"<html>\\\\n  <body>\\\\n    <h1>Hello, HTML!</h1>\\\\n  </body>\\\\n</html>\\\\n\\\\n<!-- HTML code to display 'Hello, HTML!' -->\",\n",
       "       \"puts 'Hello, Kotlin!'\\\\n\\\\n# This Kotlin code prints 'Hello, Kotlin!'\",\n",
       "       \"import 'dart:io';\\\\nvoid main() {\\\\n    print('Hello, Dart!');\\\\n}\\\\n\\\\n// Dart code to print 'Hello, Dart!'\",\n",
       "       \"// This is a comment in C++\\\\n#include <iostream>\\\\nusing namespace std;\\\\nint main() {\\\\n    cout << 'Hello, C++!' << endl;\\\\n    return 0;\\\\n}\\\\n\\\\n// C++ code to print 'Hello, C++!'\",\n",
       "       'body {\\\\n    font-family: Arial, sans-serif;\\\\n    font-size: 16px;\\\\n}\\\\n\\\\n/* CSS code for setting font and size */',\n",
       "       \"import pandas as pd\\\\n\\\\n# This Python code imports pandas library\\\\nprint('Hello, Pandas!')\",\n",
       "       'public class Hello {\\\\n    public static void main(String[] args) {\\\\n        System.out.println(\"Hello, Java!\");\\\\n    }\\\\n}\\\\n\\\\n// Java program to print \\'Hello, Java!\\'',\n",
       "       'console.log(\"Hello, Node.js!\");\\\\n\\\\n// JavaScript code to print \\'Hello, Node.js!\\'',\n",
       "       \"echo 'Hello, World!';\\\\n\\\\n# This PHP code echoes 'Hello, World!'\",\n",
       "       \"SELECT name, age FROM users;\\\\n\\\\n-- SQL query to select 'name' and 'age' from 'users' table\",\n",
       "       \"var message = 'Hello, React Native!';\\\\nconsole.log(message);\\\\n\\\\n// TypeScript code to print 'Hello, React Native!'\",\n",
       "       'func sayHello() {\\\\n    print(\"Hello, SwiftUI!\")\\\\n}\\\\n\\\\n// Swift code to print \\'Hello, SwiftUI!\\'',\n",
       "       '<html>\\\\n  <body>\\\\n    <h1>Hello, Web Development!</h1>\\\\n  </body>\\\\n</html>\\\\n\\\\n<!-- HTML code for a web development greeting -->',\n",
       "       \"puts 'Hello, Android!'\\\\n\\\\n# This Kotlin code prints 'Hello, Android!'\",\n",
       "       \"import 'dart:io';\\\\nvoid main() {\\\\n    print('Hello, Flutter!');\\\\n}\\\\n\\\\n// Dart code to print 'Hello, Flutter!'\",\n",
       "       \"// This is a comment in C++\\\\n#include <iostream>\\\\nusing namespace std;\\\\nint main() {\\\\n    cout << 'Hello, World!' << endl;\\\\n    return 0;\\\\n}\\\\n\\\\n// C++ code to print 'Hello, World!'\",\n",
       "       'body {\\\\n    background-color: #3498db;\\\\n    color: white;\\\\n}\\\\n\\\\n/* CSS code for styling the body */',\n",
       "       \"import pandas as pd\\\\n\\\\n# This Python code imports pandas library\\\\nprint('Hello, Data Analysis!')\",\n",
       "       'public class Calculator {\\\\n    public static void main(String[] args) {\\\\n        int a = 5, b = 3;\\\\n        System.out.println(\"Sum: \" + (a + b));\\\\n    }\\\\n}\\\\n\\\\n// Java program to calculate the sum of two numbers',\n",
       "       'console.log(\"Hello, React!\");\\\\n\\\\n// JavaScript code to print \\'Hello, React!\\'',\n",
       "       \"echo 'Hello, Database!';\\\\n\\\\n# This PHP code echoes 'Hello, Database!'\",\n",
       "       \"SELECT product_name, price FROM products;\\\\n\\\\n-- SQL query to select 'product_name' and 'price' from 'products' table\",\n",
       "       \"var message = 'Hello, Vue.js!';\\\\nconsole.log(message);\\\\n\\\\n// TypeScript code to print 'Hello, Vue.js!'\",\n",
       "       'func sayHello() {\\\\n    print(\"Hello, Xcode!\")\\\\n}\\\\n\\\\n// Swift code to print \\'Hello, Xcode!\\'',\n",
       "       '<html>\\\\n  <body>\\\\n    <h1>Hello, CSS Styling!</h1>\\\\n  </body>\\\\n</html>\\\\n\\\\n<!-- HTML code for styling with CSS -->',\n",
       "       \"puts 'Hello, Raspberry Pi!'\\\\n\\\\n# This Ruby code prints 'Hello, Raspberry Pi!'\",\n",
       "       \"import 'dart:io';\\\\nvoid main() {\\\\n    print('Hello, IoT!');\\\\n}\\\\n\\\\n// Dart code to print 'Hello, IoT!'\",\n",
       "       \"// This is a comment in C++\\\\n#include <iostream>\\\\nusing namespace std;\\\\nint main() {\\\\n    cout << 'Hello, C++ Programming!' << endl;\\\\n    return 0;\\\\n}\\\\n\\\\n// C++ code to print 'Hello, C++ Programming!'\",\n",
       "       'body {\\\\n    margin: 0;\\\\n    padding: 0;\\\\n}\\\\n\\\\n/* CSS code for resetting margins and paddings */',\n",
       "       \"import pandas as pd\\\\n\\\\n# This Python code imports pandas library\\\\nprint('Hello, Data Science!')\",\n",
       "       'public class Rectangle {\\\\n    int length, width;\\\\n    public int calculateArea() {\\\\n        return length * width;\\\\n    }\\\\n}\\\\n\\\\n// Java class to calculate the area of a rectangle',\n",
       "       'console.log(\"Hello, Express.js!\");\\\\n\\\\n// JavaScript code to print \\'Hello, Express.js!\\'',\n",
       "       \"echo 'Hello, Laravel!';\\\\n\\\\n# This PHP code echoes 'Hello, Laravel!'\",\n",
       "       \"SELECT city, population FROM cities;\\\\n\\\\n-- SQL query to select 'city' and 'population' from 'cities' table\",\n",
       "       \"var message = 'Hello, Angular!';\\\\nconsole.log(message);\\\\n\\\\n// TypeScript code to print 'Hello, Angular!'\",\n",
       "       'func sayHello() {\\\\n    print(\"Hello, watchOS!\")\\\\n}\\\\n\\\\n// Swift code to print \\'Hello, watchOS!\\'',\n",
       "       '<html>\\\\n  <body>\\\\n    <h1>Hello, Responsive Design!</h1>\\\\n  </body>\\\\n</html>\\\\n\\\\n<!-- HTML code for responsive web design -->',\n",
       "       \"puts 'Hello, Robotics!'\\\\n\\\\n# This Ruby code prints 'Hello, Robotics!'\",\n",
       "       \"import 'dart:io';\\\\nvoid main() {\\\\n    print('Hello, Robotics World!');\\\\n}\\\\n\\\\n// Dart code to print 'Hello, Robotics World!'\",\n",
       "       \"// This is a comment in C++\\\\n#include <iostream>\\\\nusing namespace std;\\\\nint main() {\\\\n    cout << 'Hello, Robotics Programming!' << endl;\\\\n    return 0;\\\\n}\\\\n\\\\n// C++ code to print 'Hello, Robotics Programming!'\",\n",
       "       'body {\\\\n    border: 1px solid #ddd;\\\\n}\\\\n\\\\n/* CSS code for adding a border to elements */',\n",
       "       \"import pandas as pd\\\\n\\\\n# This Python code imports pandas library\\\\nprint('Hello, Machine Learning!')\",\n",
       "       'public class Circle {\\\\n    double radius;\\\\n    public double calculateArea() {\\\\n        return Math.PI * radius * radius;\\\\n    }\\\\n}\\\\n\\\\n// Java class to calculate the area of a circle',\n",
       "       'console.log(\"Hello, Redux!\");\\\\n\\\\n// JavaScript code to print \\'Hello, Redux!\\'',\n",
       "       \"echo 'Hello, Symfony!';\\\\n\\\\n# This PHP code echoes 'Hello, Symfony!'\",\n",
       "       \"SELECT book_title, author FROM books;\\\\n\\\\n-- SQL query to select 'book_title' and 'author' from 'books' table\",\n",
       "       \"var message = 'Hello, RxJS!';\\\\nconsole.log(message);\\\\n\\\\n// TypeScript code to print 'Hello, RxJS!'\",\n",
       "       'func sayHello() {\\\\n    print(\"Hello, ARKit!\")\\\\n}\\\\n\\\\n// Swift code to print \\'Hello, ARKit!\\'',\n",
       "       '<html>\\\\n  <body>\\\\n    <h1>Hello, Flexbox Layout!</h1>\\\\n  </body>\\\\n</html>\\\\n\\\\n<!-- HTML code for flexbox layout -->',\n",
       "       \"puts 'Hello, Blockchain!'\\\\n\\\\n# This Ruby code prints 'Hello, Blockchain!'\",\n",
       "       \"import 'dart:io';\\\\nvoid main() {\\\\n    print('Hello, Blockchain World!');\\\\n}\\\\n\\\\n// Dart code to print 'Hello, Blockchain World!'\",\n",
       "       \"// This is a comment in C++\\\\n#include <iostream>\\\\nusing namespace std;\\\\nint main() {\\\\n    cout << 'Hello, Blockchain Programming!' << endl;\\\\n    return 0;\\\\n}\\\\n\\\\n// C++ code to print 'Hello, Blockchain Programming!'\",\n",
       "       'body {\\\\n    text-align: center;\\\\n}\\\\n\\\\n/* CSS code for centering text */',\n",
       "       \"import pandas as pd\\\\n\\\\n# This Python code imports pandas library\\\\nprint('Hello, Deep Learning!')\",\n",
       "       'public class Triangle {\\\\n    double base, height;\\\\n    public double calculateArea() {\\\\n        return 0.5 * base * height;\\\\n    }\\\\n}\\\\n\\\\n// Java class to calculate the area of a triangle',\n",
       "       'console.log(\"Hello, Vue.js 3!\");\\\\n\\\\n// JavaScript code to print \\'Hello, Vue.js 3!\\'',\n",
       "       \"echo 'Hello, WordPress!';\\\\n\\\\n# This PHP code echoes 'Hello, WordPress!'\",\n",
       "       \"SELECT song_title, artist FROM songs;\\\\n\\\\n-- SQL query to select 'song_title' and 'artist' from 'songs' table\",\n",
       "       \"var message = 'Hello, GraphQL!';\\\\nconsole.log(message);\\\\n\\\\n// TypeScript code to print 'Hello, GraphQL!'\",\n",
       "       'func sayHello() {\\\\n    print(\"Hello, SceneKit!\")\\\\n}\\\\n\\\\n// Swift code to print \\'Hello, SceneKit!\\'',\n",
       "       '<html>\\\\n  <body>\\\\n    <h1>Hello, CSS Grid Layout!</h1>\\\\n  </body>\\\\n</html>\\\\n\\\\n<!-- HTML code for CSS grid layout -->',\n",
       "       \"puts 'Hello, Game Development!'\\\\n\\\\n# This Ruby code prints 'Hello, Game Development!'\",\n",
       "       \"import 'dart:io';\\\\nvoid main() {\\\\n    print('Hello, Game Dev World!');\\\\n}\\\\n\\\\n// Dart code to print 'Hello, Game Dev World!'\",\n",
       "       \"// This is a comment in C++\\\\n#include <iostream>\\\\nusing namespace std;\\\\nint main() {\\\\n    cout << 'Hello, Game Dev Programming!' << endl;\\\\n    return 0;\\\\n}\\\\n\\\\n// C++ code to print 'Hello, Game Dev Programming!'\",\n",
       "       \"body {\\\\n    background-image: url('background.jpg');\\\\n}\\\\n\\\\n/* CSS code for setting a background image */\",\n",
       "       \"import pandas as pd\\\\n\\\\n# This Python code imports pandas library\\\\nprint('Hello, Natural Language Processing!')\",\n",
       "       'public class Square {\\\\n    double side;\\\\n    public double calculateArea() {\\\\n        return side * side;\\\\n    }\\\\n}\\\\n\\\\n// Java class to calculate the area of a square',\n",
       "       'console.log(\"Hello, Electron!\");\\\\n\\\\n// JavaScript code to print \\'Hello, Electron!\\'',\n",
       "       \"echo 'Hello, Joomla!';\\\\n\\\\n# This PHP code echoes 'Hello, Joomla!'\",\n",
       "       \"SELECT product_name, category FROM products;\\\\n\\\\n-- SQL query to select 'product_name' and 'category' from 'products' table\",\n",
       "       \"var message = 'Hello, TensorFlow!';\\\\nconsole.log(message);\\\\n\\\\n// TypeScript code to print 'Hello, TensorFlow!'\",\n",
       "       'func sayHello() {\\\\n    print(\"Hello, Metal!\")\\\\n}\\\\n\\\\n// Swift code to print \\'Hello, Metal!\\'',\n",
       "       '<html>\\\\n  <body>\\\\n    <h1>Hello, Web Animation!</h1>\\\\n  </body>\\\\n</html>\\\\n\\\\n<!-- HTML code for web animation -->',\n",
       "       \"puts 'Hello, Cybersecurity!'\\\\n\\\\n# This Ruby code prints 'Hello, Cybersecurity!'\",\n",
       "       \"import 'dart:io';\\\\nvoid main() {\\\\n    print('Hello, Cybersecurity World!');\\\\n}\\\\n\\\\n// Dart code to print 'Hello, Cybersecurity World!'\",\n",
       "       \"// This is a comment in C++\\\\n#include <iostream>\\\\nusing namespace std;\\\\nint main() {\\\\n    cout << 'Hello, Cybersecurity Programming!' << endl;\\\\n    return 0;\\\\n}\\\\n\\\\n// C++ code to print 'Hello, Cybersecurity Programming!'\",\n",
       "       'body {\\\\n    color: #333;\\\\n}\\\\n\\\\n/* CSS code for setting text color */',\n",
       "       \"import pandas as pd\\\\n\\\\n# This Python code imports pandas library\\\\nprint('Hello, Artificial Intelligence!')\",\n",
       "       \"public class Employee {\\\\n    String name;\\\\n    int id;\\\\n    public void displayInfo() {\\\\n        System.out.println('Name: ' + name);\\\\n    }\\\\n}\\\\n\\\\n// Java class to display employee information\",\n",
       "       'console.log(\"Hello, Three.js!\");\\\\n\\\\n// JavaScript code to print \\'Hello, Three.js!\\'',\n",
       "       \"echo 'Hello, Magento!';\\\\n\\\\n# This PHP code echoes 'Hello, Magento!'\",\n",
       "       \"SELECT movie_title, director FROM movies;\\\\n\\\\n-- SQL query to select 'movie_title' and 'director' from 'movies' table\",\n",
       "       \"var message = 'Hello, Rust!';\\\\nconsole.log(message);\\\\n\\\\n// TypeScript code to print 'Hello, Rust!'\",\n",
       "       'func sayHello() {\\\\n    print(\"Hello, OpenCV!\")\\\\n}\\\\n\\\\n// Swift code to print \\'Hello, OpenCV!\\'',\n",
       "       '<html>\\\\n  <body>\\\\n    <h1>Hello, CSS Transitions!</h1>\\\\n  </body>\\\\n</html>\\\\n\\\\n<!-- HTML code for CSS transitions -->',\n",
       "       \"puts 'Hello, Cloud Computing!'\\\\n\\\\n# This Ruby code prints 'Hello, Cloud Computing!'\",\n",
       "       \"import 'dart:io';\\\\nvoid main() {\\\\n    print('Hello, Cloud Computing World!');\\\\n}\\\\n\\\\n// Dart code to print 'Hello, Cloud Computing World!'\",\n",
       "       \"// This is a comment in C++\\\\n#include <iostream>\\\\nusing namespace std;\\\\nint main() {\\\\n    cout << 'Hello, Cloud Computing Programming!' << endl;\\\\n    return 0;\\\\n}\\\\n\\\\n// C++ code to print 'Hello, Cloud Computing Programming!'\",\n",
       "       'body {\\\\n    font-weight: bold;\\\\n}\\\\n\\\\n/* CSS code for setting font weight */',\n",
       "       \"import pandas as pd\\\\n\\\\n# This Python code imports pandas library\\\\nprint('Hello, Cloud Services!')\",\n",
       "       \"public class Car {\\\\n    String make, model;\\\\n    public void start() {\\\\n        System.out.println('The car is starting.');\\\\n    }\\\\n}\\\\n\\\\n// Java class for starting a car\",\n",
       "       'console.log(\"Hello, Serverless!\");\\\\n\\\\n// JavaScript code to print \\'Hello, Serverless!\\'',\n",
       "       \"echo 'Hello, Docker!';\\\\n\\\\n# This PHP code echoes 'Hello, Docker!'\",\n",
       "       \"SELECT city_name, population FROM cities;\\\\n\\\\n-- SQL query to select 'city_name' and 'population' from 'cities' table\",\n",
       "       \"var message = 'Hello, Heroku!';\\\\nconsole.log(message);\\\\n\\\\n// TypeScript code to print 'Hello, Heroku!'\",\n",
       "       'func sayHello() {\\\\n    print(\"Hello, CloudFormation!\")\\\\n}\\\\n\\\\n// Swift code to print \\'Hello, CloudFormation!\\'',\n",
       "       '<html>\\\\n  <body>\\\\n    <h1>Hello, CSS Animations!</h1>\\\\n  </body>\\\\n</html>\\\\n\\\\n<!-- HTML code for CSS animations -->',\n",
       "       \"puts 'Hello, DevOps!'\\\\n\\\\n# This Ruby code prints 'Hello, DevOps!'\",\n",
       "       \"import 'dart:io';\\\\nvoid main() {\\\\n    print('Hello, DevOps World!');\\\\n}\\\\n\\\\n// Dart code to print 'Hello, DevOps World!'\",\n",
       "       \"// This is a comment in C++\\\\n#include <iostream>\\\\nusing namespace std;\\\\nint main() {\\\\n    cout << 'Hello, DevOps Programming!' << endl;\\\\n    return 0;\\\\n}\\\\n\\\\n// C++ code to print 'Hello, DevOps Programming!'\",\n",
       "       'body {\\\\n    background-color: #f2f2f2;\\\\n}\\\\n\\\\n/* CSS code for setting background color */',\n",
       "       \"import pandas as pd\\\\n\\\\n# This Python code imports pandas library\\\\nprint('Hello, Continuous Integration!')\",\n",
       "       \"public class Dog {\\\\n    String name;\\\\n    public void bark() {\\\\n        System.out.println('Woof! Woof!');\\\\n    }\\\\n}\\\\n\\\\n// Java class for a barking dog\",\n",
       "       'console.log(\"Hello, Jenkins!\");\\\\n\\\\n// JavaScript code to print \\'Hello, Jenkins!\\'',\n",
       "       \"echo 'Hello, Travis CI!';\\\\n\\\\n# This PHP code echoes 'Hello, Travis CI!'\",\n",
       "       \"SELECT product_name, quantity FROM inventory;\\\\n\\\\n-- SQL query to select 'product_name' and 'quantity' from 'inventory' table\",\n",
       "       \"var message = 'Hello, CircleCI!';\\\\nconsole.log(message);\\\\n\\\\n// TypeScript code to print 'Hello, CircleCI!'\",\n",
       "       'func sayHello() {\\\\n    print(\"Hello, CircleCI!\")\\\\n}\\\\n\\\\n// Swift code to print \\'Hello, CircleCI!\\'',\n",
       "       '<html>\\\\n  <body>\\\\n    <h1>Hello, CSS Flexbox!</h1>\\\\n  </body>\\\\n</html>\\\\n\\\\n<!-- HTML code for CSS flexbox layout -->',\n",
       "       \"puts 'Hello, Virtual Reality!'\\\\n\\\\n# This Ruby code prints 'Hello, Virtual Reality!'\",\n",
       "       \"import 'dart:io';\\\\nvoid main() {\\\\n    print('Hello, Virtual Reality World!');\\\\n}\\\\n\\\\n// Dart code to print 'Hello, Virtual Reality World!'\",\n",
       "       \"// This is a comment in C++\\\\n#include <iostream>\\\\nusing namespace std;\\\\nint main() {\\\\n    cout << 'Hello, Virtual Reality Programming!' << endl;\\\\n    return 0;\\\\n}\\\\n\\\\n// C++ code to print 'Hello, Virtual Reality Programming!'\",\n",
       "       'body {\\\\n    line-height: 1.6;\\\\n}\\\\n\\\\n/* CSS code for setting line height */',\n",
       "       \"import pandas as pd\\\\n\\\\n# This Python code imports pandas library\\\\nprint('Hello, Augmented Reality!')\",\n",
       "       \"public class Cat {\\\\n    String name;\\\\n    public void meow() {\\\\n        System.out.println('Meow!');\\\\n    }\\\\n}\\\\n\\\\n// Java class for a meowing cat\",\n",
       "       'console.log(\"Hello, Augmented Reality!\");\\\\n\\\\n// JavaScript code to print \\'Hello, Augmented Reality!\\'',\n",
       "       \"echo 'Hello, Augmented Reality!';\\\\n\\\\n# This PHP code echoes 'Hello, Augmented Reality!'\",\n",
       "       \"SELECT game_title, genre FROM games;\\\\n\\\\n-- SQL query to select 'game_title' and 'genre' from 'games' table\",\n",
       "       \"var message = 'Hello, ARCore!';\\\\nconsole.log(message);\\\\n\\\\n// TypeScript code to print 'Hello, ARCore!'\",\n",
       "       'func sayHello() {\\\\n    print(\"Hello, ARKit 2!\")\\\\n}\\\\n\\\\n// Swift code to print \\'Hello, ARKit 2!\\'',\n",
       "       '<html>\\\\n  <body>\\\\n    <h1>Hello, CSS Transforms!</h1>\\\\n  </body>\\\\n</html>\\\\n\\\\n<!-- HTML code for CSS transforms -->',\n",
       "       \"puts 'Hello, Natural Language Processing!'\\\\n\\\\n# This Ruby code prints 'Hello, Natural Language Processing!'\",\n",
       "       \"import 'dart:io';\\\\nvoid main() {\\\\n    print('Hello, Natural Language Processing World!');\\\\n}\\\\n\\\\n// Dart code to print 'Hello, Natural Language Processing World!'\",\n",
       "       \"// This is a comment in C++\\\\n#include <iostream>\\\\nusing namespace std;\\\\nint main() {\\\\n    cout << 'Hello, NLP Programming!' << endl;\\\\n    return 0;\\\\n}\\\\n\\\\n// C++ code to print 'Hello, NLP Programming!'\",\n",
       "       'body {\\\\n    text-decoration: underline;\\\\n}\\\\n\\\\n/* CSS code for setting text decoration */',\n",
       "       \"import pandas as pd\\\\n\\\\n# This Python code imports pandas library\\\\nprint('Hello, Computer Vision!')\",\n",
       "       \"public class Bird {\\\\n    String species;\\\\n    public void chirp() {\\\\n        System.out.println('Chirp! Chirp!');\\\\n    }\\\\n}\\\\n\\\\n// Java class for a chirping bird\",\n",
       "       'console.log(\"Hello, Computer Vision!\");\\\\n\\\\n// JavaScript code to print \\'Hello, Computer Vision!\\'',\n",
       "       \"echo 'Hello, Image Processing!';\\\\n\\\\n# This PHP code echoes 'Hello, Image Processing!'\",\n",
       "       \"SELECT image_name, width, height FROM images;\\\\n\\\\n-- SQL query to select image information from 'images' table\",\n",
       "       \"var message = 'Hello, OpenCV!';\\\\nconsole.log(message);\\\\n\\\\n// TypeScript code to print 'Hello, OpenCV!'\",\n",
       "       'func sayHello() {\\\\n    print(\"Hello, Image Analysis!\")\\\\n}\\\\n\\\\n// Swift code to print \\'Hello, Image Analysis!\\'',\n",
       "       '<html>\\\\n  <body>\\\\n    <h1>Hello, CSS Gradients!</h1>\\\\n  </body>\\\\n</html>\\\\n\\\\n<!-- HTML code for CSS gradients -->',\n",
       "       \"puts 'Hello, Big Data!'\\\\n\\\\n# This Ruby code prints 'Hello, Big Data!'\",\n",
       "       \"import 'dart:io';\\\\nvoid main() {\\\\n    print('Hello, Big Data World!');\\\\n}\\\\n\\\\n// Dart code to print 'Hello, Big Data World!'\",\n",
       "       \"// This is a comment in C++\\\\n#include <iostream>\\\\nusing namespace std;\\\\nint main() {\\\\n    cout << 'Hello, Big Data Programming!' << endl;\\\\n    return 0;\\\\n}\\\\n\\\\n// C++ code to print 'Hello, Big Data Programming!'\",\n",
       "       'body {\\\\n    background-image: linear-gradient(to bottom, #ffcc00, #ff6600);\\\\n}\\\\n\\\\n/* CSS code for linear gradient background */',\n",
       "       \"import pandas as pd\\\\n\\\\n# This Python code imports pandas library\\\\nprint('Hello, Internet of Things!')\",\n",
       "       \"public class Sensor {\\\\n    String type;\\\\n    public void measure() {\\\\n        System.out.println('Measuring...');\\\\n    }\\\\n}\\\\n\\\\n// Java class for measuring sensors\",\n",
       "       'console.log(\"Hello, IoT!\");\\\\n\\\\n// JavaScript code to print \\'Hello, IoT!\\'',\n",
       "       \"echo 'Hello, IoT!';\\\\n\\\\n# This PHP code echoes 'Hello, IoT!'\",\n",
       "       \"SELECT sensor_name, value FROM sensor_data;\\\\n\\\\n-- SQL query to select 'sensor_name' and 'value' from 'sensor_data' table\",\n",
       "       \"var message = 'Hello, MQTT!';\\\\nconsole.log(message);\\\\n\\\\n// TypeScript code to print 'Hello, MQTT!'\",\n",
       "       'func sayHello() {\\\\n    print(\"Hello, Home Automation!\")\\\\n}\\\\n\\\\n// Swift code to print \\'Hello, Home Automation!\\'',\n",
       "       '<html>\\\\n  <body>\\\\n    <h1>Hello, CSS Shadows!</h1>\\\\n  </body>\\\\n</html>\\\\n\\\\n<!-- HTML code for CSS shadows -->',\n",
       "       \"puts 'Hello, Robotics Process Automation!'\\\\n\\\\n# This Ruby code prints 'Hello, RPA!'\",\n",
       "       \"import 'dart:io';\\\\nvoid main() {\\\\n    print('Hello, RPA World!');\\\\n}\\\\n\\\\n// Dart code to print 'Hello, RPA World!'\",\n",
       "       \"// This is a comment in C++\\\\n#include <iostream>\\\\nusing namespace std;\\\\nint main() {\\\\n    cout << 'Hello, RPA Programming!' << endl;\\\\n    return 0;\\\\n}\\\\n\\\\n// C++ code to print 'Hello, RPA Programming!'\",\n",
       "       'body {\\\\n    box-shadow: 5px 5px 10px #888888;\\\\n}\\\\n\\\\n/* CSS code for box shadow */',\n",
       "       \"import pandas as pd\\\\n\\\\n# This Python code imports pandas library\\\\nprint('Hello, Cloud Security!')\",\n",
       "       \"public class Firewall {\\\\n    String name;\\\\n    public void protect() {\\\\n        System.out.println('Firewall is protecting.');\\\\n    }\\\\n}\\\\n\\\\n// Java class for a firewall\",\n",
       "       'console.log(\"Hello, Cloud Security!\");\\\\n\\\\n// JavaScript code to print \\'Hello, Cloud Security!\\'',\n",
       "       \"echo 'Hello, Cybersecurity!';\\\\n\\\\n# This PHP code echoes 'Hello, Cybersecurity!'\",\n",
       "       \"SELECT vulnerability_name, severity FROM vulnerabilities;\\\\n\\\\n-- SQL query to select 'vulnerability_name' and 'severity' from 'vulnerabilities' table\",\n",
       "       \"var message = 'Hello, Security Analyst!';\\\\nconsole.log(message);\\\\n\\\\n// TypeScript code to print 'Hello, Security Analyst!'\",\n",
       "       'func sayHello() {\\\\n    print(\"Hello, Penetration Testing!\")\\\\n}\\\\n\\\\n// Swift code to print \\'Hello, Penetration Testing!\\'',\n",
       "       '<html>\\\\n  <body>\\\\n    <h1>Hello, CSS Variables!</h1>\\\\n  </body>\\\\n</html>\\\\n\\\\n<!-- HTML code for CSS variables -->',\n",
       "       \"puts 'Hello, Cryptography!'\\\\n\\\\n# This Ruby code prints 'Hello, Cryptography!'\",\n",
       "       \"import 'dart:io';\\\\nvoid main() {\\\\n    print('Hello, Cryptography World!');\\\\n}\\\\n\\\\n// Dart code to print 'Hello, Cryptography World!'\",\n",
       "       \"// This is a comment in C++\\\\n#include <iostream>\\\\nusing namespace std;\\\\nint main() {\\\\n    cout << 'Hello, Cryptography Programming!' << endl;\\\\n    return 0;\\\\n}\\\\n\\\\n// C++ code to print 'Hello, Cryptography Programming!'\",\n",
       "       \"body {\\\\n    font-family: 'Roboto', sans-serif;\\\\n}\\\\n\\\\n/* CSS code for setting font family */\",\n",
       "       \"import pandas as pd\\\\n\\\\n# This Python code imports pandas library\\\\nprint('Hello, Cyber Threat Intelligence!')\",\n",
       "       \"public class Virus {\\\\n    String name;\\\\n    public void spread() {\\\\n        System.out.println('Virus is spreading.');\\\\n    }\\\\n}\\\\n\\\\n// Java class for a spreading virus\",\n",
       "       'console.log(\"Hello, Cyber Threat Intelligence!\");\\\\n\\\\n// JavaScript code to print \\'Hello, Cyber Threat Intelligence!\\'',\n",
       "       \"echo 'Hello, Malware Analysis!';\\\\n\\\\n# This PHP code echoes 'Hello, Malware Analysis!'\",\n",
       "       \"SELECT threat_name, level FROM threats;\\\\n\\\\n-- SQL query to select 'threat_name' and 'level' from 'threats' table\",\n",
       "       \"var message = 'Hello, Security Operations Center!';\\\\nconsole.log(message);\\\\n\\\\n// TypeScript code to print 'Hello, Security Operations Center!'\",\n",
       "       'func sayHello() {\\\\n    print(\"Hello, Digital Forensics!\")\\\\n}\\\\n\\\\n// Swift code to print \\'Hello, Digital Forensics!\\'',\n",
       "       '<html>\\\\n  <body>\\\\n    <h1>Hello, CSS Pseudo-Classes!</h1>\\\\n  </body>\\\\n</html>\\\\n\\\\n<!-- HTML code for CSS pseudo-classes -->',\n",
       "       \"puts 'Hello, Blockchain Security!'\\\\n\\\\n# This Ruby code prints 'Hello, Blockchain Security!'\",\n",
       "       \"import 'dart:io';\\\\nvoid main() {\\\\n    print('Hello, Blockchain Security World!');\\\\n}\\\\n\\\\n// Dart code to print 'Hello, Blockchain Security World!'\",\n",
       "       \"// This is a comment in C++\\\\n#include <iostream>\\\\nusing namespace std;\\\\nint main() {\\\\n    cout << 'Hello, Blockchain Security Programming!' << endl;\\\\n    return 0;\\\\n}\\\\n\\\\n// C++ code to print 'Hello, Blockchain Security Programming!'\",\n",
       "       'body {\\\\n    text-transform: uppercase;\\\\n}\\\\n\\\\n/* CSS code for uppercase text */',\n",
       "       \"import pandas as pd\\\\n\\\\n# This Python code imports pandas library\\\\nprint('Hello, Software Security!')\",\n",
       "       \"public class Encryption {\\\\n    String algorithm;\\\\n    public void encrypt() {\\\\n        System.out.println('Encrypting...');\\\\n    }\\\\n}\\\\n\\\\n// Java class for encryption\",\n",
       "       'console.log(\"Hello, Software Security!\");\\\\n\\\\n// JavaScript code to print \\'Hello, Software Security!\\'',\n",
       "       \"echo 'Hello, Secure Coding!';\\\\n\\\\n# This PHP code echoes 'Hello, Secure Coding!'\",\n",
       "       \"SELECT code_name, vulnerability FROM secure_code;\\\\n\\\\n-- SQL query to select 'code_name' and 'vulnerability' from 'secure_code' table\",\n",
       "       \"var message = 'Hello, Security Best Practices!';\\\\nconsole.log(message);\\\\n\\\\n// TypeScript code to print 'Hello, Security Best Practices!'\",\n",
       "       'func sayHello() {\\\\n    print(\"Hello, OWASP Top Ten!\")\\\\n}\\\\n\\\\n// Swift code to print \\'Hello, OWASP Top Ten!\\'',\n",
       "       \"puts 'Hello, Digital Certificates!'\\\\n\\\\n# This Ruby code prints 'Hello, Digital Certificates!'\",\n",
       "       \"import 'dart:io';\\\\nvoid main() {\\\\n    print('Hello, Digital Certificates World!');\\\\n}\\\\n\\\\n// Dart code to print 'Hello, Digital Certificates World!'\",\n",
       "       \"// This is a comment in C++\\\\n#include <iostream>\\\\nusing namespace std;\\\\nint main() {\\\\n    cout << 'Hello, Digital Certificates Programming!' << endl;\\\\n    return 0;\\\\n}\\\\n\\\\n// C++ code to print 'Hello, Digital Certificates Programming!'\",\n",
       "       'body {\\\\n    letter-spacing: 2px;\\\\n}\\\\n\\\\n/* CSS code for letter spacing */',\n",
       "       \"import pandas as pd\\\\n\\\\n# This Python code imports pandas library\\\\nprint('Hello, Cloud Compliance!')\",\n",
       "       \"public class Authentication {\\\\n    String method;\\\\n    public void authenticate() {\\\\n        System.out.println('Authentication successful.');\\\\n    }\\\\n}\\\\n\\\\n// Java class for authentication\",\n",
       "       'console.log(\"Hello, Cloud Compliance!\");\\\\n\\\\n// JavaScript code to print \\'Hello, Cloud Compliance!\\'',\n",
       "       \"echo 'Hello, Data Privacy!';\\\\n\\\\n# This PHP code echoes 'Hello, Data Privacy!'\",\n",
       "       \"SELECT privacy_policy, consent FROM user_data;\\\\n\\\\n-- SQL query to select 'privacy_policy' and 'consent' from 'user_data' table\",\n",
       "       \"var message = 'Hello, GDPR Compliance!';\\\\nconsole.log(message);\\\\n\\\\n// TypeScript code to print 'Hello, GDPR Compliance!'\",\n",
       "       'func sayHello() {\\\\n    print(\"Hello, HIPAA Compliance!\")\\\\n}\\\\n\\\\n// Swift code to print \\'Hello, HIPAA Compliance!\\'',\n",
       "       \"puts 'Hello, Cybersecurity Auditing!'\\\\n\\\\n# This Ruby code prints 'Hello, Auditing!'\",\n",
       "       \"import 'dart:io';\\\\nvoid main() {\\\\n    print('Hello, Auditing World!');\\\\n}\\\\n\\\\n// Dart code to print 'Hello, Auditing World!'\",\n",
       "       \"// This is a comment in C++\\\\n#include <iostream>\\\\nusing namespace std;\\\\nint main() {\\\\n    cout << 'Hello, Auditing Programming!' << endl;\\\\n    return 0;\\\\n}\\\\n\\\\n// C++ code to print 'Hello, Auditing Programming!'\",\n",
       "       'body {\\\\n    text-align: justify;\\\\n}\\\\n\\\\n/* CSS code for justified text */',\n",
       "       \"import pandas as pd\\\\n\\\\n# This Python code imports pandas library\\\\nprint('Hello, Cybersecurity Governance!')\",\n",
       "       \"public class Compliance {\\\\n    String standards;\\\\n    public void ensure() {\\\\n        System.out.println('Ensuring compliance...');\\\\n    }\\\\n}\\\\n\\\\n// Java class for compliance\",\n",
       "       'console.log(\"Hello, Cybersecurity Governance!\");\\\\n\\\\n// JavaScript code to print \\'Hello, Cybersecurity Governance!\\'',\n",
       "       \"echo 'Hello, Risk Assessment!';\\\\n\\\\n# This PHP code echoes 'Hello, Risk Assessment!'\",\n",
       "       \"SELECT risk_level, mitigation_plan FROM risks;\\\\n\\\\n-- SQL query to select 'risk_level' and 'mitigation_plan' from 'risks' table\",\n",
       "       \"var message = 'Hello, Security Policies!';\\\\nconsole.log(message);\\\\n\\\\n// TypeScript code to print 'Hello, Security Policies!'\",\n",
       "       'func sayHello() {\\\\n    print(\"Hello, Security Frameworks!\")\\\\n}\\\\n\\\\n// Swift code to print \\'Hello, Security Frameworks!\\'',\n",
       "       '<html>\\\\n  <body>\\\\n    <h1>Hello, CSS Pseudo-Elements!</h1>\\\\n  </body>\\\\n</html>\\\\n\\\\n<!-- HTML code for CSS pseudo-elements -->',\n",
       "       \"puts 'Hello, Threat Intelligence!'\\\\n\\\\n# This Ruby code prints 'Hello, Threat Intelligence!'\",\n",
       "       \"import 'dart:io';\\\\nvoid main() {\\\\n    print('Hello, Threat Intelligence World!');\\\\n}\\\\n\\\\n// Dart code to print 'Hello, Threat Intelligence World!'\",\n",
       "       \"// This is a comment in C++\\\\n#include <iostream>\\\\nusing namespace std;\\\\nint main() {\\\\n    cout << 'Hello, Threat Intelligence Programming!' << endl;\\\\n    return 0;\\\\n}\\\\n\\\\n// C++ code to print 'Hello, Threat Intelligence Programming!'\",\n",
       "       'body {\\\\n    text-transform: capitalize;\\\\n}\\\\n\\\\n/* CSS code for capitalizing text */',\n",
       "       \"import pandas as pd\\\\n\\\\n# This Python code imports pandas library\\\\nprint('Hello, Security Awareness!')\",\n",
       "       \"public class Incident {\\\\n    String type;\\\\n    public void report() {\\\\n        System.out.println('Incident reported.');\\\\n    }\\\\n}\\\\n\\\\n// Java class for incident reporting\",\n",
       "       'console.log(\"Hello, Security Awareness!\");\\\\n\\\\n// JavaScript code to print \\'Hello, Security Awareness!\\'',\n",
       "       \"echo 'Hello, Social Engineering Awareness!';\\\\n\\\\n# This PHP code echoes 'Hello, Social Engineering Awareness!'\",\n",
       "       \"SELECT social_engineering_attack, prevention FROM awareness;\\\\n\\\\n-- SQL query to select 'social_engineering_attack' and 'prevention' from 'awareness' table\",\n",
       "       \"var message = 'Hello, Security Training!';\\\\nconsole.log(message);\\\\n\\\\n// TypeScript code to print 'Hello, Security Training!'\",\n",
       "       'func sayHello() {\\\\n    print(\"Hello, Security Certifications!\")\\\\n}\\\\n\\\\n// Swift code to print \\'Hello, Security Certifications!\\'',\n",
       "       \"puts 'Hello, Cybersecurity Careers!'\\\\n\\\\n# This Ruby code prints 'Hello, Cybersecurity Careers!'\"],\n",
       "      dtype=object)"
      ]
     },
     "execution_count": 5,
     "metadata": {},
     "output_type": "execute_result"
    }
   ],
   "source": [
    "df['description'].unique()"
   ]
  },
  {
   "cell_type": "code",
   "execution_count": 6,
   "metadata": {},
   "outputs": [
    {
     "data": {
      "text/plain": [
       "description    0\n",
       "category       0\n",
       "dtype: int64"
      ]
     },
     "execution_count": 6,
     "metadata": {},
     "output_type": "execute_result"
    }
   ],
   "source": [
    "df.isnull().sum()"
   ]
  },
  {
   "cell_type": "code",
   "execution_count": 7,
   "metadata": {},
   "outputs": [
    {
     "data": {
      "text/plain": [
       "227"
      ]
     },
     "execution_count": 7,
     "metadata": {},
     "output_type": "execute_result"
    }
   ],
   "source": [
    "#total rows \n",
    "len(df)"
   ]
  },
  {
   "cell_type": "code",
   "execution_count": 8,
   "metadata": {},
   "outputs": [],
   "source": [
    "import pandas as pd\n",
    "import re\n",
    "def clean_code(code):\n",
    "    # Remove comments (lines starting with // or /* and ending with */)\n",
    "    code = re.sub(r'//.*?$', '', code, flags=re.MULTILINE)\n",
    "    code = re.sub(r'/\\*.*?\\*/', '', code, flags=re.MULTILINE | re.DOTALL)\n",
    "\n",
    "    # Remove non-alphanumeric characters and extra whitespaces\n",
    "    code = ' '.join(re.findall(r'\\w+', code))\n",
    "\n",
    "    return code"
   ]
  },
  {
   "cell_type": "code",
   "execution_count": 9,
   "metadata": {},
   "outputs": [],
   "source": [
    "df['description'] = df['description'].apply(clean_code)"
   ]
  },
  {
   "cell_type": "code",
   "execution_count": 10,
   "metadata": {},
   "outputs": [
    {
     "data": {
      "text/html": [
       "<div>\n",
       "<style scoped>\n",
       "    .dataframe tbody tr th:only-of-type {\n",
       "        vertical-align: middle;\n",
       "    }\n",
       "\n",
       "    .dataframe tbody tr th {\n",
       "        vertical-align: top;\n",
       "    }\n",
       "\n",
       "    .dataframe thead th {\n",
       "        text-align: right;\n",
       "    }\n",
       "</style>\n",
       "<table border=\"1\" class=\"dataframe\">\n",
       "  <thead>\n",
       "    <tr style=\"text-align: right;\">\n",
       "      <th></th>\n",
       "      <th>description</th>\n",
       "      <th>category</th>\n",
       "    </tr>\n",
       "  </thead>\n",
       "  <tbody>\n",
       "    <tr>\n",
       "      <th>0</th>\n",
       "      <td>for i in range 10 n print i n n This Python co...</td>\n",
       "      <td>Python</td>\n",
       "    </tr>\n",
       "    <tr>\n",
       "      <th>1</th>\n",
       "      <td>int main n printf Hello World n return 0 n n n</td>\n",
       "      <td>C</td>\n",
       "    </tr>\n",
       "    <tr>\n",
       "      <th>2</th>\n",
       "      <td>puts Hello Ruby n n This Ruby code prints Hell...</td>\n",
       "      <td>Ruby</td>\n",
       "    </tr>\n",
       "    <tr>\n",
       "      <th>3</th>\n",
       "      <td>public static void main String args n System o...</td>\n",
       "      <td>Java</td>\n",
       "    </tr>\n",
       "    <tr>\n",
       "      <th>4</th>\n",
       "      <td>console log Hello JavaScript n n</td>\n",
       "      <td>JavaScript</td>\n",
       "    </tr>\n",
       "  </tbody>\n",
       "</table>\n",
       "</div>"
      ],
      "text/plain": [
       "                                         description    category\n",
       "0  for i in range 10 n print i n n This Python co...      Python\n",
       "1     int main n printf Hello World n return 0 n n n           C\n",
       "2  puts Hello Ruby n n This Ruby code prints Hell...        Ruby\n",
       "3  public static void main String args n System o...        Java\n",
       "4                   console log Hello JavaScript n n  JavaScript"
      ]
     },
     "execution_count": 10,
     "metadata": {},
     "output_type": "execute_result"
    }
   ],
   "source": [
    "df.head()"
   ]
  },
  {
   "cell_type": "code",
   "execution_count": 13,
   "metadata": {},
   "outputs": [],
   "source": [
    "df['Title'] = df['category'] "
   ]
  },
  {
   "cell_type": "code",
   "execution_count": 14,
   "metadata": {},
   "outputs": [
    {
     "data": {
      "text/plain": [
       "array(['Python', 'C', 'Ruby', 'Java', 'JavaScript', 'PHP', 'SQL',\n",
       "       'TypeScript', 'Swift', 'HTML', 'Kotlin', 'Dart', 'C++', 'CSS'],\n",
       "      dtype=object)"
      ]
     },
     "execution_count": 14,
     "metadata": {},
     "output_type": "execute_result"
    }
   ],
   "source": [
    "df['Title'].unique()"
   ]
  },
  {
   "cell_type": "code",
   "execution_count": 15,
   "metadata": {},
   "outputs": [],
   "source": [
    "#Adding a date column\n",
    "df['date'] = '2023-10-08'\n",
    "df['date'] = pd.to_datetime(df['date'])\n",
    "df['main_category'] = 'Code'"
   ]
  },
  {
   "cell_type": "code",
   "execution_count": 16,
   "metadata": {},
   "outputs": [],
   "source": [
    "#Renaming language column to category\n",
    "df.rename(columns={'language': 'category'}, inplace=True)"
   ]
  },
  {
   "cell_type": "code",
   "execution_count": 17,
   "metadata": {},
   "outputs": [
    {
     "data": {
      "text/html": [
       "<div>\n",
       "<style scoped>\n",
       "    .dataframe tbody tr th:only-of-type {\n",
       "        vertical-align: middle;\n",
       "    }\n",
       "\n",
       "    .dataframe tbody tr th {\n",
       "        vertical-align: top;\n",
       "    }\n",
       "\n",
       "    .dataframe thead th {\n",
       "        text-align: right;\n",
       "    }\n",
       "</style>\n",
       "<table border=\"1\" class=\"dataframe\">\n",
       "  <thead>\n",
       "    <tr style=\"text-align: right;\">\n",
       "      <th></th>\n",
       "      <th>description</th>\n",
       "      <th>category</th>\n",
       "      <th>Title</th>\n",
       "      <th>date</th>\n",
       "      <th>main_category</th>\n",
       "    </tr>\n",
       "  </thead>\n",
       "  <tbody>\n",
       "    <tr>\n",
       "      <th>0</th>\n",
       "      <td>for i in range 10 n print i n n This Python co...</td>\n",
       "      <td>Python</td>\n",
       "      <td>Python</td>\n",
       "      <td>2023-10-08</td>\n",
       "      <td>Code</td>\n",
       "    </tr>\n",
       "    <tr>\n",
       "      <th>1</th>\n",
       "      <td>int main n printf Hello World n return 0 n n n</td>\n",
       "      <td>C</td>\n",
       "      <td>C</td>\n",
       "      <td>2023-10-08</td>\n",
       "      <td>Code</td>\n",
       "    </tr>\n",
       "    <tr>\n",
       "      <th>2</th>\n",
       "      <td>puts Hello Ruby n n This Ruby code prints Hell...</td>\n",
       "      <td>Ruby</td>\n",
       "      <td>Ruby</td>\n",
       "      <td>2023-10-08</td>\n",
       "      <td>Code</td>\n",
       "    </tr>\n",
       "    <tr>\n",
       "      <th>3</th>\n",
       "      <td>public static void main String args n System o...</td>\n",
       "      <td>Java</td>\n",
       "      <td>Java</td>\n",
       "      <td>2023-10-08</td>\n",
       "      <td>Code</td>\n",
       "    </tr>\n",
       "    <tr>\n",
       "      <th>4</th>\n",
       "      <td>console log Hello JavaScript n n</td>\n",
       "      <td>JavaScript</td>\n",
       "      <td>JavaScript</td>\n",
       "      <td>2023-10-08</td>\n",
       "      <td>Code</td>\n",
       "    </tr>\n",
       "  </tbody>\n",
       "</table>\n",
       "</div>"
      ],
      "text/plain": [
       "                                         description    category       Title  \\\n",
       "0  for i in range 10 n print i n n This Python co...      Python      Python   \n",
       "1     int main n printf Hello World n return 0 n n n           C           C   \n",
       "2  puts Hello Ruby n n This Ruby code prints Hell...        Ruby        Ruby   \n",
       "3  public static void main String args n System o...        Java        Java   \n",
       "4                   console log Hello JavaScript n n  JavaScript  JavaScript   \n",
       "\n",
       "        date main_category  \n",
       "0 2023-10-08          Code  \n",
       "1 2023-10-08          Code  \n",
       "2 2023-10-08          Code  \n",
       "3 2023-10-08          Code  \n",
       "4 2023-10-08          Code  "
      ]
     },
     "execution_count": 17,
     "metadata": {},
     "output_type": "execute_result"
    }
   ],
   "source": [
    "df.head()"
   ]
  },
  {
   "cell_type": "code",
   "execution_count": 18,
   "metadata": {},
   "outputs": [],
   "source": [
    "df2 = pd.DataFrame()"
   ]
  },
  {
   "cell_type": "code",
   "execution_count": 19,
   "metadata": {},
   "outputs": [],
   "source": [
    "#save to csv\n",
    "df2.to_csv('Code_final_dataset.csv', index=False)"
   ]
  },
  {
   "cell_type": "code",
   "execution_count": null,
   "metadata": {},
   "outputs": [],
   "source": []
  }
 ],
 "metadata": {
  "kernelspec": {
   "display_name": "Python 3",
   "language": "python",
   "name": "python3"
  },
  "language_info": {
   "codemirror_mode": {
    "name": "ipython",
    "version": 3
   },
   "file_extension": ".py",
   "mimetype": "text/x-python",
   "name": "python",
   "nbconvert_exporter": "python",
   "pygments_lexer": "ipython3",
   "version": "3.10.7"
  },
  "orig_nbformat": 4
 },
 "nbformat": 4,
 "nbformat_minor": 2
}
