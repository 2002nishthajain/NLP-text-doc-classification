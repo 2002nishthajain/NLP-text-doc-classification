{
 "cells": [
  {
   "cell_type": "code",
<<<<<<< HEAD
   "execution_count": 138,
   "metadata": {},
   "outputs": [
    {
=======
   "execution_count": 47,
   "metadata": {},
   "outputs": [
    {
     "name": "stderr",
     "output_type": "stream",
     "text": [
      "C:\\Users\\DELL\\AppData\\Local\\Temp\\ipykernel_18448\\4080138184.py:2: DtypeWarning: Columns (1,2) have mixed types. Specify dtype option on import or set low_memory=False.\n",
      "  df = pd.read_csv(r'Code_paper_dataset.csv')\n"
     ]
    },
    {
>>>>>>> 10531f430d4da9d232f36740d878e0e929967a53
     "data": {
      "text/html": [
       "<div>\n",
       "<style scoped>\n",
       "    .dataframe tbody tr th:only-of-type {\n",
       "        vertical-align: middle;\n",
       "    }\n",
       "\n",
       "    .dataframe tbody tr th {\n",
       "        vertical-align: top;\n",
       "    }\n",
       "\n",
       "    .dataframe thead th {\n",
       "        text-align: right;\n",
       "    }\n",
       "</style>\n",
       "<table border=\"1\" class=\"dataframe\">\n",
       "  <thead>\n",
       "    <tr style=\"text-align: right;\">\n",
       "      <th></th>\n",
       "      <th>description</th>\n",
       "      <th>language</th>\n",
       "    </tr>\n",
       "  </thead>\n",
       "  <tbody>\n",
       "    <tr>\n",
       "      <th>0</th>\n",
       "      <td>int main() { printf(\"Hello, World!\"); return 0; }</td>\n",
       "      <td>C</td>\n",
       "    </tr>\n",
       "    <tr>\n",
       "      <th>1</th>\n",
       "      <td>print('Hello, world!')</td>\n",
       "      <td>Python</td>\n",
       "    </tr>\n",
       "    <tr>\n",
       "      <th>2</th>\n",
       "      <td>public static void main(String[] args) { Syste...</td>\n",
       "      <td>Java</td>\n",
       "    </tr>\n",
       "    <tr>\n",
       "      <th>3</th>\n",
       "      <td>puts 'Hello, World!'</td>\n",
       "      <td>Ruby</td>\n",
       "    </tr>\n",
       "    <tr>\n",
       "      <th>4</th>\n",
       "      <td>console.log('Hello, World!');</td>\n",
       "      <td>JavaScript</td>\n",
       "    </tr>\n",
       "  </tbody>\n",
       "</table>\n",
       "</div>"
      ],
      "text/plain": [
       "                                         description    language\n",
       "0  int main() { printf(\"Hello, World!\"); return 0; }           C\n",
       "1                             print('Hello, world!')      Python\n",
       "2  public static void main(String[] args) { Syste...        Java\n",
       "3                               puts 'Hello, World!'        Ruby\n",
       "4                      console.log('Hello, World!');  JavaScript"
      ]
     },
     "execution_count": 138,
     "metadata": {},
     "output_type": "execute_result"
    }
   ],
   "source": [
    "import pandas as pd\n",
    "df = pd.read_csv(r'Code_dataset.csv')\n",
    "df.head()"
   ]
  },
  {
   "cell_type": "code",
   "execution_count": 139,
   "metadata": {},
   "outputs": [
    {
     "data": {
      "text/plain": [
       "array(['C', 'Python', 'Java', 'Ruby', 'JavaScript', 'SQL', 'Shell', 'Go',\n",
       "       'Scala', 'Swift', 'HTML', 'PowerShell', 'Lua', 'TypeScript',\n",
       "       'CoffeeScript', 'Kotlin', 'Dart', 'Haskell', 'Pascal', 'Perl',\n",
       "       'Batchfile', 'PHP', 'C#', 'Julia', 'Rust'], dtype=object)"
      ]
     },
     "execution_count": 139,
     "metadata": {},
     "output_type": "execute_result"
    }
   ],
   "source": [
    "df['language'].unique()"
   ]
  },
  {
   "cell_type": "code",
   "execution_count": 140,
   "metadata": {},
   "outputs": [
    {
     "data": {
      "text/plain": [
       "description    0\n",
       "language       0\n",
       "dtype: int64"
      ]
     },
     "execution_count": 140,
     "metadata": {},
     "output_type": "execute_result"
    }
   ],
   "source": [
    "df.isnull().sum()"
   ]
  },
  {
   "cell_type": "code",
<<<<<<< HEAD
   "execution_count": 141,
=======
   "execution_count": 50,
>>>>>>> 10531f430d4da9d232f36740d878e0e929967a53
   "metadata": {},
   "outputs": [
    {
     "data": {
      "text/plain": [
       "118"
      ]
     },
<<<<<<< HEAD
     "execution_count": 141,
=======
     "execution_count": 50,
>>>>>>> 10531f430d4da9d232f36740d878e0e929967a53
     "metadata": {},
     "output_type": "execute_result"
    }
   ],
   "source": [
    "#total rows \n",
    "len(df)"
   ]
  },
  {
   "cell_type": "code",
<<<<<<< HEAD
   "execution_count": 142,
=======
   "execution_count": 51,
   "metadata": {},
   "outputs": [],
   "source": [
    "df = df.dropna()"
   ]
  },
  {
   "cell_type": "code",
   "execution_count": 52,
   "metadata": {},
   "outputs": [
    {
     "data": {
      "text/plain": [
       "131440"
      ]
     },
     "execution_count": 52,
     "metadata": {},
     "output_type": "execute_result"
    }
   ],
   "source": [
    "len(df)"
   ]
  },
  {
   "cell_type": "code",
   "execution_count": 53,
   "metadata": {},
   "outputs": [
    {
     "data": {
      "text/plain": [
       "Unnamed: 0    0\n",
       "content       0\n",
       "language      0\n",
       "dtype: int64"
      ]
     },
     "execution_count": 53,
     "metadata": {},
     "output_type": "execute_result"
    }
   ],
   "source": [
    "df.isnull().sum()   "
   ]
  },
  {
   "cell_type": "code",
   "execution_count": 54,
   "metadata": {},
   "outputs": [
    {
     "data": {
      "text/plain": [
       "array(['0', '1', '2', ..., '131601', '131602', '131603'], dtype=object)"
      ]
     },
     "execution_count": 54,
     "metadata": {},
     "output_type": "execute_result"
    }
   ],
   "source": [
    "df['Unnamed: 0'].unique()"
   ]
  },
  {
   "cell_type": "code",
   "execution_count": 55,
>>>>>>> 10531f430d4da9d232f36740d878e0e929967a53
   "metadata": {},
   "outputs": [],
   "source": [
    "import pandas as pd\n",
    "import re\n",
    "def clean_code(code):\n",
    "    # Remove comments (lines starting with // or /* and ending with */)\n",
    "    code = re.sub(r'//.*?$', '', code, flags=re.MULTILINE)\n",
    "    code = re.sub(r'/\\*.*?\\*/', '', code, flags=re.MULTILINE | re.DOTALL)\n",
    "\n",
    "    # Remove non-alphanumeric characters and extra whitespaces\n",
    "    code = ' '.join(re.findall(r'\\w+', code))\n",
    "\n",
    "    return code"
   ]
  },
  {
   "cell_type": "code",
<<<<<<< HEAD
   "execution_count": 143,
=======
   "execution_count": 56,
>>>>>>> 10531f430d4da9d232f36740d878e0e929967a53
   "metadata": {},
   "outputs": [],
   "source": [
    "df['description'] = df['description'].apply(clean_code)"
   ]
  },
  {
   "cell_type": "code",
<<<<<<< HEAD
   "execution_count": 144,
=======
   "execution_count": 57,
>>>>>>> 10531f430d4da9d232f36740d878e0e929967a53
   "metadata": {},
   "outputs": [
    {
     "data": {
      "text/html": [
       "<div>\n",
       "<style scoped>\n",
       "    .dataframe tbody tr th:only-of-type {\n",
       "        vertical-align: middle;\n",
       "    }\n",
       "\n",
       "    .dataframe tbody tr th {\n",
       "        vertical-align: top;\n",
       "    }\n",
       "\n",
       "    .dataframe thead th {\n",
       "        text-align: right;\n",
       "    }\n",
       "</style>\n",
       "<table border=\"1\" class=\"dataframe\">\n",
       "  <thead>\n",
       "    <tr style=\"text-align: right;\">\n",
       "      <th></th>\n",
       "      <th>description</th>\n",
       "      <th>language</th>\n",
       "    </tr>\n",
       "  </thead>\n",
       "  <tbody>\n",
       "    <tr>\n",
       "      <th>0</th>\n",
       "      <td>int main printf Hello World return 0</td>\n",
       "      <td>C</td>\n",
       "    </tr>\n",
       "    <tr>\n",
       "      <th>1</th>\n",
       "      <td>print Hello world</td>\n",
       "      <td>Python</td>\n",
       "    </tr>\n",
       "    <tr>\n",
       "      <th>2</th>\n",
       "      <td>public static void main String args System out...</td>\n",
       "      <td>Java</td>\n",
       "    </tr>\n",
       "    <tr>\n",
       "      <th>3</th>\n",
       "      <td>puts Hello World</td>\n",
       "      <td>Ruby</td>\n",
       "    </tr>\n",
       "    <tr>\n",
       "      <th>4</th>\n",
       "      <td>console log Hello World</td>\n",
       "      <td>JavaScript</td>\n",
       "    </tr>\n",
       "  </tbody>\n",
       "</table>\n",
       "</div>"
      ],
      "text/plain": [
       "                                         description    language\n",
       "0               int main printf Hello World return 0           C\n",
       "1                                  print Hello world      Python\n",
       "2  public static void main String args System out...        Java\n",
       "3                                   puts Hello World        Ruby\n",
       "4                            console log Hello World  JavaScript"
      ]
     },
<<<<<<< HEAD
     "execution_count": 144,
=======
     "execution_count": 57,
>>>>>>> 10531f430d4da9d232f36740d878e0e929967a53
     "metadata": {},
     "output_type": "execute_result"
    }
   ],
   "source": [
    "df.head()"
   ]
  },
  {
   "cell_type": "code",
<<<<<<< HEAD
   "execution_count": 145,
=======
   "execution_count": 58,
   "metadata": {},
   "outputs": [],
   "source": [
    "#Drop Unnamed: 0 column\n",
    "df = df.drop(['Unnamed: 0'], axis=1)"
   ]
  },
  {
   "cell_type": "code",
   "execution_count": 59,
>>>>>>> 10531f430d4da9d232f36740d878e0e929967a53
   "metadata": {},
   "outputs": [],
   "source": [
    "df['Title'] = df['language'] + ' Code'"
   ]
  },
  {
   "cell_type": "code",
<<<<<<< HEAD
   "execution_count": 146,
=======
   "execution_count": 60,
>>>>>>> 10531f430d4da9d232f36740d878e0e929967a53
   "metadata": {},
   "outputs": [
    {
     "data": {
      "text/plain": [
       "array(['C Code', 'Python Code', 'Java Code', 'Ruby Code',\n",
       "       'JavaScript Code', 'SQL Code', 'Shell Code', 'Go Code',\n",
       "       'Scala Code', 'Swift Code', 'HTML Code', 'PowerShell Code',\n",
       "       'Lua Code', 'TypeScript Code', 'CoffeeScript Code', 'Kotlin Code',\n",
       "       'Dart Code', 'Haskell Code', 'Pascal Code', 'Perl Code',\n",
       "       'Batchfile Code', 'PHP Code', 'C# Code', 'Julia Code', 'Rust Code'],\n",
       "      dtype=object)"
      ]
     },
<<<<<<< HEAD
     "execution_count": 146,
=======
     "execution_count": 60,
>>>>>>> 10531f430d4da9d232f36740d878e0e929967a53
     "metadata": {},
     "output_type": "execute_result"
    }
   ],
   "source": [
    "df['Title'].unique()"
   ]
  },
  {
   "cell_type": "code",
<<<<<<< HEAD
   "execution_count": 147,
=======
   "execution_count": 61,
>>>>>>> 10531f430d4da9d232f36740d878e0e929967a53
   "metadata": {},
   "outputs": [],
   "source": [
    "#Adding a date column\n",
    "df['date'] = '2023-10-08'\n",
    "df['date'] = pd.to_datetime(df['date'])\n",
    "df['main_category'] = 'Code'"
   ]
  },
  {
   "cell_type": "code",
<<<<<<< HEAD
   "execution_count": 148,
=======
   "execution_count": 62,
>>>>>>> 10531f430d4da9d232f36740d878e0e929967a53
   "metadata": {},
   "outputs": [],
   "source": [
    "#Renaming language column to category\n",
    "df.rename(columns={'language': 'category'}, inplace=True)"
   ]
  },
  {
   "cell_type": "code",
<<<<<<< HEAD
   "execution_count": 149,
=======
   "execution_count": 63,
   "metadata": {},
   "outputs": [],
   "source": [
    "#Renaming content column to description\n",
    "df.rename(columns={'content': 'description'}, inplace=True)"
   ]
  },
  {
   "cell_type": "code",
   "execution_count": 64,
>>>>>>> 10531f430d4da9d232f36740d878e0e929967a53
   "metadata": {},
   "outputs": [
    {
     "data": {
      "text/html": [
       "<div>\n",
       "<style scoped>\n",
       "    .dataframe tbody tr th:only-of-type {\n",
       "        vertical-align: middle;\n",
       "    }\n",
       "\n",
       "    .dataframe tbody tr th {\n",
       "        vertical-align: top;\n",
       "    }\n",
       "\n",
       "    .dataframe thead th {\n",
       "        text-align: right;\n",
       "    }\n",
       "</style>\n",
       "<table border=\"1\" class=\"dataframe\">\n",
       "  <thead>\n",
       "    <tr style=\"text-align: right;\">\n",
       "      <th></th>\n",
       "      <th>description</th>\n",
       "      <th>category</th>\n",
       "      <th>Title</th>\n",
       "      <th>date</th>\n",
       "      <th>main_category</th>\n",
       "    </tr>\n",
       "  </thead>\n",
       "  <tbody>\n",
       "    <tr>\n",
       "      <th>0</th>\n",
       "      <td>int main printf Hello World return 0</td>\n",
       "      <td>C</td>\n",
       "      <td>C Code</td>\n",
       "      <td>2023-10-08</td>\n",
       "      <td>Code</td>\n",
       "    </tr>\n",
       "    <tr>\n",
       "      <th>1</th>\n",
       "      <td>print Hello world</td>\n",
       "      <td>Python</td>\n",
       "      <td>Python Code</td>\n",
       "      <td>2023-10-08</td>\n",
       "      <td>Code</td>\n",
       "    </tr>\n",
       "    <tr>\n",
       "      <th>2</th>\n",
       "      <td>public static void main String args System out...</td>\n",
       "      <td>Java</td>\n",
       "      <td>Java Code</td>\n",
       "      <td>2023-10-08</td>\n",
       "      <td>Code</td>\n",
       "    </tr>\n",
       "    <tr>\n",
       "      <th>3</th>\n",
       "      <td>puts Hello World</td>\n",
       "      <td>Ruby</td>\n",
       "      <td>Ruby Code</td>\n",
       "      <td>2023-10-08</td>\n",
       "      <td>Code</td>\n",
       "    </tr>\n",
       "    <tr>\n",
       "      <th>4</th>\n",
       "      <td>console log Hello World</td>\n",
       "      <td>JavaScript</td>\n",
       "      <td>JavaScript Code</td>\n",
       "      <td>2023-10-08</td>\n",
       "      <td>Code</td>\n",
       "    </tr>\n",
       "  </tbody>\n",
       "</table>\n",
       "</div>"
      ],
      "text/plain": [
       "                                         description    category  \\\n",
       "0               int main printf Hello World return 0           C   \n",
       "1                                  print Hello world      Python   \n",
       "2  public static void main String args System out...        Java   \n",
       "3                                   puts Hello World        Ruby   \n",
       "4                            console log Hello World  JavaScript   \n",
       "\n",
       "             Title       date main_category  \n",
       "0           C Code 2023-10-08          Code  \n",
       "1      Python Code 2023-10-08          Code  \n",
       "2        Java Code 2023-10-08          Code  \n",
       "3        Ruby Code 2023-10-08          Code  \n",
       "4  JavaScript Code 2023-10-08          Code  "
      ]
     },
<<<<<<< HEAD
     "execution_count": 149,
=======
     "execution_count": 64,
>>>>>>> 10531f430d4da9d232f36740d878e0e929967a53
     "metadata": {},
     "output_type": "execute_result"
    }
   ],
   "source": [
    "df.head()"
   ]
  },
  {
   "cell_type": "code",
<<<<<<< HEAD
   "execution_count": 150,
=======
   "execution_count": 65,
>>>>>>> 10531f430d4da9d232f36740d878e0e929967a53
   "metadata": {},
   "outputs": [],
   "source": [
    "df2 = pd.DataFrame()"
   ]
  },
  {
   "cell_type": "code",
<<<<<<< HEAD
   "execution_count": 158,
=======
   "execution_count": 66,
   "metadata": {},
   "outputs": [
    {
     "name": "stderr",
     "output_type": "stream",
     "text": [
      "C:\\Users\\DELL\\AppData\\Local\\Temp\\ipykernel_18448\\2782400682.py:2: FutureWarning: The frame.append method is deprecated and will be removed from pandas in a future version. Use pandas.concat instead.\n",
      "  df2 = df2.append(df[df['category'] == categroy].head(10))\n",
      "C:\\Users\\DELL\\AppData\\Local\\Temp\\ipykernel_18448\\2782400682.py:2: FutureWarning: The frame.append method is deprecated and will be removed from pandas in a future version. Use pandas.concat instead.\n",
      "  df2 = df2.append(df[df['category'] == categroy].head(10))\n",
      "C:\\Users\\DELL\\AppData\\Local\\Temp\\ipykernel_18448\\2782400682.py:2: FutureWarning: The frame.append method is deprecated and will be removed from pandas in a future version. Use pandas.concat instead.\n",
      "  df2 = df2.append(df[df['category'] == categroy].head(10))\n",
      "C:\\Users\\DELL\\AppData\\Local\\Temp\\ipykernel_18448\\2782400682.py:2: FutureWarning: The frame.append method is deprecated and will be removed from pandas in a future version. Use pandas.concat instead.\n",
      "  df2 = df2.append(df[df['category'] == categroy].head(10))\n",
      "C:\\Users\\DELL\\AppData\\Local\\Temp\\ipykernel_18448\\2782400682.py:2: FutureWarning: The frame.append method is deprecated and will be removed from pandas in a future version. Use pandas.concat instead.\n",
      "  df2 = df2.append(df[df['category'] == categroy].head(10))\n"
     ]
    },
    {
     "name": "stderr",
     "output_type": "stream",
     "text": [
      "C:\\Users\\DELL\\AppData\\Local\\Temp\\ipykernel_18448\\2782400682.py:2: FutureWarning: The frame.append method is deprecated and will be removed from pandas in a future version. Use pandas.concat instead.\n",
      "  df2 = df2.append(df[df['category'] == categroy].head(10))\n",
      "C:\\Users\\DELL\\AppData\\Local\\Temp\\ipykernel_18448\\2782400682.py:2: FutureWarning: The frame.append method is deprecated and will be removed from pandas in a future version. Use pandas.concat instead.\n",
      "  df2 = df2.append(df[df['category'] == categroy].head(10))\n",
      "C:\\Users\\DELL\\AppData\\Local\\Temp\\ipykernel_18448\\2782400682.py:2: FutureWarning: The frame.append method is deprecated and will be removed from pandas in a future version. Use pandas.concat instead.\n",
      "  df2 = df2.append(df[df['category'] == categroy].head(10))\n",
      "C:\\Users\\DELL\\AppData\\Local\\Temp\\ipykernel_18448\\2782400682.py:2: FutureWarning: The frame.append method is deprecated and will be removed from pandas in a future version. Use pandas.concat instead.\n",
      "  df2 = df2.append(df[df['category'] == categroy].head(10))\n",
      "C:\\Users\\DELL\\AppData\\Local\\Temp\\ipykernel_18448\\2782400682.py:2: FutureWarning: The frame.append method is deprecated and will be removed from pandas in a future version. Use pandas.concat instead.\n",
      "  df2 = df2.append(df[df['category'] == categroy].head(10))\n",
      "C:\\Users\\DELL\\AppData\\Local\\Temp\\ipykernel_18448\\2782400682.py:2: FutureWarning: The frame.append method is deprecated and will be removed from pandas in a future version. Use pandas.concat instead.\n",
      "  df2 = df2.append(df[df['category'] == categroy].head(10))\n",
      "C:\\Users\\DELL\\AppData\\Local\\Temp\\ipykernel_18448\\2782400682.py:2: FutureWarning: The frame.append method is deprecated and will be removed from pandas in a future version. Use pandas.concat instead.\n",
      "  df2 = df2.append(df[df['category'] == categroy].head(10))\n",
      "C:\\Users\\DELL\\AppData\\Local\\Temp\\ipykernel_18448\\2782400682.py:2: FutureWarning: The frame.append method is deprecated and will be removed from pandas in a future version. Use pandas.concat instead.\n",
      "  df2 = df2.append(df[df['category'] == categroy].head(10))\n",
      "C:\\Users\\DELL\\AppData\\Local\\Temp\\ipykernel_18448\\2782400682.py:2: FutureWarning: The frame.append method is deprecated and will be removed from pandas in a future version. Use pandas.concat instead.\n",
      "  df2 = df2.append(df[df['category'] == categroy].head(10))\n",
      "C:\\Users\\DELL\\AppData\\Local\\Temp\\ipykernel_18448\\2782400682.py:2: FutureWarning: The frame.append method is deprecated and will be removed from pandas in a future version. Use pandas.concat instead.\n",
      "  df2 = df2.append(df[df['category'] == categroy].head(10))\n",
      "C:\\Users\\DELL\\AppData\\Local\\Temp\\ipykernel_18448\\2782400682.py:2: FutureWarning: The frame.append method is deprecated and will be removed from pandas in a future version. Use pandas.concat instead.\n",
      "  df2 = df2.append(df[df['category'] == categroy].head(10))\n",
      "C:\\Users\\DELL\\AppData\\Local\\Temp\\ipykernel_18448\\2782400682.py:2: FutureWarning: The frame.append method is deprecated and will be removed from pandas in a future version. Use pandas.concat instead.\n",
      "  df2 = df2.append(df[df['category'] == categroy].head(10))\n",
      "C:\\Users\\DELL\\AppData\\Local\\Temp\\ipykernel_18448\\2782400682.py:2: FutureWarning: The frame.append method is deprecated and will be removed from pandas in a future version. Use pandas.concat instead.\n",
      "  df2 = df2.append(df[df['category'] == categroy].head(10))\n",
      "C:\\Users\\DELL\\AppData\\Local\\Temp\\ipykernel_18448\\2782400682.py:2: FutureWarning: The frame.append method is deprecated and will be removed from pandas in a future version. Use pandas.concat instead.\n",
      "  df2 = df2.append(df[df['category'] == categroy].head(10))\n",
      "C:\\Users\\DELL\\AppData\\Local\\Temp\\ipykernel_18448\\2782400682.py:2: FutureWarning: The frame.append method is deprecated and will be removed from pandas in a future version. Use pandas.concat instead.\n",
      "  df2 = df2.append(df[df['category'] == categroy].head(10))\n",
      "C:\\Users\\DELL\\AppData\\Local\\Temp\\ipykernel_18448\\2782400682.py:2: FutureWarning: The frame.append method is deprecated and will be removed from pandas in a future version. Use pandas.concat instead.\n",
      "  df2 = df2.append(df[df['category'] == categroy].head(10))\n",
      "C:\\Users\\DELL\\AppData\\Local\\Temp\\ipykernel_18448\\2782400682.py:2: FutureWarning: The frame.append method is deprecated and will be removed from pandas in a future version. Use pandas.concat instead.\n",
      "  df2 = df2.append(df[df['category'] == categroy].head(10))\n",
      "C:\\Users\\DELL\\AppData\\Local\\Temp\\ipykernel_18448\\2782400682.py:2: FutureWarning: The frame.append method is deprecated and will be removed from pandas in a future version. Use pandas.concat instead.\n",
      "  df2 = df2.append(df[df['category'] == categroy].head(10))\n",
      "C:\\Users\\DELL\\AppData\\Local\\Temp\\ipykernel_18448\\2782400682.py:2: FutureWarning: The frame.append method is deprecated and will be removed from pandas in a future version. Use pandas.concat instead.\n",
      "  df2 = df2.append(df[df['category'] == categroy].head(10))\n",
      "C:\\Users\\DELL\\AppData\\Local\\Temp\\ipykernel_18448\\2782400682.py:2: FutureWarning: The frame.append method is deprecated and will be removed from pandas in a future version. Use pandas.concat instead.\n",
      "  df2 = df2.append(df[df['category'] == categroy].head(10))\n",
      "C:\\Users\\DELL\\AppData\\Local\\Temp\\ipykernel_18448\\2782400682.py:2: FutureWarning: The frame.append method is deprecated and will be removed from pandas in a future version. Use pandas.concat instead.\n",
      "  df2 = df2.append(df[df['category'] == categroy].head(10))\n",
      "C:\\Users\\DELL\\AppData\\Local\\Temp\\ipykernel_18448\\2782400682.py:2: FutureWarning: The frame.append method is deprecated and will be removed from pandas in a future version. Use pandas.concat instead.\n",
      "  df2 = df2.append(df[df['category'] == categroy].head(10))\n",
      "C:\\Users\\DELL\\AppData\\Local\\Temp\\ipykernel_18448\\2782400682.py:2: FutureWarning: The frame.append method is deprecated and will be removed from pandas in a future version. Use pandas.concat instead.\n",
      "  df2 = df2.append(df[df['category'] == categroy].head(10))\n",
      "C:\\Users\\DELL\\AppData\\Local\\Temp\\ipykernel_18448\\2782400682.py:2: FutureWarning: The frame.append method is deprecated and will be removed from pandas in a future version. Use pandas.concat instead.\n",
      "  df2 = df2.append(df[df['category'] == categroy].head(10))\n",
      "C:\\Users\\DELL\\AppData\\Local\\Temp\\ipykernel_18448\\2782400682.py:2: FutureWarning: The frame.append method is deprecated and will be removed from pandas in a future version. Use pandas.concat instead.\n",
      "  df2 = df2.append(df[df['category'] == categroy].head(10))\n",
      "C:\\Users\\DELL\\AppData\\Local\\Temp\\ipykernel_18448\\2782400682.py:2: FutureWarning: The frame.append method is deprecated and will be removed from pandas in a future version. Use pandas.concat instead.\n",
      "  df2 = df2.append(df[df['category'] == categroy].head(10))\n",
      "C:\\Users\\DELL\\AppData\\Local\\Temp\\ipykernel_18448\\2782400682.py:2: FutureWarning: The frame.append method is deprecated and will be removed from pandas in a future version. Use pandas.concat instead.\n",
      "  df2 = df2.append(df[df['category'] == categroy].head(10))\n",
      "C:\\Users\\DELL\\AppData\\Local\\Temp\\ipykernel_18448\\2782400682.py:2: FutureWarning: The frame.append method is deprecated and will be removed from pandas in a future version. Use pandas.concat instead.\n",
      "  df2 = df2.append(df[df['category'] == categroy].head(10))\n",
      "C:\\Users\\DELL\\AppData\\Local\\Temp\\ipykernel_18448\\2782400682.py:2: FutureWarning: The frame.append method is deprecated and will be removed from pandas in a future version. Use pandas.concat instead.\n",
      "  df2 = df2.append(df[df['category'] == categroy].head(10))\n"
     ]
    }
   ],
   "source": [
    "for categroy in df['category'].unique():\n",
    "    df2 = df2.append(df[df['category'] == categroy].head(10))"
   ]
  },
  {
   "cell_type": "code",
   "execution_count": 67,
   "metadata": {},
   "outputs": [
    {
     "data": {
      "text/html": [
       "<div>\n",
       "<style scoped>\n",
       "    .dataframe tbody tr th:only-of-type {\n",
       "        vertical-align: middle;\n",
       "    }\n",
       "\n",
       "    .dataframe tbody tr th {\n",
       "        vertical-align: top;\n",
       "    }\n",
       "\n",
       "    .dataframe thead th {\n",
       "        text-align: right;\n",
       "    }\n",
       "</style>\n",
       "<table border=\"1\" class=\"dataframe\">\n",
       "  <thead>\n",
       "    <tr style=\"text-align: right;\">\n",
       "      <th></th>\n",
       "      <th>description</th>\n",
       "      <th>category</th>\n",
       "      <th>Title</th>\n",
       "      <th>date</th>\n",
       "      <th>main_category</th>\n",
       "    </tr>\n",
       "  </thead>\n",
       "  <tbody>\n",
       "    <tr>\n",
       "      <th>0</th>\n",
       "      <td>include config h include math h include string...</td>\n",
       "      <td>C</td>\n",
       "      <td>C Code</td>\n",
       "      <td>2023-10-08</td>\n",
       "      <td>Code</td>\n",
       "    </tr>\n",
       "    <tr>\n",
       "      <th>1</th>\n",
       "      <td>ifdef HAVE_CONFIG_H include config h endif inc...</td>\n",
       "      <td>C</td>\n",
       "      <td>C Code</td>\n",
       "      <td>2023-10-08</td>\n",
       "      <td>Code</td>\n",
       "    </tr>\n",
       "    <tr>\n",
       "      <th>2</th>\n",
       "      <td>ifdef HAVE_CONFIG_H include config h endif inc...</td>\n",
       "      <td>C</td>\n",
       "      <td>C Code</td>\n",
       "      <td>2023-10-08</td>\n",
       "      <td>Code</td>\n",
       "    </tr>\n",
       "    <tr>\n",
       "      <th>3</th>\n",
       "      <td>include tools h define ROL_UNUSED include md5 ...</td>\n",
       "      <td>C</td>\n",
       "      <td>C Code</td>\n",
       "      <td>2023-10-08</td>\n",
       "      <td>Code</td>\n",
       "    </tr>\n",
       "    <tr>\n",
       "      <th>4</th>\n",
       "      <td>include typedefs h include osl h include bcmut...</td>\n",
       "      <td>C</td>\n",
       "      <td>C Code</td>\n",
       "      <td>2023-10-08</td>\n",
       "      <td>Code</td>\n",
       "    </tr>\n",
       "  </tbody>\n",
       "</table>\n",
       "</div>"
      ],
      "text/plain": [
       "                                         description category   Title  \\\n",
       "0  include config h include math h include string...        C  C Code   \n",
       "1  ifdef HAVE_CONFIG_H include config h endif inc...        C  C Code   \n",
       "2  ifdef HAVE_CONFIG_H include config h endif inc...        C  C Code   \n",
       "3  include tools h define ROL_UNUSED include md5 ...        C  C Code   \n",
       "4  include typedefs h include osl h include bcmut...        C  C Code   \n",
       "\n",
       "        date main_category  \n",
       "0 2023-10-08          Code  \n",
       "1 2023-10-08          Code  \n",
       "2 2023-10-08          Code  \n",
       "3 2023-10-08          Code  \n",
       "4 2023-10-08          Code  "
      ]
     },
     "execution_count": 67,
     "metadata": {},
     "output_type": "execute_result"
    }
   ],
   "source": [
    "df2.head()"
   ]
  },
  {
   "cell_type": "code",
   "execution_count": 68,
   "metadata": {},
   "outputs": [
    {
     "data": {
      "text/plain": [
       "array(['C', 'Jupyter Notebook', 'Ruby', 'Swift', 'HTML', 'SQL', 'Shell',\n",
       "       'Go', 'Scala', 'TypeScript', 'PowerShell', 'Lua', 'CoffeeScript',\n",
       "       'Kotlin', 'Dart', 'Haskell', 'Pascal', 'Java', 'Perl', 'Markdown',\n",
       "       'Erlang', 'Visual Basic', 'Groovy', 'Objective-C', 'JavaScript',\n",
       "       'Batchfile', 'PHP', 'C#', 'Julia', 'Python', 'Rust', 'TeX', 'C++',\n",
       "       'CSS'], dtype=object)"
      ]
     },
     "execution_count": 68,
     "metadata": {},
     "output_type": "execute_result"
    }
   ],
   "source": [
    "df2['category'].unique()"
   ]
  },
  {
   "cell_type": "code",
   "execution_count": 45,
   "metadata": {},
   "outputs": [
    {
     "data": {
      "text/plain": [
       "340"
      ]
     },
     "execution_count": 45,
     "metadata": {},
     "output_type": "execute_result"
    }
   ],
   "source": [
    "len(df2)"
   ]
  },
  {
   "cell_type": "code",
   "execution_count": 69,
>>>>>>> 10531f430d4da9d232f36740d878e0e929967a53
   "metadata": {},
   "outputs": [],
   "source": [
    "#save to csv\n",
    "df2.to_csv('Code_final_dataset.csv', index=False)"
   ]
  },
  {
   "cell_type": "code",
   "execution_count": null,
   "metadata": {},
   "outputs": [],
   "source": []
  }
 ],
 "metadata": {
  "kernelspec": {
   "display_name": "Python 3",
   "language": "python",
   "name": "python3"
  },
  "language_info": {
   "codemirror_mode": {
    "name": "ipython",
    "version": 3
   },
   "file_extension": ".py",
   "mimetype": "text/x-python",
   "name": "python",
   "nbconvert_exporter": "python",
   "pygments_lexer": "ipython3",
   "version": "3.10.7"
  },
  "orig_nbformat": 4
 },
 "nbformat": 4,
 "nbformat_minor": 2
}
