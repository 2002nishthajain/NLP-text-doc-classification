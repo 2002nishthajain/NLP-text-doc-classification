{
 "cells": [
  {
   "cell_type": "code",
   "execution_count": 138,
   "metadata": {},
   "outputs": [
    {
     "data": {
      "text/html": [
       "<div>\n",
       "<style scoped>\n",
       "    .dataframe tbody tr th:only-of-type {\n",
       "        vertical-align: middle;\n",
       "    }\n",
       "\n",
       "    .dataframe tbody tr th {\n",
       "        vertical-align: top;\n",
       "    }\n",
       "\n",
       "    .dataframe thead th {\n",
       "        text-align: right;\n",
       "    }\n",
       "</style>\n",
       "<table border=\"1\" class=\"dataframe\">\n",
       "  <thead>\n",
       "    <tr style=\"text-align: right;\">\n",
       "      <th></th>\n",
       "      <th>description</th>\n",
       "      <th>language</th>\n",
       "    </tr>\n",
       "  </thead>\n",
       "  <tbody>\n",
       "    <tr>\n",
       "      <th>0</th>\n",
       "      <td>int main() { printf(\"Hello, World!\"); return 0; }</td>\n",
       "      <td>C</td>\n",
       "    </tr>\n",
       "    <tr>\n",
       "      <th>1</th>\n",
       "      <td>print('Hello, world!')</td>\n",
       "      <td>Python</td>\n",
       "    </tr>\n",
       "    <tr>\n",
       "      <th>2</th>\n",
       "      <td>public static void main(String[] args) { Syste...</td>\n",
       "      <td>Java</td>\n",
       "    </tr>\n",
       "    <tr>\n",
       "      <th>3</th>\n",
       "      <td>puts 'Hello, World!'</td>\n",
       "      <td>Ruby</td>\n",
       "    </tr>\n",
       "    <tr>\n",
       "      <th>4</th>\n",
       "      <td>console.log('Hello, World!');</td>\n",
       "      <td>JavaScript</td>\n",
       "    </tr>\n",
       "  </tbody>\n",
       "</table>\n",
       "</div>"
      ],
      "text/plain": [
       "                                         description    language\n",
       "0  int main() { printf(\"Hello, World!\"); return 0; }           C\n",
       "1                             print('Hello, world!')      Python\n",
       "2  public static void main(String[] args) { Syste...        Java\n",
       "3                               puts 'Hello, World!'        Ruby\n",
       "4                      console.log('Hello, World!');  JavaScript"
      ]
     },
     "execution_count": 138,
     "metadata": {},
     "output_type": "execute_result"
    }
   ],
   "source": [
    "import pandas as pd\n",
    "df = pd.read_csv(r'Code_dataset.csv')\n",
    "df.head()"
   ]
  },
  {
   "cell_type": "code",
   "execution_count": 139,
   "metadata": {},
   "outputs": [
    {
     "data": {
      "text/plain": [
       "array(['C', 'Python', 'Java', 'Ruby', 'JavaScript', 'SQL', 'Shell', 'Go',\n",
       "       'Scala', 'Swift', 'HTML', 'PowerShell', 'Lua', 'TypeScript',\n",
       "       'CoffeeScript', 'Kotlin', 'Dart', 'Haskell', 'Pascal', 'Perl',\n",
       "       'Batchfile', 'PHP', 'C#', 'Julia', 'Rust'], dtype=object)"
      ]
     },
     "execution_count": 139,
     "metadata": {},
     "output_type": "execute_result"
    }
   ],
   "source": [
    "df['language'].unique()"
   ]
  },
  {
   "cell_type": "code",
   "execution_count": 140,
   "metadata": {},
   "outputs": [
    {
     "data": {
      "text/plain": [
       "description    0\n",
       "language       0\n",
       "dtype: int64"
      ]
     },
     "execution_count": 140,
     "metadata": {},
     "output_type": "execute_result"
    }
   ],
   "source": [
    "df.isnull().sum()"
   ]
  },
  {
   "cell_type": "code",
   "execution_count": 141,
   "metadata": {},
   "outputs": [
    {
     "data": {
      "text/plain": [
       "118"
      ]
     },
     "execution_count": 141,
     "metadata": {},
     "output_type": "execute_result"
    }
   ],
   "source": [
    "#total rows \n",
    "len(df)"
   ]
  },
  {
   "cell_type": "code",
   "execution_count": 142,
   "metadata": {},
   "outputs": [],
   "source": [
    "import pandas as pd\n",
    "import re\n",
    "def clean_code(code):\n",
    "    # Remove comments (lines starting with // or /* and ending with */)\n",
    "    code = re.sub(r'//.*?$', '', code, flags=re.MULTILINE)\n",
    "    code = re.sub(r'/\\*.*?\\*/', '', code, flags=re.MULTILINE | re.DOTALL)\n",
    "\n",
    "    # Remove non-alphanumeric characters and extra whitespaces\n",
    "    code = ' '.join(re.findall(r'\\w+', code))\n",
    "\n",
    "    return code"
   ]
  },
  {
   "cell_type": "code",
   "execution_count": 143,
   "metadata": {},
   "outputs": [],
   "source": [
    "df['description'] = df['description'].apply(clean_code)"
   ]
  },
  {
   "cell_type": "code",
   "execution_count": 144,
   "metadata": {},
   "outputs": [
    {
     "data": {
      "text/html": [
       "<div>\n",
       "<style scoped>\n",
       "    .dataframe tbody tr th:only-of-type {\n",
       "        vertical-align: middle;\n",
       "    }\n",
       "\n",
       "    .dataframe tbody tr th {\n",
       "        vertical-align: top;\n",
       "    }\n",
       "\n",
       "    .dataframe thead th {\n",
       "        text-align: right;\n",
       "    }\n",
       "</style>\n",
       "<table border=\"1\" class=\"dataframe\">\n",
       "  <thead>\n",
       "    <tr style=\"text-align: right;\">\n",
       "      <th></th>\n",
       "      <th>description</th>\n",
       "      <th>language</th>\n",
       "    </tr>\n",
       "  </thead>\n",
       "  <tbody>\n",
       "    <tr>\n",
       "      <th>0</th>\n",
       "      <td>int main printf Hello World return 0</td>\n",
       "      <td>C</td>\n",
       "    </tr>\n",
       "    <tr>\n",
       "      <th>1</th>\n",
       "      <td>print Hello world</td>\n",
       "      <td>Python</td>\n",
       "    </tr>\n",
       "    <tr>\n",
       "      <th>2</th>\n",
       "      <td>public static void main String args System out...</td>\n",
       "      <td>Java</td>\n",
       "    </tr>\n",
       "    <tr>\n",
       "      <th>3</th>\n",
       "      <td>puts Hello World</td>\n",
       "      <td>Ruby</td>\n",
       "    </tr>\n",
       "    <tr>\n",
       "      <th>4</th>\n",
       "      <td>console log Hello World</td>\n",
       "      <td>JavaScript</td>\n",
       "    </tr>\n",
       "  </tbody>\n",
       "</table>\n",
       "</div>"
      ],
      "text/plain": [
       "                                         description    language\n",
       "0               int main printf Hello World return 0           C\n",
       "1                                  print Hello world      Python\n",
       "2  public static void main String args System out...        Java\n",
       "3                                   puts Hello World        Ruby\n",
       "4                            console log Hello World  JavaScript"
      ]
     },
     "execution_count": 144,
     "metadata": {},
     "output_type": "execute_result"
    }
   ],
   "source": [
    "df.head()"
   ]
  },
  {
   "cell_type": "code",
   "execution_count": 145,
   "metadata": {},
   "outputs": [],
   "source": [
    "df['Title'] = df['language'] + ' Code'"
   ]
  },
  {
   "cell_type": "code",
   "execution_count": 146,
   "metadata": {},
   "outputs": [
    {
     "data": {
      "text/plain": [
       "array(['C Code', 'Python Code', 'Java Code', 'Ruby Code',\n",
       "       'JavaScript Code', 'SQL Code', 'Shell Code', 'Go Code',\n",
       "       'Scala Code', 'Swift Code', 'HTML Code', 'PowerShell Code',\n",
       "       'Lua Code', 'TypeScript Code', 'CoffeeScript Code', 'Kotlin Code',\n",
       "       'Dart Code', 'Haskell Code', 'Pascal Code', 'Perl Code',\n",
       "       'Batchfile Code', 'PHP Code', 'C# Code', 'Julia Code', 'Rust Code'],\n",
       "      dtype=object)"
      ]
     },
     "execution_count": 146,
     "metadata": {},
     "output_type": "execute_result"
    }
   ],
   "source": [
    "df['Title'].unique()"
   ]
  },
  {
   "cell_type": "code",
   "execution_count": 147,
   "metadata": {},
   "outputs": [],
   "source": [
    "#Adding a date column\n",
    "df['date'] = '2023-10-08'\n",
    "df['date'] = pd.to_datetime(df['date'])\n",
    "df['main_category'] = 'Code'"
   ]
  },
  {
   "cell_type": "code",
   "execution_count": 148,
   "metadata": {},
   "outputs": [],
   "source": [
    "#Renaming language column to category\n",
    "df.rename(columns={'language': 'category'}, inplace=True)"
   ]
  },
  {
   "cell_type": "code",
   "execution_count": 149,
   "metadata": {},
   "outputs": [
    {
     "data": {
      "text/html": [
       "<div>\n",
       "<style scoped>\n",
       "    .dataframe tbody tr th:only-of-type {\n",
       "        vertical-align: middle;\n",
       "    }\n",
       "\n",
       "    .dataframe tbody tr th {\n",
       "        vertical-align: top;\n",
       "    }\n",
       "\n",
       "    .dataframe thead th {\n",
       "        text-align: right;\n",
       "    }\n",
       "</style>\n",
       "<table border=\"1\" class=\"dataframe\">\n",
       "  <thead>\n",
       "    <tr style=\"text-align: right;\">\n",
       "      <th></th>\n",
       "      <th>description</th>\n",
       "      <th>category</th>\n",
       "      <th>Title</th>\n",
       "      <th>date</th>\n",
       "      <th>main_category</th>\n",
       "    </tr>\n",
       "  </thead>\n",
       "  <tbody>\n",
       "    <tr>\n",
       "      <th>0</th>\n",
       "      <td>int main printf Hello World return 0</td>\n",
       "      <td>C</td>\n",
       "      <td>C Code</td>\n",
       "      <td>2023-10-08</td>\n",
       "      <td>Code</td>\n",
       "    </tr>\n",
       "    <tr>\n",
       "      <th>1</th>\n",
       "      <td>print Hello world</td>\n",
       "      <td>Python</td>\n",
       "      <td>Python Code</td>\n",
       "      <td>2023-10-08</td>\n",
       "      <td>Code</td>\n",
       "    </tr>\n",
       "    <tr>\n",
       "      <th>2</th>\n",
       "      <td>public static void main String args System out...</td>\n",
       "      <td>Java</td>\n",
       "      <td>Java Code</td>\n",
       "      <td>2023-10-08</td>\n",
       "      <td>Code</td>\n",
       "    </tr>\n",
       "    <tr>\n",
       "      <th>3</th>\n",
       "      <td>puts Hello World</td>\n",
       "      <td>Ruby</td>\n",
       "      <td>Ruby Code</td>\n",
       "      <td>2023-10-08</td>\n",
       "      <td>Code</td>\n",
       "    </tr>\n",
       "    <tr>\n",
       "      <th>4</th>\n",
       "      <td>console log Hello World</td>\n",
       "      <td>JavaScript</td>\n",
       "      <td>JavaScript Code</td>\n",
       "      <td>2023-10-08</td>\n",
       "      <td>Code</td>\n",
       "    </tr>\n",
       "  </tbody>\n",
       "</table>\n",
       "</div>"
      ],
      "text/plain": [
       "                                         description    category  \\\n",
       "0               int main printf Hello World return 0           C   \n",
       "1                                  print Hello world      Python   \n",
       "2  public static void main String args System out...        Java   \n",
       "3                                   puts Hello World        Ruby   \n",
       "4                            console log Hello World  JavaScript   \n",
       "\n",
       "             Title       date main_category  \n",
       "0           C Code 2023-10-08          Code  \n",
       "1      Python Code 2023-10-08          Code  \n",
       "2        Java Code 2023-10-08          Code  \n",
       "3        Ruby Code 2023-10-08          Code  \n",
       "4  JavaScript Code 2023-10-08          Code  "
      ]
     },
     "execution_count": 149,
     "metadata": {},
     "output_type": "execute_result"
    }
   ],
   "source": [
    "df.head()"
   ]
  },
  {
   "cell_type": "code",
   "execution_count": 150,
   "metadata": {},
   "outputs": [],
   "source": [
    "df2 = pd.DataFrame()"
   ]
  },
  {
   "cell_type": "code",
   "execution_count": 158,
   "metadata": {},
   "outputs": [],
   "source": [
    "#save to csv\n",
    "df2.to_csv('Code_final_dataset.csv', index=False)"
   ]
  },
  {
   "cell_type": "code",
   "execution_count": null,
   "metadata": {},
   "outputs": [],
   "source": []
  }
 ],
 "metadata": {
  "kernelspec": {
   "display_name": "Python 3",
   "language": "python",
   "name": "python3"
  },
  "language_info": {
   "codemirror_mode": {
    "name": "ipython",
    "version": 3
   },
   "file_extension": ".py",
   "mimetype": "text/x-python",
   "name": "python",
   "nbconvert_exporter": "python",
   "pygments_lexer": "ipython3",
   "version": "3.10.7"
  },
  "orig_nbformat": 4
 },
 "nbformat": 4,
 "nbformat_minor": 2
}
