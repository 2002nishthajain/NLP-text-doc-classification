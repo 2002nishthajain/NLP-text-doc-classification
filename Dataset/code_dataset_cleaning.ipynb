{
 "cells": [
  {
   "cell_type": "code",
   "execution_count": 23,
   "metadata": {},
   "outputs": [
    {
     "name": "stderr",
     "output_type": "stream",
     "text": [
      "C:\\Users\\DELL\\AppData\\Local\\Temp\\ipykernel_18448\\4080138184.py:2: DtypeWarning: Columns (1,2) have mixed types. Specify dtype option on import or set low_memory=False.\n",
      "  df = pd.read_csv(r'Code_paper_dataset.csv')\n"
     ]
    },
    {
     "data": {
      "text/html": [
       "<div>\n",
       "<style scoped>\n",
       "    .dataframe tbody tr th:only-of-type {\n",
       "        vertical-align: middle;\n",
       "    }\n",
       "\n",
       "    .dataframe tbody tr th {\n",
       "        vertical-align: top;\n",
       "    }\n",
       "\n",
       "    .dataframe thead th {\n",
       "        text-align: right;\n",
       "    }\n",
       "</style>\n",
       "<table border=\"1\" class=\"dataframe\">\n",
       "  <thead>\n",
       "    <tr style=\"text-align: right;\">\n",
       "      <th></th>\n",
       "      <th>Unnamed: 0</th>\n",
       "      <th>content</th>\n",
       "      <th>language</th>\n",
       "    </tr>\n",
       "  </thead>\n",
       "  <tbody>\n",
       "    <tr>\n",
       "      <th>0</th>\n",
       "      <td>0</td>\n",
       "      <td>/* Pango\\n * pangocairo-font.c: Cairo font han...</td>\n",
       "      <td>C</td>\n",
       "    </tr>\n",
       "    <tr>\n",
       "      <th>1</th>\n",
       "      <td>1</td>\n",
       "      <td>/* vi:set et ai sw=2 sts=2 ts=2: */\\n/*-\\n * C...</td>\n",
       "      <td>C</td>\n",
       "    </tr>\n",
       "    <tr>\n",
       "      <th>2</th>\n",
       "      <td>2</td>\n",
       "      <td>/*\\n *  Copyright (c) Nessus Consulting S.A.R....</td>\n",
       "      <td>C</td>\n",
       "    </tr>\n",
       "    <tr>\n",
       "      <th>3</th>\n",
       "      <td>3</td>\n",
       "      <td>/*\\n *  R : A Computer Language for Statistica...</td>\n",
       "      <td>C</td>\n",
       "    </tr>\n",
       "    <tr>\n",
       "      <th>4</th>\n",
       "      <td>4</td>\n",
       "      <td>/*\\n * DHD Protocol Module for CDC and BDC.\\n ...</td>\n",
       "      <td>C</td>\n",
       "    </tr>\n",
       "  </tbody>\n",
       "</table>\n",
       "</div>"
      ],
      "text/plain": [
       "  Unnamed: 0                                            content language\n",
       "0          0  /* Pango\\n * pangocairo-font.c: Cairo font han...        C\n",
       "1          1  /* vi:set et ai sw=2 sts=2 ts=2: */\\n/*-\\n * C...        C\n",
       "2          2  /*\\n *  Copyright (c) Nessus Consulting S.A.R....        C\n",
       "3          3  /*\\n *  R : A Computer Language for Statistica...        C\n",
       "4          4  /*\\n * DHD Protocol Module for CDC and BDC.\\n ...        C"
      ]
     },
     "execution_count": 23,
     "metadata": {},
     "output_type": "execute_result"
    }
   ],
   "source": [
    "import pandas as pd\n",
    "df = pd.read_csv(r'Code_paper_dataset.csv')\n",
    "df.head()"
   ]
  },
  {
   "cell_type": "code",
   "execution_count": 24,
   "metadata": {},
   "outputs": [
    {
     "data": {
      "text/plain": [
       "array(['C', 'Jupyter Notebook', 'Ruby', 'Swift', 'HTML', 'SQL', 'Shell',\n",
       "       'Go', 'Scala', 'TypeScript', 'PowerShell', 'Lua', 'CoffeeScript',\n",
       "       'Kotlin', 'Dart', 'Haskell', 'Pascal', 'Java', 'Perl', 'Markdown',\n",
       "       'Erlang', 'Visual Basic', 'Groovy', 'Objective-C', 'JavaScript',\n",
       "       'Batchfile', nan, 'PHP', 'C#', 'Julia', 'Python', 'Rust', 'TeX',\n",
       "       'C++', 'CSS'], dtype=object)"
      ]
     },
     "execution_count": 24,
     "metadata": {},
     "output_type": "execute_result"
    }
   ],
   "source": [
    "df['language'].unique()"
   ]
  },
  {
   "cell_type": "code",
   "execution_count": 25,
   "metadata": {},
   "outputs": [
    {
     "data": {
      "text/plain": [
       "Unnamed: 0          3\n",
       "content       6199387\n",
       "language      6203866\n",
       "dtype: int64"
      ]
     },
     "execution_count": 25,
     "metadata": {},
     "output_type": "execute_result"
    }
   ],
   "source": [
    "df.isnull().sum()"
   ]
  },
  {
   "cell_type": "code",
   "execution_count": 26,
   "metadata": {},
   "outputs": [
    {
     "data": {
      "text/plain": [
       "6335306"
      ]
     },
     "execution_count": 26,
     "metadata": {},
     "output_type": "execute_result"
    }
   ],
   "source": [
    "#total rows \n",
    "len(df)"
   ]
  },
  {
   "cell_type": "code",
   "execution_count": 27,
   "metadata": {},
   "outputs": [],
   "source": [
    "df = df.dropna()"
   ]
  },
  {
   "cell_type": "code",
   "execution_count": 28,
   "metadata": {},
   "outputs": [
    {
     "data": {
      "text/plain": [
       "131440"
      ]
     },
     "execution_count": 28,
     "metadata": {},
     "output_type": "execute_result"
    }
   ],
   "source": [
    "len(df)"
   ]
  },
  {
   "cell_type": "code",
   "execution_count": 29,
   "metadata": {},
   "outputs": [
    {
     "data": {
      "text/plain": [
       "Unnamed: 0    0\n",
       "content       0\n",
       "language      0\n",
       "dtype: int64"
      ]
     },
     "execution_count": 29,
     "metadata": {},
     "output_type": "execute_result"
    }
   ],
   "source": [
    "df.isnull().sum()   "
   ]
  },
  {
   "cell_type": "code",
   "execution_count": 30,
   "metadata": {},
   "outputs": [
    {
     "data": {
      "text/plain": [
       "array(['0', '1', '2', ..., '131601', '131602', '131603'], dtype=object)"
      ]
     },
     "execution_count": 30,
     "metadata": {},
     "output_type": "execute_result"
    }
   ],
   "source": [
    "df['Unnamed: 0'].unique()"
   ]
  },
  {
   "cell_type": "code",
   "execution_count": 31,
   "metadata": {},
   "outputs": [],
   "source": [
    "import pandas as pd\n",
    "import re\n",
    "def clean_code(code):\n",
    "    # Remove comments (lines starting with // or /* and ending with */)\n",
    "    code = re.sub(r'//.*?$', '', code, flags=re.MULTILINE)\n",
    "    code = re.sub(r'/\\*.*?\\*/', '', code, flags=re.MULTILINE | re.DOTALL)\n",
    "\n",
    "    # Remove non-alphanumeric characters and extra whitespaces\n",
    "    code = ' '.join(re.findall(r'\\w+', code))\n",
    "\n",
    "    return code"
   ]
  },
  {
   "cell_type": "code",
   "execution_count": 32,
   "metadata": {},
   "outputs": [
    {
     "name": "stderr",
     "output_type": "stream",
     "text": [
      "C:\\Users\\DELL\\AppData\\Local\\Temp\\ipykernel_18448\\3430907164.py:1: SettingWithCopyWarning: \n",
      "A value is trying to be set on a copy of a slice from a DataFrame.\n",
      "Try using .loc[row_indexer,col_indexer] = value instead\n",
      "\n",
      "See the caveats in the documentation: https://pandas.pydata.org/pandas-docs/stable/user_guide/indexing.html#returning-a-view-versus-a-copy\n",
      "  df['content'] = df['content'].apply(clean_code)\n"
     ]
    }
   ],
   "source": [
    "df['content'] = df['content'].apply(clean_code)"
   ]
  },
  {
   "cell_type": "code",
   "execution_count": 33,
   "metadata": {},
   "outputs": [
    {
     "data": {
      "text/html": [
       "<div>\n",
       "<style scoped>\n",
       "    .dataframe tbody tr th:only-of-type {\n",
       "        vertical-align: middle;\n",
       "    }\n",
       "\n",
       "    .dataframe tbody tr th {\n",
       "        vertical-align: top;\n",
       "    }\n",
       "\n",
       "    .dataframe thead th {\n",
       "        text-align: right;\n",
       "    }\n",
       "</style>\n",
       "<table border=\"1\" class=\"dataframe\">\n",
       "  <thead>\n",
       "    <tr style=\"text-align: right;\">\n",
       "      <th></th>\n",
       "      <th>Unnamed: 0</th>\n",
       "      <th>content</th>\n",
       "      <th>language</th>\n",
       "    </tr>\n",
       "  </thead>\n",
       "  <tbody>\n",
       "    <tr>\n",
       "      <th>0</th>\n",
       "      <td>0</td>\n",
       "      <td>include config h include math h include string...</td>\n",
       "      <td>C</td>\n",
       "    </tr>\n",
       "    <tr>\n",
       "      <th>1</th>\n",
       "      <td>1</td>\n",
       "      <td>ifdef HAVE_CONFIG_H include config h endif inc...</td>\n",
       "      <td>C</td>\n",
       "    </tr>\n",
       "    <tr>\n",
       "      <th>2</th>\n",
       "      <td>2</td>\n",
       "      <td>ifdef HAVE_CONFIG_H include config h endif inc...</td>\n",
       "      <td>C</td>\n",
       "    </tr>\n",
       "    <tr>\n",
       "      <th>3</th>\n",
       "      <td>3</td>\n",
       "      <td>include tools h define ROL_UNUSED include md5 ...</td>\n",
       "      <td>C</td>\n",
       "    </tr>\n",
       "    <tr>\n",
       "      <th>4</th>\n",
       "      <td>4</td>\n",
       "      <td>include typedefs h include osl h include bcmut...</td>\n",
       "      <td>C</td>\n",
       "    </tr>\n",
       "  </tbody>\n",
       "</table>\n",
       "</div>"
      ],
      "text/plain": [
       "  Unnamed: 0                                            content language\n",
       "0          0  include config h include math h include string...        C\n",
       "1          1  ifdef HAVE_CONFIG_H include config h endif inc...        C\n",
       "2          2  ifdef HAVE_CONFIG_H include config h endif inc...        C\n",
       "3          3  include tools h define ROL_UNUSED include md5 ...        C\n",
       "4          4  include typedefs h include osl h include bcmut...        C"
      ]
     },
     "execution_count": 33,
     "metadata": {},
     "output_type": "execute_result"
    }
   ],
   "source": [
    "df.head()"
   ]
  },
  {
   "cell_type": "code",
   "execution_count": 34,
   "metadata": {},
   "outputs": [],
   "source": [
    "#Drop Unnamed: 0 column\n",
    "df = df.drop(['Unnamed: 0'], axis=1)"
   ]
  },
  {
   "cell_type": "code",
   "execution_count": 35,
   "metadata": {},
   "outputs": [],
   "source": [
    "df['Title'] = df['language'] + ' Code'"
   ]
  },
  {
   "cell_type": "code",
   "execution_count": 36,
   "metadata": {},
   "outputs": [
    {
     "data": {
      "text/plain": [
       "array(['C Code', 'Jupyter Notebook Code', 'Ruby Code', 'Swift Code',\n",
       "       'HTML Code', 'SQL Code', 'Shell Code', 'Go Code', 'Scala Code',\n",
       "       'TypeScript Code', 'PowerShell Code', 'Lua Code',\n",
       "       'CoffeeScript Code', 'Kotlin Code', 'Dart Code', 'Haskell Code',\n",
       "       'Pascal Code', 'Java Code', 'Perl Code', 'Markdown Code',\n",
       "       'Erlang Code', 'Visual Basic Code', 'Groovy Code',\n",
       "       'Objective-C Code', 'JavaScript Code', 'Batchfile Code',\n",
       "       'PHP Code', 'C# Code', 'Julia Code', 'Python Code', 'Rust Code',\n",
       "       'TeX Code', 'C++ Code', 'CSS Code'], dtype=object)"
      ]
     },
     "execution_count": 36,
     "metadata": {},
     "output_type": "execute_result"
    }
   ],
   "source": [
    "df['Title'].unique()"
   ]
  },
  {
   "cell_type": "code",
   "execution_count": 37,
   "metadata": {},
   "outputs": [],
   "source": [
    "#Adding a date column\n",
    "df['date'] = '2023-10-08'\n",
    "df['date'] = pd.to_datetime(df['date'])\n",
    "df['main_category'] = 'Code' + '/'+ df['language'] "
   ]
  },
  {
   "cell_type": "code",
   "execution_count": 38,
   "metadata": {},
   "outputs": [],
   "source": [
    "#Renaming language column to category\n",
    "df.rename(columns={'language': 'category'}, inplace=True)"
   ]
  },
  {
   "cell_type": "code",
   "execution_count": 39,
   "metadata": {},
   "outputs": [],
   "source": [
    "#Renaming content column to description\n",
    "df.rename(columns={'content': 'description'}, inplace=True)"
   ]
  },
  {
   "cell_type": "code",
   "execution_count": 40,
   "metadata": {},
   "outputs": [
    {
     "data": {
      "text/html": [
       "<div>\n",
       "<style scoped>\n",
       "    .dataframe tbody tr th:only-of-type {\n",
       "        vertical-align: middle;\n",
       "    }\n",
       "\n",
       "    .dataframe tbody tr th {\n",
       "        vertical-align: top;\n",
       "    }\n",
       "\n",
       "    .dataframe thead th {\n",
       "        text-align: right;\n",
       "    }\n",
       "</style>\n",
       "<table border=\"1\" class=\"dataframe\">\n",
       "  <thead>\n",
       "    <tr style=\"text-align: right;\">\n",
       "      <th></th>\n",
       "      <th>description</th>\n",
       "      <th>category</th>\n",
       "      <th>Title</th>\n",
       "      <th>date</th>\n",
       "      <th>main_category</th>\n",
       "    </tr>\n",
       "  </thead>\n",
       "  <tbody>\n",
       "    <tr>\n",
       "      <th>0</th>\n",
       "      <td>include config h include math h include string...</td>\n",
       "      <td>C</td>\n",
       "      <td>C Code</td>\n",
       "      <td>2023-10-08</td>\n",
       "      <td>Code/C</td>\n",
       "    </tr>\n",
       "    <tr>\n",
       "      <th>1</th>\n",
       "      <td>ifdef HAVE_CONFIG_H include config h endif inc...</td>\n",
       "      <td>C</td>\n",
       "      <td>C Code</td>\n",
       "      <td>2023-10-08</td>\n",
       "      <td>Code/C</td>\n",
       "    </tr>\n",
       "    <tr>\n",
       "      <th>2</th>\n",
       "      <td>ifdef HAVE_CONFIG_H include config h endif inc...</td>\n",
       "      <td>C</td>\n",
       "      <td>C Code</td>\n",
       "      <td>2023-10-08</td>\n",
       "      <td>Code/C</td>\n",
       "    </tr>\n",
       "    <tr>\n",
       "      <th>3</th>\n",
       "      <td>include tools h define ROL_UNUSED include md5 ...</td>\n",
       "      <td>C</td>\n",
       "      <td>C Code</td>\n",
       "      <td>2023-10-08</td>\n",
       "      <td>Code/C</td>\n",
       "    </tr>\n",
       "    <tr>\n",
       "      <th>4</th>\n",
       "      <td>include typedefs h include osl h include bcmut...</td>\n",
       "      <td>C</td>\n",
       "      <td>C Code</td>\n",
       "      <td>2023-10-08</td>\n",
       "      <td>Code/C</td>\n",
       "    </tr>\n",
       "  </tbody>\n",
       "</table>\n",
       "</div>"
      ],
      "text/plain": [
       "                                         description category   Title  \\\n",
       "0  include config h include math h include string...        C  C Code   \n",
       "1  ifdef HAVE_CONFIG_H include config h endif inc...        C  C Code   \n",
       "2  ifdef HAVE_CONFIG_H include config h endif inc...        C  C Code   \n",
       "3  include tools h define ROL_UNUSED include md5 ...        C  C Code   \n",
       "4  include typedefs h include osl h include bcmut...        C  C Code   \n",
       "\n",
       "        date main_category  \n",
       "0 2023-10-08        Code/C  \n",
       "1 2023-10-08        Code/C  \n",
       "2 2023-10-08        Code/C  \n",
       "3 2023-10-08        Code/C  \n",
       "4 2023-10-08        Code/C  "
      ]
     },
     "execution_count": 40,
     "metadata": {},
     "output_type": "execute_result"
    }
   ],
   "source": [
    "df.head()"
   ]
  },
  {
   "cell_type": "code",
   "execution_count": 41,
   "metadata": {},
   "outputs": [],
   "source": [
    "df2 = pd.DataFrame()"
   ]
  },
  {
   "cell_type": "code",
   "execution_count": 42,
   "metadata": {},
   "outputs": [
    {
     "name": "stderr",
     "output_type": "stream",
     "text": [
      "C:\\Users\\DELL\\AppData\\Local\\Temp\\ipykernel_18448\\2782400682.py:2: FutureWarning: The frame.append method is deprecated and will be removed from pandas in a future version. Use pandas.concat instead.\n",
      "  df2 = df2.append(df[df['category'] == categroy].head(10))\n",
      "C:\\Users\\DELL\\AppData\\Local\\Temp\\ipykernel_18448\\2782400682.py:2: FutureWarning: The frame.append method is deprecated and will be removed from pandas in a future version. Use pandas.concat instead.\n",
      "  df2 = df2.append(df[df['category'] == categroy].head(10))\n",
      "C:\\Users\\DELL\\AppData\\Local\\Temp\\ipykernel_18448\\2782400682.py:2: FutureWarning: The frame.append method is deprecated and will be removed from pandas in a future version. Use pandas.concat instead.\n",
      "  df2 = df2.append(df[df['category'] == categroy].head(10))\n",
      "C:\\Users\\DELL\\AppData\\Local\\Temp\\ipykernel_18448\\2782400682.py:2: FutureWarning: The frame.append method is deprecated and will be removed from pandas in a future version. Use pandas.concat instead.\n",
      "  df2 = df2.append(df[df['category'] == categroy].head(10))\n",
      "C:\\Users\\DELL\\AppData\\Local\\Temp\\ipykernel_18448\\2782400682.py:2: FutureWarning: The frame.append method is deprecated and will be removed from pandas in a future version. Use pandas.concat instead.\n",
      "  df2 = df2.append(df[df['category'] == categroy].head(10))\n",
      "C:\\Users\\DELL\\AppData\\Local\\Temp\\ipykernel_18448\\2782400682.py:2: FutureWarning: The frame.append method is deprecated and will be removed from pandas in a future version. Use pandas.concat instead.\n",
      "  df2 = df2.append(df[df['category'] == categroy].head(10))\n"
     ]
    },
    {
     "name": "stderr",
     "output_type": "stream",
     "text": [
      "C:\\Users\\DELL\\AppData\\Local\\Temp\\ipykernel_18448\\2782400682.py:2: FutureWarning: The frame.append method is deprecated and will be removed from pandas in a future version. Use pandas.concat instead.\n",
      "  df2 = df2.append(df[df['category'] == categroy].head(10))\n",
      "C:\\Users\\DELL\\AppData\\Local\\Temp\\ipykernel_18448\\2782400682.py:2: FutureWarning: The frame.append method is deprecated and will be removed from pandas in a future version. Use pandas.concat instead.\n",
      "  df2 = df2.append(df[df['category'] == categroy].head(10))\n",
      "C:\\Users\\DELL\\AppData\\Local\\Temp\\ipykernel_18448\\2782400682.py:2: FutureWarning: The frame.append method is deprecated and will be removed from pandas in a future version. Use pandas.concat instead.\n",
      "  df2 = df2.append(df[df['category'] == categroy].head(10))\n",
      "C:\\Users\\DELL\\AppData\\Local\\Temp\\ipykernel_18448\\2782400682.py:2: FutureWarning: The frame.append method is deprecated and will be removed from pandas in a future version. Use pandas.concat instead.\n",
      "  df2 = df2.append(df[df['category'] == categroy].head(10))\n",
      "C:\\Users\\DELL\\AppData\\Local\\Temp\\ipykernel_18448\\2782400682.py:2: FutureWarning: The frame.append method is deprecated and will be removed from pandas in a future version. Use pandas.concat instead.\n",
      "  df2 = df2.append(df[df['category'] == categroy].head(10))\n",
      "C:\\Users\\DELL\\AppData\\Local\\Temp\\ipykernel_18448\\2782400682.py:2: FutureWarning: The frame.append method is deprecated and will be removed from pandas in a future version. Use pandas.concat instead.\n",
      "  df2 = df2.append(df[df['category'] == categroy].head(10))\n",
      "C:\\Users\\DELL\\AppData\\Local\\Temp\\ipykernel_18448\\2782400682.py:2: FutureWarning: The frame.append method is deprecated and will be removed from pandas in a future version. Use pandas.concat instead.\n",
      "  df2 = df2.append(df[df['category'] == categroy].head(10))\n",
      "C:\\Users\\DELL\\AppData\\Local\\Temp\\ipykernel_18448\\2782400682.py:2: FutureWarning: The frame.append method is deprecated and will be removed from pandas in a future version. Use pandas.concat instead.\n",
      "  df2 = df2.append(df[df['category'] == categroy].head(10))\n",
      "C:\\Users\\DELL\\AppData\\Local\\Temp\\ipykernel_18448\\2782400682.py:2: FutureWarning: The frame.append method is deprecated and will be removed from pandas in a future version. Use pandas.concat instead.\n",
      "  df2 = df2.append(df[df['category'] == categroy].head(10))\n",
      "C:\\Users\\DELL\\AppData\\Local\\Temp\\ipykernel_18448\\2782400682.py:2: FutureWarning: The frame.append method is deprecated and will be removed from pandas in a future version. Use pandas.concat instead.\n",
      "  df2 = df2.append(df[df['category'] == categroy].head(10))\n",
      "C:\\Users\\DELL\\AppData\\Local\\Temp\\ipykernel_18448\\2782400682.py:2: FutureWarning: The frame.append method is deprecated and will be removed from pandas in a future version. Use pandas.concat instead.\n",
      "  df2 = df2.append(df[df['category'] == categroy].head(10))\n",
      "C:\\Users\\DELL\\AppData\\Local\\Temp\\ipykernel_18448\\2782400682.py:2: FutureWarning: The frame.append method is deprecated and will be removed from pandas in a future version. Use pandas.concat instead.\n",
      "  df2 = df2.append(df[df['category'] == categroy].head(10))\n",
      "C:\\Users\\DELL\\AppData\\Local\\Temp\\ipykernel_18448\\2782400682.py:2: FutureWarning: The frame.append method is deprecated and will be removed from pandas in a future version. Use pandas.concat instead.\n",
      "  df2 = df2.append(df[df['category'] == categroy].head(10))\n",
      "C:\\Users\\DELL\\AppData\\Local\\Temp\\ipykernel_18448\\2782400682.py:2: FutureWarning: The frame.append method is deprecated and will be removed from pandas in a future version. Use pandas.concat instead.\n",
      "  df2 = df2.append(df[df['category'] == categroy].head(10))\n",
      "C:\\Users\\DELL\\AppData\\Local\\Temp\\ipykernel_18448\\2782400682.py:2: FutureWarning: The frame.append method is deprecated and will be removed from pandas in a future version. Use pandas.concat instead.\n",
      "  df2 = df2.append(df[df['category'] == categroy].head(10))\n",
      "C:\\Users\\DELL\\AppData\\Local\\Temp\\ipykernel_18448\\2782400682.py:2: FutureWarning: The frame.append method is deprecated and will be removed from pandas in a future version. Use pandas.concat instead.\n",
      "  df2 = df2.append(df[df['category'] == categroy].head(10))\n",
      "C:\\Users\\DELL\\AppData\\Local\\Temp\\ipykernel_18448\\2782400682.py:2: FutureWarning: The frame.append method is deprecated and will be removed from pandas in a future version. Use pandas.concat instead.\n",
      "  df2 = df2.append(df[df['category'] == categroy].head(10))\n",
      "C:\\Users\\DELL\\AppData\\Local\\Temp\\ipykernel_18448\\2782400682.py:2: FutureWarning: The frame.append method is deprecated and will be removed from pandas in a future version. Use pandas.concat instead.\n",
      "  df2 = df2.append(df[df['category'] == categroy].head(10))\n",
      "C:\\Users\\DELL\\AppData\\Local\\Temp\\ipykernel_18448\\2782400682.py:2: FutureWarning: The frame.append method is deprecated and will be removed from pandas in a future version. Use pandas.concat instead.\n",
      "  df2 = df2.append(df[df['category'] == categroy].head(10))\n",
      "C:\\Users\\DELL\\AppData\\Local\\Temp\\ipykernel_18448\\2782400682.py:2: FutureWarning: The frame.append method is deprecated and will be removed from pandas in a future version. Use pandas.concat instead.\n",
      "  df2 = df2.append(df[df['category'] == categroy].head(10))\n",
      "C:\\Users\\DELL\\AppData\\Local\\Temp\\ipykernel_18448\\2782400682.py:2: FutureWarning: The frame.append method is deprecated and will be removed from pandas in a future version. Use pandas.concat instead.\n",
      "  df2 = df2.append(df[df['category'] == categroy].head(10))\n",
      "C:\\Users\\DELL\\AppData\\Local\\Temp\\ipykernel_18448\\2782400682.py:2: FutureWarning: The frame.append method is deprecated and will be removed from pandas in a future version. Use pandas.concat instead.\n",
      "  df2 = df2.append(df[df['category'] == categroy].head(10))\n",
      "C:\\Users\\DELL\\AppData\\Local\\Temp\\ipykernel_18448\\2782400682.py:2: FutureWarning: The frame.append method is deprecated and will be removed from pandas in a future version. Use pandas.concat instead.\n",
      "  df2 = df2.append(df[df['category'] == categroy].head(10))\n",
      "C:\\Users\\DELL\\AppData\\Local\\Temp\\ipykernel_18448\\2782400682.py:2: FutureWarning: The frame.append method is deprecated and will be removed from pandas in a future version. Use pandas.concat instead.\n",
      "  df2 = df2.append(df[df['category'] == categroy].head(10))\n",
      "C:\\Users\\DELL\\AppData\\Local\\Temp\\ipykernel_18448\\2782400682.py:2: FutureWarning: The frame.append method is deprecated and will be removed from pandas in a future version. Use pandas.concat instead.\n",
      "  df2 = df2.append(df[df['category'] == categroy].head(10))\n",
      "C:\\Users\\DELL\\AppData\\Local\\Temp\\ipykernel_18448\\2782400682.py:2: FutureWarning: The frame.append method is deprecated and will be removed from pandas in a future version. Use pandas.concat instead.\n",
      "  df2 = df2.append(df[df['category'] == categroy].head(10))\n",
      "C:\\Users\\DELL\\AppData\\Local\\Temp\\ipykernel_18448\\2782400682.py:2: FutureWarning: The frame.append method is deprecated and will be removed from pandas in a future version. Use pandas.concat instead.\n",
      "  df2 = df2.append(df[df['category'] == categroy].head(10))\n",
      "C:\\Users\\DELL\\AppData\\Local\\Temp\\ipykernel_18448\\2782400682.py:2: FutureWarning: The frame.append method is deprecated and will be removed from pandas in a future version. Use pandas.concat instead.\n",
      "  df2 = df2.append(df[df['category'] == categroy].head(10))\n"
     ]
    }
   ],
   "source": [
    "for categroy in df['category'].unique():\n",
    "    df2 = df2.append(df[df['category'] == categroy].head(10))"
   ]
  },
  {
   "cell_type": "code",
   "execution_count": 43,
   "metadata": {},
   "outputs": [
    {
     "data": {
      "text/html": [
       "<div>\n",
       "<style scoped>\n",
       "    .dataframe tbody tr th:only-of-type {\n",
       "        vertical-align: middle;\n",
       "    }\n",
       "\n",
       "    .dataframe tbody tr th {\n",
       "        vertical-align: top;\n",
       "    }\n",
       "\n",
       "    .dataframe thead th {\n",
       "        text-align: right;\n",
       "    }\n",
       "</style>\n",
       "<table border=\"1\" class=\"dataframe\">\n",
       "  <thead>\n",
       "    <tr style=\"text-align: right;\">\n",
       "      <th></th>\n",
       "      <th>description</th>\n",
       "      <th>category</th>\n",
       "      <th>Title</th>\n",
       "      <th>date</th>\n",
       "      <th>main_category</th>\n",
       "    </tr>\n",
       "  </thead>\n",
       "  <tbody>\n",
       "    <tr>\n",
       "      <th>0</th>\n",
       "      <td>include config h include math h include string...</td>\n",
       "      <td>C</td>\n",
       "      <td>C Code</td>\n",
       "      <td>2023-10-08</td>\n",
       "      <td>Code/C</td>\n",
       "    </tr>\n",
       "    <tr>\n",
       "      <th>1</th>\n",
       "      <td>ifdef HAVE_CONFIG_H include config h endif inc...</td>\n",
       "      <td>C</td>\n",
       "      <td>C Code</td>\n",
       "      <td>2023-10-08</td>\n",
       "      <td>Code/C</td>\n",
       "    </tr>\n",
       "    <tr>\n",
       "      <th>2</th>\n",
       "      <td>ifdef HAVE_CONFIG_H include config h endif inc...</td>\n",
       "      <td>C</td>\n",
       "      <td>C Code</td>\n",
       "      <td>2023-10-08</td>\n",
       "      <td>Code/C</td>\n",
       "    </tr>\n",
       "    <tr>\n",
       "      <th>3</th>\n",
       "      <td>include tools h define ROL_UNUSED include md5 ...</td>\n",
       "      <td>C</td>\n",
       "      <td>C Code</td>\n",
       "      <td>2023-10-08</td>\n",
       "      <td>Code/C</td>\n",
       "    </tr>\n",
       "    <tr>\n",
       "      <th>4</th>\n",
       "      <td>include typedefs h include osl h include bcmut...</td>\n",
       "      <td>C</td>\n",
       "      <td>C Code</td>\n",
       "      <td>2023-10-08</td>\n",
       "      <td>Code/C</td>\n",
       "    </tr>\n",
       "  </tbody>\n",
       "</table>\n",
       "</div>"
      ],
      "text/plain": [
       "                                         description category   Title  \\\n",
       "0  include config h include math h include string...        C  C Code   \n",
       "1  ifdef HAVE_CONFIG_H include config h endif inc...        C  C Code   \n",
       "2  ifdef HAVE_CONFIG_H include config h endif inc...        C  C Code   \n",
       "3  include tools h define ROL_UNUSED include md5 ...        C  C Code   \n",
       "4  include typedefs h include osl h include bcmut...        C  C Code   \n",
       "\n",
       "        date main_category  \n",
       "0 2023-10-08        Code/C  \n",
       "1 2023-10-08        Code/C  \n",
       "2 2023-10-08        Code/C  \n",
       "3 2023-10-08        Code/C  \n",
       "4 2023-10-08        Code/C  "
      ]
     },
     "execution_count": 43,
     "metadata": {},
     "output_type": "execute_result"
    }
   ],
   "source": [
    "df2.head()"
   ]
  },
  {
   "cell_type": "code",
   "execution_count": 44,
   "metadata": {},
   "outputs": [
    {
     "data": {
      "text/plain": [
       "array(['C', 'Jupyter Notebook', 'Ruby', 'Swift', 'HTML', 'SQL', 'Shell',\n",
       "       'Go', 'Scala', 'TypeScript', 'PowerShell', 'Lua', 'CoffeeScript',\n",
       "       'Kotlin', 'Dart', 'Haskell', 'Pascal', 'Java', 'Perl', 'Markdown',\n",
       "       'Erlang', 'Visual Basic', 'Groovy', 'Objective-C', 'JavaScript',\n",
       "       'Batchfile', 'PHP', 'C#', 'Julia', 'Python', 'Rust', 'TeX', 'C++',\n",
       "       'CSS'], dtype=object)"
      ]
     },
     "execution_count": 44,
     "metadata": {},
     "output_type": "execute_result"
    }
   ],
   "source": [
    "df2['category'].unique()"
   ]
  },
  {
   "cell_type": "code",
   "execution_count": 45,
   "metadata": {},
   "outputs": [
    {
     "data": {
      "text/plain": [
       "340"
      ]
     },
     "execution_count": 45,
     "metadata": {},
     "output_type": "execute_result"
    }
   ],
   "source": [
    "len(df2)"
   ]
  },
  {
   "cell_type": "code",
   "execution_count": 46,
   "metadata": {},
   "outputs": [],
   "source": [
    "#save to csv\n",
    "df2.to_csv('Code_final_dataset.csv', index=False)"
   ]
  },
  {
   "cell_type": "code",
   "execution_count": null,
   "metadata": {},
   "outputs": [],
   "source": []
  }
 ],
 "metadata": {
  "kernelspec": {
   "display_name": "Python 3",
   "language": "python",
   "name": "python3"
  },
  "language_info": {
   "codemirror_mode": {
    "name": "ipython",
    "version": 3
   },
   "file_extension": ".py",
   "mimetype": "text/x-python",
   "name": "python",
   "nbconvert_exporter": "python",
   "pygments_lexer": "ipython3",
   "version": "3.10.7"
  },
  "orig_nbformat": 4
 },
 "nbformat": 4,
 "nbformat_minor": 2
}
