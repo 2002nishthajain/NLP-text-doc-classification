{
 "cells": [
  {
   "cell_type": "code",
   "execution_count": 48,
   "metadata": {},
   "outputs": [
    {
     "data": {
      "text/html": [
       "<div>\n",
       "<style scoped>\n",
       "    .dataframe tbody tr th:only-of-type {\n",
       "        vertical-align: middle;\n",
       "    }\n",
       "\n",
       "    .dataframe tbody tr th {\n",
       "        vertical-align: top;\n",
       "    }\n",
       "\n",
       "    .dataframe thead th {\n",
       "        text-align: right;\n",
       "    }\n",
       "</style>\n",
       "<table border=\"1\" class=\"dataframe\">\n",
       "  <thead>\n",
       "    <tr style=\"text-align: right;\">\n",
       "      <th></th>\n",
       "      <th>description</th>\n",
       "      <th>category</th>\n",
       "    </tr>\n",
       "  </thead>\n",
       "  <tbody>\n",
       "    <tr>\n",
       "      <th>0</th>\n",
       "      <td>for i in range(10):\\n    print(i)\\n\\n# This Py...</td>\n",
       "      <td>Python</td>\n",
       "    </tr>\n",
       "    <tr>\n",
       "      <th>1</th>\n",
       "      <td>int main() {\\n    printf(\"Hello, World!\");\\n  ...</td>\n",
       "      <td>C</td>\n",
       "    </tr>\n",
       "    <tr>\n",
       "      <th>2</th>\n",
       "      <td>puts 'Hello, Ruby!'\\n\\n# This Ruby code prints...</td>\n",
       "      <td>Ruby</td>\n",
       "    </tr>\n",
       "    <tr>\n",
       "      <th>3</th>\n",
       "      <td>public static void main(String[] args) {\\n    ...</td>\n",
       "      <td>Java</td>\n",
       "    </tr>\n",
       "    <tr>\n",
       "      <th>4</th>\n",
       "      <td>console.log(\"Hello, JavaScript!\");\\n\\n// JavaS...</td>\n",
       "      <td>JavaScript</td>\n",
       "    </tr>\n",
       "  </tbody>\n",
       "</table>\n",
       "</div>"
      ],
      "text/plain": [
       "                                         description    category\n",
       "0  for i in range(10):\\n    print(i)\\n\\n# This Py...      Python\n",
       "1  int main() {\\n    printf(\"Hello, World!\");\\n  ...           C\n",
       "2  puts 'Hello, Ruby!'\\n\\n# This Ruby code prints...        Ruby\n",
       "3  public static void main(String[] args) {\\n    ...        Java\n",
       "4  console.log(\"Hello, JavaScript!\");\\n\\n// JavaS...  JavaScript"
      ]
     },
     "execution_count": 48,
     "metadata": {},
     "output_type": "execute_result"
    }
   ],
   "source": [
    "import pandas as pd\n",
    "df = pd.read_csv(r'code.csv')\n",
    "df.head()"
   ]
  },
  {
   "cell_type": "code",
   "execution_count": 49,
   "metadata": {},
   "outputs": [
    {
     "data": {
      "text/plain": [
       "array(['for i in range(10):\\\\n    print(i)\\\\n\\\\n# This Python code prints numbers from 0 to 9.',\n",
       "       'int main() {\\\\n    printf(\"Hello, World!\");\\\\n    return 0;\\\\n}\\\\n\\\\n// This is a C program that prints \\'Hello, World!\\'',\n",
       "       \"puts 'Hello, Ruby!'\\\\n\\\\n# This Ruby code prints 'Hello, Ruby!'\",\n",
       "       'public static void main(String[] args) {\\\\n    System.out.println(\"Hello, Java!\");\\\\n}\\\\n\\\\n// Java program to print \\'Hello, Java!\\'',\n",
       "       'console.log(\"Hello, JavaScript!\");\\\\n\\\\n// JavaScript code to print \\'Hello, JavaScript!\\'',\n",
       "       \"echo 'Hello, PHP!';\\\\n\\\\n// PHP code to echo 'Hello, PHP!'\",\n",
       "       \"SELECT * FROM users;\\\\n\\\\n-- SQL query to select all records from 'users' table\",\n",
       "       \"var message = 'Hello, TypeScript!';\\\\nconsole.log(message);\\\\n\\\\n// TypeScript code to print 'Hello, TypeScript!'\",\n",
       "       'func sayHello() {\\\\n    print(\"Hello, Swift!\")\\\\n}\\\\n\\\\n// Swift code to print \\'Hello, Swift!\\'',\n",
       "       \"<html>\\\\n  <body>\\\\n    <h1>Hello, HTML!</h1>\\\\n  </body>\\\\n</html>\\\\n\\\\n<!-- HTML code to display 'Hello, HTML!' -->\",\n",
       "       \"puts 'Hello, Kotlin!'\\\\n\\\\n# This Kotlin code prints 'Hello, Kotlin!'\",\n",
       "       \"import 'dart:io';\\\\nvoid main() {\\\\n    print('Hello, Dart!');\\\\n}\\\\n\\\\n// Dart code to print 'Hello, Dart!'\",\n",
       "       \"// This is a comment in C++\\\\n#include <iostream>\\\\nusing namespace std;\\\\nint main() {\\\\n    cout << 'Hello, C++!' << endl;\\\\n    return 0;\\\\n}\\\\n\\\\n// C++ code to print 'Hello, C++!'\",\n",
       "       'body {\\\\n    font-family: Arial, sans-serif;\\\\n    font-size: 16px;\\\\n}\\\\n\\\\n/* CSS code for setting font and size */',\n",
       "       \"import pandas as pd\\\\n\\\\n# This Python code imports pandas library\\\\nprint('Hello, Pandas!')\",\n",
       "       'public class Hello {\\\\n    public static void main(String[] args) {\\\\n        System.out.println(\"Hello, Java!\");\\\\n    }\\\\n}\\\\n\\\\n// Java program to print \\'Hello, Java!\\'',\n",
       "       'console.log(\"Hello, Node.js!\");\\\\n\\\\n// JavaScript code to print \\'Hello, Node.js!\\'',\n",
       "       \"echo 'Hello, World!';\\\\n\\\\n# This PHP code echoes 'Hello, World!'\",\n",
       "       \"SELECT name, age FROM users;\\\\n\\\\n-- SQL query to select 'name' and 'age' from 'users' table\",\n",
       "       \"var message = 'Hello, React Native!';\\\\nconsole.log(message);\\\\n\\\\n// TypeScript code to print 'Hello, React Native!'\",\n",
       "       'func sayHello() {\\\\n    print(\"Hello, SwiftUI!\")\\\\n}\\\\n\\\\n// Swift code to print \\'Hello, SwiftUI!\\'',\n",
       "       '<html>\\\\n  <body>\\\\n    <h1>Hello, Web Development!</h1>\\\\n  </body>\\\\n</html>\\\\n\\\\n<!-- HTML code for a web development greeting -->',\n",
       "       \"puts 'Hello, Android!'\\\\n\\\\n# This Kotlin code prints 'Hello, Android!'\",\n",
       "       \"import 'dart:io';\\\\nvoid main() {\\\\n    print('Hello, Flutter!');\\\\n}\\\\n\\\\n// Dart code to print 'Hello, Flutter!'\",\n",
       "       \"// This is a comment in C++\\\\n#include <iostream>\\\\nusing namespace std;\\\\nint main() {\\\\n    cout << 'Hello, World!' << endl;\\\\n    return 0;\\\\n}\\\\n\\\\n// C++ code to print 'Hello, World!'\",\n",
       "       'body {\\\\n    background-color: #3498db;\\\\n    color: white;\\\\n}\\\\n\\\\n/* CSS code for styling the body */',\n",
       "       \"import pandas as pd\\\\n\\\\n# This Python code imports pandas library\\\\nprint('Hello, Data Analysis!')\",\n",
       "       'public class Calculator {\\\\n    public static void main(String[] args) {\\\\n        int a = 5, b = 3;\\\\n        System.out.println(\"Sum: \" + (a + b));\\\\n    }\\\\n}\\\\n\\\\n// Java program to calculate the sum of two numbers',\n",
       "       'console.log(\"Hello, React!\");\\\\n\\\\n// JavaScript code to print \\'Hello, React!\\'',\n",
       "       \"echo 'Hello, Database!';\\\\n\\\\n# This PHP code echoes 'Hello, Database!'\",\n",
       "       \"SELECT product_name, price FROM products;\\\\n\\\\n-- SQL query to select 'product_name' and 'price' from 'products' table\",\n",
       "       \"var message = 'Hello, Vue.js!';\\\\nconsole.log(message);\\\\n\\\\n// TypeScript code to print 'Hello, Vue.js!'\",\n",
       "       'func sayHello() {\\\\n    print(\"Hello, Xcode!\")\\\\n}\\\\n\\\\n// Swift code to print \\'Hello, Xcode!\\'',\n",
       "       '<html>\\\\n  <body>\\\\n    <h1>Hello, CSS Styling!</h1>\\\\n  </body>\\\\n</html>\\\\n\\\\n<!-- HTML code for styling with CSS -->',\n",
       "       \"puts 'Hello, Raspberry Pi!'\\\\n\\\\n# This Ruby code prints 'Hello, Raspberry Pi!'\",\n",
       "       \"import 'dart:io';\\\\nvoid main() {\\\\n    print('Hello, IoT!');\\\\n}\\\\n\\\\n// Dart code to print 'Hello, IoT!'\",\n",
       "       \"// This is a comment in C++\\\\n#include <iostream>\\\\nusing namespace std;\\\\nint main() {\\\\n    cout << 'Hello, C++ Programming!' << endl;\\\\n    return 0;\\\\n}\\\\n\\\\n// C++ code to print 'Hello, C++ Programming!'\",\n",
       "       'body {\\\\n    margin: 0;\\\\n    padding: 0;\\\\n}\\\\n\\\\n/* CSS code for resetting margins and paddings */',\n",
       "       \"import pandas as pd\\\\n\\\\n# This Python code imports pandas library\\\\nprint('Hello, Data Science!')\",\n",
       "       'public class Rectangle {\\\\n    int length, width;\\\\n    public int calculateArea() {\\\\n        return length * width;\\\\n    }\\\\n}\\\\n\\\\n// Java class to calculate the area of a rectangle',\n",
       "       'console.log(\"Hello, Express.js!\");\\\\n\\\\n// JavaScript code to print \\'Hello, Express.js!\\'',\n",
       "       \"echo 'Hello, Laravel!';\\\\n\\\\n# This PHP code echoes 'Hello, Laravel!'\",\n",
       "       \"SELECT city, population FROM cities;\\\\n\\\\n-- SQL query to select 'city' and 'population' from 'cities' table\",\n",
       "       \"var message = 'Hello, Angular!';\\\\nconsole.log(message);\\\\n\\\\n// TypeScript code to print 'Hello, Angular!'\",\n",
       "       'func sayHello() {\\\\n    print(\"Hello, watchOS!\")\\\\n}\\\\n\\\\n// Swift code to print \\'Hello, watchOS!\\'',\n",
       "       '<html>\\\\n  <body>\\\\n    <h1>Hello, Responsive Design!</h1>\\\\n  </body>\\\\n</html>\\\\n\\\\n<!-- HTML code for responsive web design -->',\n",
       "       \"puts 'Hello, Robotics!'\\\\n\\\\n# This Ruby code prints 'Hello, Robotics!'\",\n",
       "       \"import 'dart:io';\\\\nvoid main() {\\\\n    print('Hello, Robotics World!');\\\\n}\\\\n\\\\n// Dart code to print 'Hello, Robotics World!'\",\n",
       "       \"// This is a comment in C++\\\\n#include <iostream>\\\\nusing namespace std;\\\\nint main() {\\\\n    cout << 'Hello, Robotics Programming!' << endl;\\\\n    return 0;\\\\n}\\\\n\\\\n// C++ code to print 'Hello, Robotics Programming!'\",\n",
       "       'body {\\\\n    border: 1px solid #ddd;\\\\n}\\\\n\\\\n/* CSS code for adding a border to elements */',\n",
       "       \"import pandas as pd\\\\n\\\\n# This Python code imports pandas library\\\\nprint('Hello, Machine Learning!')\",\n",
       "       'public class Circle {\\\\n    double radius;\\\\n    public double calculateArea() {\\\\n        return Math.PI * radius * radius;\\\\n    }\\\\n}\\\\n\\\\n// Java class to calculate the area of a circle',\n",
       "       'console.log(\"Hello, Redux!\");\\\\n\\\\n// JavaScript code to print \\'Hello, Redux!\\'',\n",
       "       \"echo 'Hello, Symfony!';\\\\n\\\\n# This PHP code echoes 'Hello, Symfony!'\",\n",
       "       \"SELECT book_title, author FROM books;\\\\n\\\\n-- SQL query to select 'book_title' and 'author' from 'books' table\",\n",
       "       \"var message = 'Hello, RxJS!';\\\\nconsole.log(message);\\\\n\\\\n// TypeScript code to print 'Hello, RxJS!'\",\n",
       "       'func sayHello() {\\\\n    print(\"Hello, ARKit!\")\\\\n}\\\\n\\\\n// Swift code to print \\'Hello, ARKit!\\'',\n",
       "       '<html>\\\\n  <body>\\\\n    <h1>Hello, Flexbox Layout!</h1>\\\\n  </body>\\\\n</html>\\\\n\\\\n<!-- HTML code for flexbox layout -->',\n",
       "       \"puts 'Hello, Blockchain!'\\\\n\\\\n# This Ruby code prints 'Hello, Blockchain!'\",\n",
       "       \"import 'dart:io';\\\\nvoid main() {\\\\n    print('Hello, Blockchain World!');\\\\n}\\\\n\\\\n// Dart code to print 'Hello, Blockchain World!'\",\n",
       "       \"// This is a comment in C++\\\\n#include <iostream>\\\\nusing namespace std;\\\\nint main() {\\\\n    cout << 'Hello, Blockchain Programming!' << endl;\\\\n    return 0;\\\\n}\\\\n\\\\n// C++ code to print 'Hello, Blockchain Programming!'\",\n",
       "       'body {\\\\n    text-align: center;\\\\n}\\\\n\\\\n/* CSS code for centering text */',\n",
       "       \"import pandas as pd\\\\n\\\\n# This Python code imports pandas library\\\\nprint('Hello, Deep Learning!')\",\n",
       "       'public class Triangle {\\\\n    double base, height;\\\\n    public double calculateArea() {\\\\n        return 0.5 * base * height;\\\\n    }\\\\n}\\\\n\\\\n// Java class to calculate the area of a triangle',\n",
       "       'console.log(\"Hello, Vue.js 3!\");\\\\n\\\\n// JavaScript code to print \\'Hello, Vue.js 3!\\'',\n",
       "       \"echo 'Hello, WordPress!';\\\\n\\\\n# This PHP code echoes 'Hello, WordPress!'\",\n",
       "       \"SELECT song_title, artist FROM songs;\\\\n\\\\n-- SQL query to select 'song_title' and 'artist' from 'songs' table\",\n",
       "       \"var message = 'Hello, GraphQL!';\\\\nconsole.log(message);\\\\n\\\\n// TypeScript code to print 'Hello, GraphQL!'\",\n",
       "       'func sayHello() {\\\\n    print(\"Hello, SceneKit!\")\\\\n}\\\\n\\\\n// Swift code to print \\'Hello, SceneKit!\\'',\n",
       "       '<html>\\\\n  <body>\\\\n    <h1>Hello, CSS Grid Layout!</h1>\\\\n  </body>\\\\n</html>\\\\n\\\\n<!-- HTML code for CSS grid layout -->',\n",
       "       \"puts 'Hello, Game Development!'\\\\n\\\\n# This Ruby code prints 'Hello, Game Development!'\",\n",
       "       \"import 'dart:io';\\\\nvoid main() {\\\\n    print('Hello, Game Dev World!');\\\\n}\\\\n\\\\n// Dart code to print 'Hello, Game Dev World!'\",\n",
       "       \"// This is a comment in C++\\\\n#include <iostream>\\\\nusing namespace std;\\\\nint main() {\\\\n    cout << 'Hello, Game Dev Programming!' << endl;\\\\n    return 0;\\\\n}\\\\n\\\\n// C++ code to print 'Hello, Game Dev Programming!'\",\n",
       "       \"body {\\\\n    background-image: url('background.jpg');\\\\n}\\\\n\\\\n/* CSS code for setting a background image */\",\n",
       "       \"import pandas as pd\\\\n\\\\n# This Python code imports pandas library\\\\nprint('Hello, Natural Language Processing!')\",\n",
       "       'public class Square {\\\\n    double side;\\\\n    public double calculateArea() {\\\\n        return side * side;\\\\n    }\\\\n}\\\\n\\\\n// Java class to calculate the area of a square',\n",
       "       'console.log(\"Hello, Electron!\");\\\\n\\\\n// JavaScript code to print \\'Hello, Electron!\\'',\n",
       "       \"echo 'Hello, Joomla!';\\\\n\\\\n# This PHP code echoes 'Hello, Joomla!'\",\n",
       "       \"SELECT product_name, category FROM products;\\\\n\\\\n-- SQL query to select 'product_name' and 'category' from 'products' table\",\n",
       "       \"var message = 'Hello, TensorFlow!';\\\\nconsole.log(message);\\\\n\\\\n// TypeScript code to print 'Hello, TensorFlow!'\",\n",
       "       'func sayHello() {\\\\n    print(\"Hello, Metal!\")\\\\n}\\\\n\\\\n// Swift code to print \\'Hello, Metal!\\'',\n",
       "       '<html>\\\\n  <body>\\\\n    <h1>Hello, Web Animation!</h1>\\\\n  </body>\\\\n</html>\\\\n\\\\n<!-- HTML code for web animation -->',\n",
       "       \"puts 'Hello, Cybersecurity!'\\\\n\\\\n# This Ruby code prints 'Hello, Cybersecurity!'\",\n",
       "       \"import 'dart:io';\\\\nvoid main() {\\\\n    print('Hello, Cybersecurity World!');\\\\n}\\\\n\\\\n// Dart code to print 'Hello, Cybersecurity World!'\",\n",
       "       \"// This is a comment in C++\\\\n#include <iostream>\\\\nusing namespace std;\\\\nint main() {\\\\n    cout << 'Hello, Cybersecurity Programming!' << endl;\\\\n    return 0;\\\\n}\\\\n\\\\n// C++ code to print 'Hello, Cybersecurity Programming!'\",\n",
       "       'body {\\\\n    color: #333;\\\\n}\\\\n\\\\n/* CSS code for setting text color */',\n",
       "       \"import pandas as pd\\\\n\\\\n# This Python code imports pandas library\\\\nprint('Hello, Artificial Intelligence!')\",\n",
       "       \"public class Employee {\\\\n    String name;\\\\n    int id;\\\\n    public void displayInfo() {\\\\n        System.out.println('Name: ' + name);\\\\n    }\\\\n}\\\\n\\\\n// Java class to display employee information\",\n",
       "       'console.log(\"Hello, Three.js!\");\\\\n\\\\n// JavaScript code to print \\'Hello, Three.js!\\'',\n",
       "       \"echo 'Hello, Magento!';\\\\n\\\\n# This PHP code echoes 'Hello, Magento!'\",\n",
       "       \"SELECT movie_title, director FROM movies;\\\\n\\\\n-- SQL query to select 'movie_title' and 'director' from 'movies' table\",\n",
       "       \"var message = 'Hello, Rust!';\\\\nconsole.log(message);\\\\n\\\\n// TypeScript code to print 'Hello, Rust!'\",\n",
       "       'func sayHello() {\\\\n    print(\"Hello, OpenCV!\")\\\\n}\\\\n\\\\n// Swift code to print \\'Hello, OpenCV!\\'',\n",
       "       '<html>\\\\n  <body>\\\\n    <h1>Hello, CSS Transitions!</h1>\\\\n  </body>\\\\n</html>\\\\n\\\\n<!-- HTML code for CSS transitions -->',\n",
       "       \"puts 'Hello, Cloud Computing!'\\\\n\\\\n# This Ruby code prints 'Hello, Cloud Computing!'\",\n",
       "       \"import 'dart:io';\\\\nvoid main() {\\\\n    print('Hello, Cloud Computing World!');\\\\n}\\\\n\\\\n// Dart code to print 'Hello, Cloud Computing World!'\",\n",
       "       \"// This is a comment in C++\\\\n#include <iostream>\\\\nusing namespace std;\\\\nint main() {\\\\n    cout << 'Hello, Cloud Computing Programming!' << endl;\\\\n    return 0;\\\\n}\\\\n\\\\n// C++ code to print 'Hello, Cloud Computing Programming!'\",\n",
       "       'body {\\\\n    font-weight: bold;\\\\n}\\\\n\\\\n/* CSS code for setting font weight */',\n",
       "       \"import pandas as pd\\\\n\\\\n# This Python code imports pandas library\\\\nprint('Hello, Cloud Services!')\",\n",
       "       \"public class Car {\\\\n    String make, model;\\\\n    public void start() {\\\\n        System.out.println('The car is starting.');\\\\n    }\\\\n}\\\\n\\\\n// Java class for starting a car\",\n",
       "       'console.log(\"Hello, Serverless!\");\\\\n\\\\n// JavaScript code to print \\'Hello, Serverless!\\'',\n",
       "       \"echo 'Hello, Docker!';\\\\n\\\\n# This PHP code echoes 'Hello, Docker!'\",\n",
       "       \"SELECT city_name, population FROM cities;\\\\n\\\\n-- SQL query to select 'city_name' and 'population' from 'cities' table\",\n",
       "       \"var message = 'Hello, Heroku!';\\\\nconsole.log(message);\\\\n\\\\n// TypeScript code to print 'Hello, Heroku!'\",\n",
       "       'func sayHello() {\\\\n    print(\"Hello, CloudFormation!\")\\\\n}\\\\n\\\\n// Swift code to print \\'Hello, CloudFormation!\\'',\n",
       "       '<html>\\\\n  <body>\\\\n    <h1>Hello, CSS Animations!</h1>\\\\n  </body>\\\\n</html>\\\\n\\\\n<!-- HTML code for CSS animations -->',\n",
       "       \"puts 'Hello, DevOps!'\\\\n\\\\n# This Ruby code prints 'Hello, DevOps!'\",\n",
       "       \"import 'dart:io';\\\\nvoid main() {\\\\n    print('Hello, DevOps World!');\\\\n}\\\\n\\\\n// Dart code to print 'Hello, DevOps World!'\",\n",
       "       \"// This is a comment in C++\\\\n#include <iostream>\\\\nusing namespace std;\\\\nint main() {\\\\n    cout << 'Hello, DevOps Programming!' << endl;\\\\n    return 0;\\\\n}\\\\n\\\\n// C++ code to print 'Hello, DevOps Programming!'\",\n",
       "       'body {\\\\n    background-color: #f2f2f2;\\\\n}\\\\n\\\\n/* CSS code for setting background color */',\n",
       "       \"import pandas as pd\\\\n\\\\n# This Python code imports pandas library\\\\nprint('Hello, Continuous Integration!')\",\n",
       "       \"public class Dog {\\\\n    String name;\\\\n    public void bark() {\\\\n        System.out.println('Woof! Woof!');\\\\n    }\\\\n}\\\\n\\\\n// Java class for a barking dog\",\n",
       "       'console.log(\"Hello, Jenkins!\");\\\\n\\\\n// JavaScript code to print \\'Hello, Jenkins!\\'',\n",
       "       \"echo 'Hello, Travis CI!';\\\\n\\\\n# This PHP code echoes 'Hello, Travis CI!'\",\n",
       "       \"SELECT product_name, quantity FROM inventory;\\\\n\\\\n-- SQL query to select 'product_name' and 'quantity' from 'inventory' table\",\n",
       "       \"var message = 'Hello, CircleCI!';\\\\nconsole.log(message);\\\\n\\\\n// TypeScript code to print 'Hello, CircleCI!'\",\n",
       "       'func sayHello() {\\\\n    print(\"Hello, CircleCI!\")\\\\n}\\\\n\\\\n// Swift code to print \\'Hello, CircleCI!\\'',\n",
       "       '<html>\\\\n  <body>\\\\n    <h1>Hello, CSS Flexbox!</h1>\\\\n  </body>\\\\n</html>\\\\n\\\\n<!-- HTML code for CSS flexbox layout -->',\n",
       "       \"puts 'Hello, Virtual Reality!'\\\\n\\\\n# This Ruby code prints 'Hello, Virtual Reality!'\",\n",
       "       \"import 'dart:io';\\\\nvoid main() {\\\\n    print('Hello, Virtual Reality World!');\\\\n}\\\\n\\\\n// Dart code to print 'Hello, Virtual Reality World!'\",\n",
       "       \"// This is a comment in C++\\\\n#include <iostream>\\\\nusing namespace std;\\\\nint main() {\\\\n    cout << 'Hello, Virtual Reality Programming!' << endl;\\\\n    return 0;\\\\n}\\\\n\\\\n// C++ code to print 'Hello, Virtual Reality Programming!'\",\n",
       "       'body {\\\\n    line-height: 1.6;\\\\n}\\\\n\\\\n/* CSS code for setting line height */',\n",
       "       \"import pandas as pd\\\\n\\\\n# This Python code imports pandas library\\\\nprint('Hello, Augmented Reality!')\",\n",
       "       \"public class Cat {\\\\n    String name;\\\\n    public void meow() {\\\\n        System.out.println('Meow!');\\\\n    }\\\\n}\\\\n\\\\n// Java class for a meowing cat\",\n",
       "       'console.log(\"Hello, Augmented Reality!\");\\\\n\\\\n// JavaScript code to print \\'Hello, Augmented Reality!\\'',\n",
       "       \"echo 'Hello, Augmented Reality!';\\\\n\\\\n# This PHP code echoes 'Hello, Augmented Reality!'\",\n",
       "       \"SELECT game_title, genre FROM games;\\\\n\\\\n-- SQL query to select 'game_title' and 'genre' from 'games' table\"],\n",
       "      dtype=object)"
      ]
     },
     "execution_count": 49,
     "metadata": {},
     "output_type": "execute_result"
    }
   ],
   "source": [
    "df['description'].unique()"
   ]
  },
  {
   "cell_type": "code",
   "execution_count": 50,
   "metadata": {},
   "outputs": [
    {
     "data": {
      "text/plain": [
       "description    0\n",
       "category       0\n",
       "dtype: int64"
      ]
     },
     "execution_count": 50,
     "metadata": {},
     "output_type": "execute_result"
    }
   ],
   "source": [
    "df.isnull().sum()"
   ]
  },
  {
   "cell_type": "code",
   "execution_count": 51,
   "metadata": {},
   "outputs": [
    {
     "data": {
      "text/plain": [
       "127"
      ]
     },
     "execution_count": 51,
     "metadata": {},
     "output_type": "execute_result"
    }
   ],
   "source": [
    "#total rows \n",
    "len(df)"
   ]
  },
  {
   "cell_type": "code",
   "execution_count": 52,
   "metadata": {},
   "outputs": [],
   "source": [
    "import pandas as pd\n",
    "import re\n",
    "def clean_code(code):\n",
    "    # Remove comments (lines starting with // or /* and ending with */)\n",
    "    code = re.sub(r'//.*?$', '', code, flags=re.MULTILINE)\n",
    "    code = re.sub(r'/\\*.*?\\*/', '', code, flags=re.MULTILINE | re.DOTALL)\n",
    "\n",
    "    # Remove non-alphanumeric characters and extra whitespaces\n",
    "    code = ' '.join(re.findall(r'\\w+', code))\n",
    "\n",
    "    return code"
   ]
  },
  {
   "cell_type": "code",
   "execution_count": 53,
   "metadata": {},
   "outputs": [],
   "source": [
    "df['description'] = df['description'].apply(clean_code)"
   ]
  },
  {
   "cell_type": "code",
   "execution_count": 54,
   "metadata": {},
   "outputs": [
    {
     "data": {
      "text/html": [
       "<div>\n",
       "<style scoped>\n",
       "    .dataframe tbody tr th:only-of-type {\n",
       "        vertical-align: middle;\n",
       "    }\n",
       "\n",
       "    .dataframe tbody tr th {\n",
       "        vertical-align: top;\n",
       "    }\n",
       "\n",
       "    .dataframe thead th {\n",
       "        text-align: right;\n",
       "    }\n",
       "</style>\n",
       "<table border=\"1\" class=\"dataframe\">\n",
       "  <thead>\n",
       "    <tr style=\"text-align: right;\">\n",
       "      <th></th>\n",
       "      <th>description</th>\n",
       "      <th>category</th>\n",
       "    </tr>\n",
       "  </thead>\n",
       "  <tbody>\n",
       "    <tr>\n",
       "      <th>0</th>\n",
       "      <td>for i in range 10 n print i n n This Python co...</td>\n",
       "      <td>Python</td>\n",
       "    </tr>\n",
       "    <tr>\n",
       "      <th>1</th>\n",
       "      <td>int main n printf Hello World n return 0 n n n</td>\n",
       "      <td>C</td>\n",
       "    </tr>\n",
       "    <tr>\n",
       "      <th>2</th>\n",
       "      <td>puts Hello Ruby n n This Ruby code prints Hell...</td>\n",
       "      <td>Ruby</td>\n",
       "    </tr>\n",
       "    <tr>\n",
       "      <th>3</th>\n",
       "      <td>public static void main String args n System o...</td>\n",
       "      <td>Java</td>\n",
       "    </tr>\n",
       "    <tr>\n",
       "      <th>4</th>\n",
       "      <td>console log Hello JavaScript n n</td>\n",
       "      <td>JavaScript</td>\n",
       "    </tr>\n",
       "  </tbody>\n",
       "</table>\n",
       "</div>"
      ],
      "text/plain": [
       "                                         description    category\n",
       "0  for i in range 10 n print i n n This Python co...      Python\n",
       "1     int main n printf Hello World n return 0 n n n           C\n",
       "2  puts Hello Ruby n n This Ruby code prints Hell...        Ruby\n",
       "3  public static void main String args n System o...        Java\n",
       "4                   console log Hello JavaScript n n  JavaScript"
      ]
     },
     "execution_count": 54,
     "metadata": {},
     "output_type": "execute_result"
    }
   ],
   "source": [
    "df.head()"
   ]
  },
  {
   "cell_type": "code",
   "execution_count": 55,
   "metadata": {},
   "outputs": [],
   "source": [
    "df['Title'] = df['category'] "
   ]
  },
  {
   "cell_type": "code",
   "execution_count": 56,
   "metadata": {},
   "outputs": [
    {
     "data": {
      "text/plain": [
       "array(['Python', 'C', 'Ruby', 'Java', 'JavaScript', 'PHP', 'SQL',\n",
       "       'TypeScript', 'Swift', 'HTML', 'Kotlin', 'Dart', 'C++', 'CSS'],\n",
       "      dtype=object)"
      ]
     },
     "execution_count": 56,
     "metadata": {},
     "output_type": "execute_result"
    }
   ],
   "source": [
    "df['Title'].unique()"
   ]
  },
  {
   "cell_type": "code",
   "execution_count": 57,
   "metadata": {},
   "outputs": [],
   "source": [
    "#Adding a date column\n",
    "df['date'] = '2023-10-08'\n",
    "df['date'] = pd.to_datetime(df['date'])\n",
    "df['main_category'] = 'Code'"
   ]
  },
  {
   "cell_type": "code",
   "execution_count": 58,
   "metadata": {},
   "outputs": [],
   "source": [
    "#Renaming language column to category\n",
    "df.rename(columns={'language': 'category'}, inplace=True)"
   ]
  },
  {
   "cell_type": "code",
   "execution_count": 59,
   "metadata": {},
   "outputs": [
    {
     "data": {
      "text/html": [
       "<div>\n",
       "<style scoped>\n",
       "    .dataframe tbody tr th:only-of-type {\n",
       "        vertical-align: middle;\n",
       "    }\n",
       "\n",
       "    .dataframe tbody tr th {\n",
       "        vertical-align: top;\n",
       "    }\n",
       "\n",
       "    .dataframe thead th {\n",
       "        text-align: right;\n",
       "    }\n",
       "</style>\n",
       "<table border=\"1\" class=\"dataframe\">\n",
       "  <thead>\n",
       "    <tr style=\"text-align: right;\">\n",
       "      <th></th>\n",
       "      <th>description</th>\n",
       "      <th>category</th>\n",
       "      <th>Title</th>\n",
       "      <th>date</th>\n",
       "      <th>main_category</th>\n",
       "    </tr>\n",
       "  </thead>\n",
       "  <tbody>\n",
       "    <tr>\n",
       "      <th>0</th>\n",
       "      <td>for i in range 10 n print i n n This Python co...</td>\n",
       "      <td>Python</td>\n",
       "      <td>Python</td>\n",
       "      <td>2023-10-08</td>\n",
       "      <td>Code</td>\n",
       "    </tr>\n",
       "    <tr>\n",
       "      <th>1</th>\n",
       "      <td>int main n printf Hello World n return 0 n n n</td>\n",
       "      <td>C</td>\n",
       "      <td>C</td>\n",
       "      <td>2023-10-08</td>\n",
       "      <td>Code</td>\n",
       "    </tr>\n",
       "    <tr>\n",
       "      <th>2</th>\n",
       "      <td>puts Hello Ruby n n This Ruby code prints Hell...</td>\n",
       "      <td>Ruby</td>\n",
       "      <td>Ruby</td>\n",
       "      <td>2023-10-08</td>\n",
       "      <td>Code</td>\n",
       "    </tr>\n",
       "    <tr>\n",
       "      <th>3</th>\n",
       "      <td>public static void main String args n System o...</td>\n",
       "      <td>Java</td>\n",
       "      <td>Java</td>\n",
       "      <td>2023-10-08</td>\n",
       "      <td>Code</td>\n",
       "    </tr>\n",
       "    <tr>\n",
       "      <th>4</th>\n",
       "      <td>console log Hello JavaScript n n</td>\n",
       "      <td>JavaScript</td>\n",
       "      <td>JavaScript</td>\n",
       "      <td>2023-10-08</td>\n",
       "      <td>Code</td>\n",
       "    </tr>\n",
       "  </tbody>\n",
       "</table>\n",
       "</div>"
      ],
      "text/plain": [
       "                                         description    category       Title  \\\n",
       "0  for i in range 10 n print i n n This Python co...      Python      Python   \n",
       "1     int main n printf Hello World n return 0 n n n           C           C   \n",
       "2  puts Hello Ruby n n This Ruby code prints Hell...        Ruby        Ruby   \n",
       "3  public static void main String args n System o...        Java        Java   \n",
       "4                   console log Hello JavaScript n n  JavaScript  JavaScript   \n",
       "\n",
       "        date main_category  \n",
       "0 2023-10-08          Code  \n",
       "1 2023-10-08          Code  \n",
       "2 2023-10-08          Code  \n",
       "3 2023-10-08          Code  \n",
       "4 2023-10-08          Code  "
      ]
     },
     "execution_count": 59,
     "metadata": {},
     "output_type": "execute_result"
    }
   ],
   "source": [
    "df.head()"
   ]
  },
  {
   "cell_type": "code",
   "execution_count": 60,
   "metadata": {},
   "outputs": [],
   "source": [
    "#save to csv\n",
    "df.to_csv('Code_final_dataset.csv', index=False)"
   ]
  },
  {
   "cell_type": "code",
   "execution_count": null,
   "metadata": {},
   "outputs": [],
   "source": []
  }
 ],
 "metadata": {
  "kernelspec": {
   "display_name": "Python 3",
   "language": "python",
   "name": "python3"
  },
  "language_info": {
   "codemirror_mode": {
    "name": "ipython",
    "version": 3
   },
   "file_extension": ".py",
   "mimetype": "text/x-python",
   "name": "python",
   "nbconvert_exporter": "python",
   "pygments_lexer": "ipython3",
   "version": "3.10.7"
  },
  "orig_nbformat": 4
 },
 "nbformat": 4,
 "nbformat_minor": 2
}
